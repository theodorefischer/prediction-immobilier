{
 "cells": [
  {
   "cell_type": "markdown",
   "id": "3eb276e1",
   "metadata": {},
   "source": [
    "# Testing differents ML models\n",
    "\n",
    "#### Dans ce notebook, le but est de tester les modèles de sickit-learn pour trouver le meilleurs modèles sur nos données"
   ]
  },
  {
   "cell_type": "markdown",
   "id": "1529229f",
   "metadata": {},
   "source": [
    "## Chargement des données "
   ]
  },
  {
   "cell_type": "code",
   "execution_count": 1,
   "id": "b6a86686",
   "metadata": {},
   "outputs": [],
   "source": [
    "# Importing the librairies\n",
    "import pandas as pd\n",
    "\n",
    "# Exporting the csv file into a DataFrame pandas\n",
    "chemin_fichier = \"../data/data_cleaned.csv\"\n",
    "df = pd.read_csv(chemin_fichier)"
   ]
  },
  {
   "cell_type": "code",
   "execution_count": 2,
   "id": "862bf0c1",
   "metadata": {},
   "outputs": [],
   "source": [
    "# Convertir en entier puis extraire les deux derniers chiffres\n",
    "df['arrondissement'] = df['code_postal'].astype(int) % 100\n",
    "\n",
    "df.drop(columns=\"code_postal\", inplace=True)\n",
    "df.drop(columns='nom_commune', inplace=True)\n",
    "df.drop(columns='adresse_nom_voie', inplace = True)\n",
    "df.drop(columns='date_mutation', inplace=True)"
   ]
  },
  {
   "cell_type": "code",
   "execution_count": 3,
   "id": "e858accd",
   "metadata": {},
   "outputs": [
    {
     "data": {
      "application/vnd.microsoft.datawrangler.viewer.v0+json": {
       "columns": [
        {
         "name": "index",
         "rawType": "int64",
         "type": "integer"
        },
        {
         "name": "adresse_numero",
         "rawType": "float64",
         "type": "float"
        },
        {
         "name": "adresse_code_voie",
         "rawType": "float64",
         "type": "float"
        },
        {
         "name": "lot1_surface_carrez",
         "rawType": "float64",
         "type": "float"
        },
        {
         "name": "surface_reelle_bati",
         "rawType": "float64",
         "type": "float"
        },
        {
         "name": "nombre_pieces_principales",
         "rawType": "float64",
         "type": "float"
        },
        {
         "name": "longitude",
         "rawType": "float64",
         "type": "float"
        },
        {
         "name": "latitude",
         "rawType": "float64",
         "type": "float"
        },
        {
         "name": "prix_au_m2",
         "rawType": "float64",
         "type": "float"
        },
        {
         "name": "année",
         "rawType": "int64",
         "type": "integer"
        },
        {
         "name": "arrondissement",
         "rawType": "int64",
         "type": "integer"
        }
       ],
       "ref": "43d589dc-261d-4abc-883d-dfbf7ed9915d",
       "rows": [
        [
         "0",
         "13.0",
         "9002.0",
         "61.0",
         "25.0",
         "2.0",
         "2.348168",
         "48.88449",
         "9508.196721311477",
         "2022",
         "18"
        ],
        [
         "1",
         "51.0",
         "1880.0",
         "40.66",
         "42.0",
         "3.0",
         "2.362871",
         "48.863374",
         "14879.48844072799",
         "2022",
         "3"
        ],
        [
         "2",
         "134.0",
         "3933.0",
         "32.52",
         "29.0",
         "1.0",
         "2.405513",
         "48.872782",
         "9840.098400984009",
         "2022",
         "20"
        ],
        [
         "3",
         "9.0",
         "3192.0",
         "34.53",
         "36.0",
         "2.0",
         "2.386648",
         "48.869335",
         "6371.271358239212",
         "2022",
         "20"
        ],
        [
         "4",
         "18.0",
         "4452.0",
         "24.59",
         "28.0",
         "2.0",
         "2.400622",
         "48.852508",
         "11386.742578283856",
         "2022",
         "20"
        ],
        [
         "5",
         "195.0",
         "2443.0",
         "27.64",
         "27.0",
         "2.0",
         "2.375845",
         "48.891167",
         "7235.89001447178",
         "2022",
         "19"
        ],
        [
         "6",
         "79.0",
         "4302.0",
         "57.12",
         "58.0",
         "3.0",
         "2.353479",
         "48.864674",
         "11860.994397759105",
         "2022",
         "3"
        ],
        [
         "7",
         "141.0",
         "7564.0",
         "81.36",
         "81.0",
         "3.0",
         "2.352517",
         "48.895742",
         "8112.094395280236",
         "2022",
         "18"
        ],
        [
         "8",
         "89.0",
         "8339.0",
         "74.38",
         "70.0",
         "3.0",
         "2.319232",
         "48.883017",
         "11024.46894326432",
         "2022",
         "17"
        ],
        [
         "9",
         "7.0",
         "8686.0",
         "23.55",
         "22.0",
         "1.0",
         "2.341378",
         "48.870214",
         "12441.613588110404",
         "2022",
         "2"
        ],
        [
         "10",
         "42.0",
         "5764.0",
         "38.53",
         "40.0",
         "3.0",
         "2.364455",
         "48.881942",
         "10536.465092135995",
         "2022",
         "10"
        ],
        [
         "11",
         "14.0",
         "7248.0",
         "47.59",
         "48.0",
         "2.0",
         "2.361158",
         "48.861123",
         "10611.4729985291",
         "2022",
         "3"
        ],
        [
         "12",
         "15.0",
         "4679.0",
         "20.04",
         "19.0",
         "1.0",
         "2.356846",
         "48.876155",
         "12350.299401197606",
         "2022",
         "10"
        ],
        [
         "13",
         "82.0",
         "4452.0",
         "55.49",
         "40.0",
         "2.0",
         "2.40389",
         "48.854813",
         "11114.615245990268",
         "2022",
         "20"
        ],
        [
         "14",
         "55.0",
         "9092.0",
         "32.36",
         "38.0",
         "1.0",
         "2.355461",
         "48.88954",
         "9270.70457354759",
         "2022",
         "18"
        ],
        [
         "15",
         "23.0",
         "9207.0",
         "51.9",
         "52.0",
         "2.0",
         "2.362334",
         "48.877306",
         "9723.506743737958",
         "2022",
         "10"
        ],
        [
         "16",
         "75.0",
         "6773.0",
         "32.95",
         "33.0",
         "2.0",
         "2.295735",
         "48.882706",
         "10166.919575113809",
         "2022",
         "17"
        ],
        [
         "17",
         "7.0",
         "1500.0",
         "15.73",
         "14.0",
         "1.0",
         "2.405101",
         "48.86549",
         "9535.918626827715",
         "2022",
         "20"
        ],
        [
         "18",
         "24.0",
         "5228.0",
         "18.0",
         "31.0",
         "2.0",
         "2.323034",
         "48.887436",
         "12500.0",
         "2022",
         "17"
        ],
        [
         "19",
         "24.0",
         "5228.0",
         "31.32",
         "54.0",
         "3.0",
         "2.323034",
         "48.887436",
         "10057.471264367816",
         "2022",
         "17"
        ],
        [
         "20",
         "21.0",
         "4907.0",
         "47.49",
         "45.0",
         "2.0",
         "2.325655",
         "48.894863",
         "9303.01116024426",
         "2022",
         "17"
        ],
        [
         "21",
         "3.0",
         "7151.0",
         "20.31",
         "23.0",
         "2.0",
         "2.360887",
         "48.865301",
         "14593.796159527328",
         "2022",
         "3"
        ],
        [
         "22",
         "99.0",
         "5951.0",
         "76.0",
         "64.0",
         "3.0",
         "2.314225",
         "48.878897",
         "16447.36842105263",
         "2022",
         "8"
        ],
        [
         "23",
         "7.0",
         "1547.0",
         "17.35",
         "25.0",
         "1.0",
         "2.329484",
         "48.881339",
         "12343.515850144093",
         "2022",
         "9"
        ],
        [
         "24",
         "30.0",
         "1063.0",
         "41.05",
         "41.0",
         "2.0",
         "2.399576",
         "48.878162",
         "7527.405602923265",
         "2022",
         "19"
        ],
        [
         "25",
         "62.0",
         "2088.0",
         "53.25",
         "70.0",
         "3.0",
         "2.370665",
         "48.876632",
         "9107.981220657275",
         "2022",
         "10"
        ],
        [
         "26",
         "23.0",
         "1009.0",
         "28.2",
         "29.0",
         "1.0",
         "2.331073",
         "48.87934",
         "13450.354609929078",
         "2022",
         "9"
        ],
        [
         "27",
         "60.0",
         "1009.0",
         "88.06",
         "88.0",
         "4.0",
         "2.331698",
         "48.880751",
         "13059.277765160115",
         "2022",
         "9"
        ],
        [
         "28",
         "183.0",
         "8699.0",
         "30.4",
         "30.0",
         "2.0",
         "2.372114",
         "48.870918",
         "11513.157894736843",
         "2022",
         "10"
        ],
        [
         "29",
         "9.0",
         "5200.0",
         "10.51",
         "10.0",
         "1.0",
         "2.322081",
         "48.875556",
         "9514.747859181733",
         "2022",
         "8"
        ],
        [
         "30",
         "47.0",
         "45.0",
         "28.4",
         "30.0",
         "1.0",
         "2.293326",
         "48.878254",
         "11619.718309859156",
         "2022",
         "17"
        ],
        [
         "31",
         "6.0",
         "761.0",
         "27.53",
         "27.0",
         "1.0",
         "2.36094",
         "48.862446",
         "15047.947693425354",
         "2022",
         "3"
        ],
        [
         "32",
         "19.0",
         "7593.0",
         "49.8",
         "115.0",
         "6.0",
         "2.296942",
         "48.879437",
         "10040.16064257028",
         "2022",
         "17"
        ],
        [
         "33",
         "53.0",
         "9838.0",
         "69.02",
         "69.0",
         "3.0",
         "2.372439",
         "48.875331",
         "11089.8290350623",
         "2022",
         "10"
        ],
        [
         "34",
         "46.0",
         "20.0",
         "28.67",
         "28.0",
         "1.0",
         "2.336288",
         "48.88558",
         "12731.077781653295",
         "2022",
         "18"
        ],
        [
         "35",
         "36.0",
         "6573.0",
         "59.75",
         "63.0",
         "3.0",
         "2.323484",
         "48.881567",
         "12083.6820083682",
         "2022",
         "8"
        ],
        [
         "36",
         "7.0",
         "5012.0",
         "27.88",
         "28.0",
         "2.0",
         "2.346863",
         "48.893734",
         "10781.922525107604",
         "2022",
         "18"
        ],
        [
         "37",
         "12.0",
         "3532.0",
         "18.71",
         "18.0",
         "1.0",
         "2.327259",
         "48.889267",
         "10261.8920363442",
         "2022",
         "18"
        ],
        [
         "38",
         "161.0",
         "5995.0",
         "76.03",
         "76.0",
         "3.0",
         "2.337299",
         "48.891073",
         "11484.940155201894",
         "2022",
         "18"
        ],
        [
         "39",
         "52.0",
         "3512.0",
         "166.9",
         "160.0",
         "4.0",
         "2.348692",
         "48.874583",
         "11237.267825044935",
         "2022",
         "10"
        ],
        [
         "40",
         "106.0",
         "5031.0",
         "126.85",
         "105.0",
         "3.0",
         "2.301959",
         "48.882529",
         "12061.489948758375",
         "2022",
         "17"
        ],
        [
         "41",
         "16.0",
         "5844.0",
         "30.55",
         "34.0",
         "1.0",
         "2.360901",
         "48.87189",
         "10736.497545008184",
         "2022",
         "10"
        ],
        [
         "42",
         "101.0",
         "3516.0",
         "18.07",
         "19.0",
         "1.0",
         "2.355141",
         "48.874902",
         "10514.665190924185",
         "2022",
         "10"
        ],
        [
         "43",
         "49.0",
         "7000.0",
         "66.44",
         "66.0",
         "3.0",
         "2.362389",
         "48.889438",
         "7977.122215532811",
         "2022",
         "18"
        ],
        [
         "44",
         "40.0",
         "4502.0",
         "62.56",
         "63.0",
         "3.0",
         "2.388699",
         "48.883747",
         "8375.959079283888",
         "2022",
         "19"
        ],
        [
         "45",
         "4.0",
         "9064.0",
         "22.83",
         "16.0",
         "1.0",
         "2.333201",
         "48.892588",
         "7884.362680683312",
         "2022",
         "18"
        ],
        [
         "46",
         "4.0",
         "7482.0",
         "46.1",
         "46.0",
         "1.0",
         "2.334178",
         "48.880228",
         "11793.709327548806",
         "2022",
         "9"
        ],
        [
         "47",
         "84.0",
         "9506.0",
         "109.09",
         "100.0",
         "4.0",
         "2.364917",
         "48.861057",
         "12517.18764323036",
         "2022",
         "3"
        ],
        [
         "48",
         "54.0",
         "2990.0",
         "74.04",
         "71.0",
         "3.0",
         "2.347982",
         "48.881911",
         "11987.439222042138",
         "2022",
         "9"
        ],
        [
         "49",
         "14.0",
         "5378.0",
         "47.02",
         "48.0",
         "3.0",
         "2.328022",
         "48.884655",
         "12547.851977881752",
         "2022",
         "18"
        ]
       ],
       "shape": {
        "columns": 10,
        "rows": 73663
       }
      },
      "text/html": [
       "<div>\n",
       "<style scoped>\n",
       "    .dataframe tbody tr th:only-of-type {\n",
       "        vertical-align: middle;\n",
       "    }\n",
       "\n",
       "    .dataframe tbody tr th {\n",
       "        vertical-align: top;\n",
       "    }\n",
       "\n",
       "    .dataframe thead th {\n",
       "        text-align: right;\n",
       "    }\n",
       "</style>\n",
       "<table border=\"1\" class=\"dataframe\">\n",
       "  <thead>\n",
       "    <tr style=\"text-align: right;\">\n",
       "      <th></th>\n",
       "      <th>adresse_numero</th>\n",
       "      <th>adresse_code_voie</th>\n",
       "      <th>lot1_surface_carrez</th>\n",
       "      <th>surface_reelle_bati</th>\n",
       "      <th>nombre_pieces_principales</th>\n",
       "      <th>longitude</th>\n",
       "      <th>latitude</th>\n",
       "      <th>prix_au_m2</th>\n",
       "      <th>année</th>\n",
       "      <th>arrondissement</th>\n",
       "    </tr>\n",
       "  </thead>\n",
       "  <tbody>\n",
       "    <tr>\n",
       "      <th>0</th>\n",
       "      <td>13.0</td>\n",
       "      <td>9002.0</td>\n",
       "      <td>61.00</td>\n",
       "      <td>25.0</td>\n",
       "      <td>2.0</td>\n",
       "      <td>2.348168</td>\n",
       "      <td>48.884490</td>\n",
       "      <td>9508.196721</td>\n",
       "      <td>2022</td>\n",
       "      <td>18</td>\n",
       "    </tr>\n",
       "    <tr>\n",
       "      <th>1</th>\n",
       "      <td>51.0</td>\n",
       "      <td>1880.0</td>\n",
       "      <td>40.66</td>\n",
       "      <td>42.0</td>\n",
       "      <td>3.0</td>\n",
       "      <td>2.362871</td>\n",
       "      <td>48.863374</td>\n",
       "      <td>14879.488441</td>\n",
       "      <td>2022</td>\n",
       "      <td>3</td>\n",
       "    </tr>\n",
       "    <tr>\n",
       "      <th>2</th>\n",
       "      <td>134.0</td>\n",
       "      <td>3933.0</td>\n",
       "      <td>32.52</td>\n",
       "      <td>29.0</td>\n",
       "      <td>1.0</td>\n",
       "      <td>2.405513</td>\n",
       "      <td>48.872782</td>\n",
       "      <td>9840.098401</td>\n",
       "      <td>2022</td>\n",
       "      <td>20</td>\n",
       "    </tr>\n",
       "    <tr>\n",
       "      <th>3</th>\n",
       "      <td>9.0</td>\n",
       "      <td>3192.0</td>\n",
       "      <td>34.53</td>\n",
       "      <td>36.0</td>\n",
       "      <td>2.0</td>\n",
       "      <td>2.386648</td>\n",
       "      <td>48.869335</td>\n",
       "      <td>6371.271358</td>\n",
       "      <td>2022</td>\n",
       "      <td>20</td>\n",
       "    </tr>\n",
       "    <tr>\n",
       "      <th>4</th>\n",
       "      <td>18.0</td>\n",
       "      <td>4452.0</td>\n",
       "      <td>24.59</td>\n",
       "      <td>28.0</td>\n",
       "      <td>2.0</td>\n",
       "      <td>2.400622</td>\n",
       "      <td>48.852508</td>\n",
       "      <td>11386.742578</td>\n",
       "      <td>2022</td>\n",
       "      <td>20</td>\n",
       "    </tr>\n",
       "    <tr>\n",
       "      <th>...</th>\n",
       "      <td>...</td>\n",
       "      <td>...</td>\n",
       "      <td>...</td>\n",
       "      <td>...</td>\n",
       "      <td>...</td>\n",
       "      <td>...</td>\n",
       "      <td>...</td>\n",
       "      <td>...</td>\n",
       "      <td>...</td>\n",
       "      <td>...</td>\n",
       "    </tr>\n",
       "    <tr>\n",
       "      <th>73658</th>\n",
       "      <td>161.0</td>\n",
       "      <td>2112.0</td>\n",
       "      <td>50.06</td>\n",
       "      <td>52.0</td>\n",
       "      <td>3.0</td>\n",
       "      <td>2.317308</td>\n",
       "      <td>48.891974</td>\n",
       "      <td>9622.453056</td>\n",
       "      <td>2023</td>\n",
       "      <td>17</td>\n",
       "    </tr>\n",
       "    <tr>\n",
       "      <th>73659</th>\n",
       "      <td>25.0</td>\n",
       "      <td>2523.0</td>\n",
       "      <td>10.00</td>\n",
       "      <td>9.0</td>\n",
       "      <td>1.0</td>\n",
       "      <td>2.324411</td>\n",
       "      <td>48.884351</td>\n",
       "      <td>10700.000000</td>\n",
       "      <td>2023</td>\n",
       "      <td>17</td>\n",
       "    </tr>\n",
       "    <tr>\n",
       "      <th>73660</th>\n",
       "      <td>9.0</td>\n",
       "      <td>6783.0</td>\n",
       "      <td>56.88</td>\n",
       "      <td>55.0</td>\n",
       "      <td>3.0</td>\n",
       "      <td>2.347625</td>\n",
       "      <td>48.867586</td>\n",
       "      <td>12798.874824</td>\n",
       "      <td>2023</td>\n",
       "      <td>2</td>\n",
       "    </tr>\n",
       "    <tr>\n",
       "      <th>73661</th>\n",
       "      <td>18.0</td>\n",
       "      <td>8436.0</td>\n",
       "      <td>85.05</td>\n",
       "      <td>84.0</td>\n",
       "      <td>4.0</td>\n",
       "      <td>2.340259</td>\n",
       "      <td>48.892260</td>\n",
       "      <td>11405.055850</td>\n",
       "      <td>2023</td>\n",
       "      <td>18</td>\n",
       "    </tr>\n",
       "    <tr>\n",
       "      <th>73662</th>\n",
       "      <td>113.0</td>\n",
       "      <td>9761.0</td>\n",
       "      <td>79.82</td>\n",
       "      <td>80.0</td>\n",
       "      <td>4.0</td>\n",
       "      <td>2.283203</td>\n",
       "      <td>48.868047</td>\n",
       "      <td>12349.135555</td>\n",
       "      <td>2023</td>\n",
       "      <td>16</td>\n",
       "    </tr>\n",
       "  </tbody>\n",
       "</table>\n",
       "<p>73663 rows × 10 columns</p>\n",
       "</div>"
      ],
      "text/plain": [
       "       adresse_numero  adresse_code_voie  lot1_surface_carrez  \\\n",
       "0                13.0             9002.0                61.00   \n",
       "1                51.0             1880.0                40.66   \n",
       "2               134.0             3933.0                32.52   \n",
       "3                 9.0             3192.0                34.53   \n",
       "4                18.0             4452.0                24.59   \n",
       "...               ...                ...                  ...   \n",
       "73658           161.0             2112.0                50.06   \n",
       "73659            25.0             2523.0                10.00   \n",
       "73660             9.0             6783.0                56.88   \n",
       "73661            18.0             8436.0                85.05   \n",
       "73662           113.0             9761.0                79.82   \n",
       "\n",
       "       surface_reelle_bati  nombre_pieces_principales  longitude   latitude  \\\n",
       "0                     25.0                        2.0   2.348168  48.884490   \n",
       "1                     42.0                        3.0   2.362871  48.863374   \n",
       "2                     29.0                        1.0   2.405513  48.872782   \n",
       "3                     36.0                        2.0   2.386648  48.869335   \n",
       "4                     28.0                        2.0   2.400622  48.852508   \n",
       "...                    ...                        ...        ...        ...   \n",
       "73658                 52.0                        3.0   2.317308  48.891974   \n",
       "73659                  9.0                        1.0   2.324411  48.884351   \n",
       "73660                 55.0                        3.0   2.347625  48.867586   \n",
       "73661                 84.0                        4.0   2.340259  48.892260   \n",
       "73662                 80.0                        4.0   2.283203  48.868047   \n",
       "\n",
       "         prix_au_m2  année  arrondissement  \n",
       "0       9508.196721   2022              18  \n",
       "1      14879.488441   2022               3  \n",
       "2       9840.098401   2022              20  \n",
       "3       6371.271358   2022              20  \n",
       "4      11386.742578   2022              20  \n",
       "...             ...    ...             ...  \n",
       "73658   9622.453056   2023              17  \n",
       "73659  10700.000000   2023              17  \n",
       "73660  12798.874824   2023               2  \n",
       "73661  11405.055850   2023              18  \n",
       "73662  12349.135555   2023              16  \n",
       "\n",
       "[73663 rows x 10 columns]"
      ]
     },
     "execution_count": 3,
     "metadata": {},
     "output_type": "execute_result"
    }
   ],
   "source": [
    "df"
   ]
  },
  {
   "cell_type": "markdown",
   "id": "27e7311f",
   "metadata": {},
   "source": [
    "## Séparation des données en train et test"
   ]
  },
  {
   "cell_type": "code",
   "execution_count": 4,
   "id": "7d8b69ea",
   "metadata": {},
   "outputs": [],
   "source": [
    "from sklearn.model_selection import train_test_split\n",
    "\n",
    "# On suppose que ta cible est dans la colonne 'prix_au_m2'\n",
    "X = df.drop(columns='prix_au_m2')\n",
    "y = df['prix_au_m2']\n",
    "\n",
    "# Séparation des données (80% train, 20% test)\n",
    "X_train, X_test, y_train, y_test = train_test_split(\n",
    "    X, y, test_size=0.2, random_state=42\n",
    ")\n"
   ]
  },
  {
   "cell_type": "markdown",
   "id": "ded791a0",
   "metadata": {},
   "source": [
    "## Partie 1 : Entrainement de diffénrents modèles linéaires"
   ]
  },
  {
   "cell_type": "code",
   "execution_count": 5,
   "id": "5fb0cf08",
   "metadata": {},
   "outputs": [
    {
     "name": "stdout",
     "output_type": "stream",
     "text": [
      "LinearRegression\n",
      "  MAE  : 2260.31\n",
      "  RMSE : 4824.94\n",
      "  R²   : 0.0946\n",
      "------------------------------\n",
      "Ridge\n",
      "  MAE  : 2260.30\n",
      "  RMSE : 4824.94\n",
      "  R²   : 0.0946\n",
      "------------------------------\n",
      "Lasso\n",
      "  MAE  : 2260.28\n",
      "  RMSE : 4824.94\n",
      "  R²   : 0.0946\n",
      "------------------------------\n",
      "ElasticNet\n",
      "  MAE  : 2253.17\n",
      "  RMSE : 4823.19\n",
      "  R²   : 0.0953\n",
      "------------------------------\n",
      "HuberRegressor\n",
      "  MAE  : 2144.88\n",
      "  RMSE : 4862.35\n",
      "  R²   : 0.0806\n",
      "------------------------------\n"
     ]
    }
   ],
   "source": [
    "from sklearn.linear_model import LinearRegression, Ridge, Lasso, ElasticNet, HuberRegressor\n",
    "from sklearn.metrics import mean_absolute_error, mean_squared_error, r2_score\n",
    "from sklearn.preprocessing import StandardScaler\n",
    "import numpy as np\n",
    "\n",
    "# Optionnel : mise à l'échelle\n",
    "scaler = StandardScaler()\n",
    "X_train_scaled = scaler.fit_transform(X_train)\n",
    "X_test_scaled = scaler.transform(X_test)\n",
    "\n",
    "# Liste des modèles linéaires à tester\n",
    "models = {\n",
    "    \"LinearRegression\": LinearRegression(),\n",
    "    \"Ridge\": Ridge(alpha=1.0),\n",
    "    \"Lasso\": Lasso(alpha=0.1),\n",
    "    \"ElasticNet\": ElasticNet(alpha=0.1, l1_ratio=0.5),\n",
    "    \"HuberRegressor\": HuberRegressor()\n",
    "}\n",
    "\n",
    "# Boucle sur les modèles\n",
    "for name, model in models.items():\n",
    "    model.fit(X_train_scaled, y_train)\n",
    "    y_pred = model.predict(X_test_scaled)\n",
    "\n",
    "    mae = mean_absolute_error(y_test, y_pred)\n",
    "    rmse = np.sqrt(mean_squared_error(y_test, y_pred))\n",
    "    r2 = r2_score(y_test, y_pred)\n",
    "\n",
    "    print(f\"{name}\")\n",
    "    print(f\"  MAE  : {mae:.2f}\")\n",
    "    print(f\"  RMSE : {rmse:.2f}\")\n",
    "    print(f\"  R²   : {r2:.4f}\")\n",
    "    print(\"-\" * 30)\n"
   ]
  },
  {
   "cell_type": "markdown",
   "id": "91bae61d",
   "metadata": {},
   "source": [
    "## Analyse des erreurs \n",
    "\n",
    "#### On a globalement de résultat médiocre, les modèles prédisent à peine mieux que juste la moyenne (R² proche de 0), et moins bien qu'un moyenne par arrondissment (cf notebook analyse-arrondissement), les MAE et RMSE sont assez conséquentes."
   ]
  },
  {
   "cell_type": "markdown",
   "id": "8bcf1df3",
   "metadata": {},
   "source": [
    "## Partie 2 : Entrainement d'arbre de décision et forêt aléatoire"
   ]
  },
  {
   "cell_type": "code",
   "execution_count": 6,
   "id": "18d18ff8",
   "metadata": {},
   "outputs": [
    {
     "name": "stdout",
     "output_type": "stream",
     "text": [
      "MAE : 1989.07\n",
      "RMSE : 4295.43\n",
      "R²   : 0.2825\n"
     ]
    }
   ],
   "source": [
    "from sklearn.tree import DecisionTreeRegressor\n",
    "\n",
    "# Entraînement de l’arbre\n",
    "tree = DecisionTreeRegressor(max_depth=10, random_state=42)\n",
    "tree.fit(X_train, y_train)\n",
    "\n",
    "# Prédiction\n",
    "y_pred = tree.predict(X_test)\n",
    "\n",
    "# Évaluation\n",
    "mae = mean_absolute_error(y_test, y_pred)\n",
    "rmse = np.sqrt(mean_squared_error(y_test, y_pred))\n",
    "r2 = r2_score(y_test, y_pred)\n",
    "\n",
    "print(f\"MAE : {mae:.2f}\")\n",
    "print(f\"RMSE : {rmse:.2f}\")\n",
    "print(f\"R²   : {r2:.4f}\")\n"
   ]
  },
  {
   "cell_type": "markdown",
   "id": "852e6ba1",
   "metadata": {},
   "source": [
    "#### On a ici de bien meilleurs résultats que pour les modèles linéaires, surement car il gère mieux les non linéarités. Le modèle prédis également mieux que la baseline ainsi que la baseline par arrondissement , ce qui signifie qu'il prend donc en compte la rue en plus de l'arrondissement.\n",
    "\n",
    "#### Faisons varier les hyperparamètres pour trouver la max_depth optimale"
   ]
  },
  {
   "cell_type": "code",
   "execution_count": 7,
   "id": "d9bfee92",
   "metadata": {},
   "outputs": [
    {
     "name": "stderr",
     "output_type": "stream",
     "text": [
      "  0%|          | 0/29 [00:00<?, ?it/s]"
     ]
    },
    {
     "name": "stdout",
     "output_type": "stream",
     "text": [
      "max_depth=2 → MAE=2318.43, RMSE=4831.72, R²=0.0921\n"
     ]
    },
    {
     "name": "stderr",
     "output_type": "stream",
     "text": [
      "  7%|▋         | 2/29 [00:00<00:01, 15.53it/s]"
     ]
    },
    {
     "name": "stdout",
     "output_type": "stream",
     "text": [
      "max_depth=3 → MAE=2256.69, RMSE=4756.43, R²=0.1202\n",
      "max_depth=4 → MAE=2167.72, RMSE=4702.36, R²=0.1401\n"
     ]
    },
    {
     "name": "stderr",
     "output_type": "stream",
     "text": [
      " 14%|█▍        | 4/29 [00:00<00:02, 12.24it/s]"
     ]
    },
    {
     "name": "stdout",
     "output_type": "stream",
     "text": [
      "max_depth=5 → MAE=2168.58, RMSE=4642.04, R²=0.1620\n",
      "max_depth=6 → MAE=2136.52, RMSE=4562.21, R²=0.1906\n"
     ]
    },
    {
     "name": "stderr",
     "output_type": "stream",
     "text": [
      " 21%|██        | 6/29 [00:00<00:02,  9.42it/s]"
     ]
    },
    {
     "name": "stdout",
     "output_type": "stream",
     "text": [
      "max_depth=7 → MAE=2099.71, RMSE=4468.38, R²=0.2235\n",
      "max_depth=8 → MAE=2073.50, RMSE=4463.58, R²=0.2252\n"
     ]
    },
    {
     "name": "stderr",
     "output_type": "stream",
     "text": [
      " 28%|██▊       | 8/29 [00:00<00:02,  7.49it/s]"
     ]
    },
    {
     "name": "stdout",
     "output_type": "stream",
     "text": [
      "max_depth=9 → MAE=2048.21, RMSE=4399.20, R²=0.2474\n"
     ]
    },
    {
     "name": "stderr",
     "output_type": "stream",
     "text": [
      " 31%|███       | 9/29 [00:01<00:03,  6.63it/s]"
     ]
    },
    {
     "name": "stdout",
     "output_type": "stream",
     "text": [
      "max_depth=10 → MAE=1989.07, RMSE=4295.43, R²=0.2825\n"
     ]
    },
    {
     "name": "stderr",
     "output_type": "stream",
     "text": [
      " 34%|███▍      | 10/29 [00:01<00:03,  5.89it/s]"
     ]
    },
    {
     "name": "stdout",
     "output_type": "stream",
     "text": [
      "max_depth=11 → MAE=1964.50, RMSE=4294.79, R²=0.2827\n"
     ]
    },
    {
     "name": "stderr",
     "output_type": "stream",
     "text": [
      " 38%|███▊      | 11/29 [00:01<00:03,  5.32it/s]"
     ]
    },
    {
     "name": "stdout",
     "output_type": "stream",
     "text": [
      "max_depth=12 → MAE=1942.00, RMSE=4230.49, R²=0.3040\n"
     ]
    },
    {
     "name": "stderr",
     "output_type": "stream",
     "text": [
      " 41%|████▏     | 12/29 [00:01<00:03,  4.50it/s]"
     ]
    },
    {
     "name": "stdout",
     "output_type": "stream",
     "text": [
      "max_depth=13 → MAE=1922.78, RMSE=4299.97, R²=0.2809\n"
     ]
    },
    {
     "name": "stderr",
     "output_type": "stream",
     "text": [
      " 45%|████▍     | 13/29 [00:02<00:03,  4.18it/s]"
     ]
    },
    {
     "name": "stdout",
     "output_type": "stream",
     "text": [
      "max_depth=14 → MAE=1949.21, RMSE=4468.20, R²=0.2236\n"
     ]
    },
    {
     "name": "stderr",
     "output_type": "stream",
     "text": [
      " 48%|████▊     | 14/29 [00:02<00:03,  3.91it/s]"
     ]
    },
    {
     "name": "stdout",
     "output_type": "stream",
     "text": [
      "max_depth=15 → MAE=1939.51, RMSE=4573.80, R²=0.1864\n"
     ]
    },
    {
     "name": "stderr",
     "output_type": "stream",
     "text": [
      " 52%|█████▏    | 15/29 [00:02<00:03,  3.73it/s]"
     ]
    },
    {
     "name": "stdout",
     "output_type": "stream",
     "text": [
      "max_depth=16 → MAE=1938.36, RMSE=4550.57, R²=0.1947\n"
     ]
    },
    {
     "name": "stderr",
     "output_type": "stream",
     "text": [
      " 55%|█████▌    | 16/29 [00:03<00:03,  3.55it/s]"
     ]
    },
    {
     "name": "stdout",
     "output_type": "stream",
     "text": [
      "max_depth=17 → MAE=1944.93, RMSE=4754.56, R²=0.1209\n"
     ]
    },
    {
     "name": "stderr",
     "output_type": "stream",
     "text": [
      " 59%|█████▊    | 17/29 [00:03<00:03,  3.39it/s]"
     ]
    },
    {
     "name": "stdout",
     "output_type": "stream",
     "text": [
      "max_depth=18 → MAE=1922.24, RMSE=4605.11, R²=0.1753\n"
     ]
    },
    {
     "name": "stderr",
     "output_type": "stream",
     "text": [
      " 62%|██████▏   | 18/29 [00:03<00:03,  3.02it/s]"
     ]
    },
    {
     "name": "stdout",
     "output_type": "stream",
     "text": [
      "max_depth=19 → MAE=1920.78, RMSE=4651.18, R²=0.1587\n"
     ]
    },
    {
     "name": "stderr",
     "output_type": "stream",
     "text": [
      " 66%|██████▌   | 19/29 [00:04<00:03,  2.92it/s]"
     ]
    },
    {
     "name": "stdout",
     "output_type": "stream",
     "text": [
      "max_depth=20 → MAE=1918.78, RMSE=4636.40, R²=0.1640\n"
     ]
    },
    {
     "name": "stderr",
     "output_type": "stream",
     "text": [
      " 69%|██████▉   | 20/29 [00:04<00:03,  2.82it/s]"
     ]
    },
    {
     "name": "stdout",
     "output_type": "stream",
     "text": [
      "max_depth=21 → MAE=1908.30, RMSE=4670.65, R²=0.1516\n"
     ]
    },
    {
     "name": "stderr",
     "output_type": "stream",
     "text": [
      " 72%|███████▏  | 21/29 [00:05<00:02,  2.77it/s]"
     ]
    },
    {
     "name": "stdout",
     "output_type": "stream",
     "text": [
      "max_depth=22 → MAE=1886.93, RMSE=4568.44, R²=0.1883\n"
     ]
    },
    {
     "name": "stderr",
     "output_type": "stream",
     "text": [
      " 76%|███████▌  | 22/29 [00:05<00:02,  2.72it/s]"
     ]
    },
    {
     "name": "stdout",
     "output_type": "stream",
     "text": [
      "max_depth=23 → MAE=1892.51, RMSE=4630.69, R²=0.1661\n"
     ]
    },
    {
     "name": "stderr",
     "output_type": "stream",
     "text": [
      " 79%|███████▉  | 23/29 [00:05<00:02,  2.66it/s]"
     ]
    },
    {
     "name": "stdout",
     "output_type": "stream",
     "text": [
      "max_depth=24 → MAE=1882.32, RMSE=4665.35, R²=0.1535\n"
     ]
    },
    {
     "name": "stderr",
     "output_type": "stream",
     "text": [
      " 83%|████████▎ | 24/29 [00:06<00:02,  2.48it/s]"
     ]
    },
    {
     "name": "stdout",
     "output_type": "stream",
     "text": [
      "max_depth=25 → MAE=1873.93, RMSE=4642.16, R²=0.1619\n"
     ]
    },
    {
     "name": "stderr",
     "output_type": "stream",
     "text": [
      " 86%|████████▌ | 25/29 [00:06<00:01,  2.46it/s]"
     ]
    },
    {
     "name": "stdout",
     "output_type": "stream",
     "text": [
      "max_depth=26 → MAE=1868.39, RMSE=4673.17, R²=0.1507\n"
     ]
    },
    {
     "name": "stderr",
     "output_type": "stream",
     "text": [
      " 90%|████████▉ | 26/29 [00:07<00:01,  2.44it/s]"
     ]
    },
    {
     "name": "stdout",
     "output_type": "stream",
     "text": [
      "max_depth=27 → MAE=1835.00, RMSE=4533.87, R²=0.2006\n"
     ]
    },
    {
     "name": "stderr",
     "output_type": "stream",
     "text": [
      " 93%|█████████▎| 27/29 [00:07<00:00,  2.41it/s]"
     ]
    },
    {
     "name": "stdout",
     "output_type": "stream",
     "text": [
      "max_depth=28 → MAE=1848.69, RMSE=4701.74, R²=0.1403\n"
     ]
    },
    {
     "name": "stderr",
     "output_type": "stream",
     "text": [
      " 97%|█████████▋| 28/29 [00:07<00:00,  2.39it/s]"
     ]
    },
    {
     "name": "stdout",
     "output_type": "stream",
     "text": [
      "max_depth=29 → MAE=1851.24, RMSE=4681.17, R²=0.1478\n"
     ]
    },
    {
     "name": "stderr",
     "output_type": "stream",
     "text": [
      "100%|██████████| 29/29 [00:08<00:00,  3.44it/s]"
     ]
    },
    {
     "name": "stdout",
     "output_type": "stream",
     "text": [
      "max_depth=30 → MAE=1832.83, RMSE=4627.83, R²=0.1671\n"
     ]
    },
    {
     "name": "stderr",
     "output_type": "stream",
     "text": [
      "\n"
     ]
    }
   ],
   "source": [
    "from tqdm import tqdm\n",
    "\n",
    "# Dictionnaire pour stocker les erreurs\n",
    "results = {\n",
    "    'max_depth': [],\n",
    "    'mae': [],\n",
    "    'rmse': [],\n",
    "    'r2': []\n",
    "}\n",
    "\n",
    "# Boucle sur différentes profondeurs d'arbre\n",
    "for depth in tqdm(range(2, 31)):\n",
    "    tree = DecisionTreeRegressor(max_depth=depth, random_state=42)\n",
    "    tree.fit(X_train, y_train)\n",
    "    y_pred = tree.predict(X_test)\n",
    "\n",
    "    mae = mean_absolute_error(y_test, y_pred)\n",
    "    rmse = np.sqrt(mean_squared_error(y_test, y_pred))\n",
    "    r2 = r2_score(y_test, y_pred)\n",
    "\n",
    "    # Affichage des scores\n",
    "    print(f\"max_depth={depth} → MAE={mae:.2f}, RMSE={rmse:.2f}, R²={r2:.4f}\")\n",
    "\n",
    "    # Sauvegarde\n",
    "    results['max_depth'].append(depth)\n",
    "    results['mae'].append(mae)\n",
    "    results['rmse'].append(rmse)\n",
    "    results['r2'].append(r2)\n"
   ]
  },
  {
   "cell_type": "code",
   "execution_count": 8,
   "id": "09ba66dc",
   "metadata": {},
   "outputs": [
    {
     "data": {
      "image/png": "[encoded data removed]",
      "text/plain": [
       "<Figure size 1200x600 with 1 Axes>"
      ]
     },
     "metadata": {},
     "output_type": "display_data"
    }
   ],
   "source": [
    "import matplotlib.pyplot as plt\n",
    "\n",
    "# Tracé des courbes\n",
    "plt.figure(figsize=(12, 6))\n",
    "\n",
    "# Courbes pour chaque métrique\n",
    "plt.plot(results['max_depth'], results['mae'], label='MAE', marker='o')\n",
    "plt.plot(results['max_depth'], results['rmse'], label='RMSE', marker='s')\n",
    "plt.plot(results['max_depth'], results['r2'], label='R²', marker='^')\n",
    "\n",
    "# Légendes et axes\n",
    "plt.xlabel('max_depth')\n",
    "plt.ylabel('Valeur de la métrique')\n",
    "plt.title(\"Évolution des métriques en fonction de la profondeur de l'arbre\")\n",
    "plt.legend()\n",
    "plt.grid(True)\n",
    "plt.tight_layout()\n",
    "plt.show()\n"
   ]
  },
  {
   "cell_type": "markdown",
   "id": "72e8c12a",
   "metadata": {},
   "source": [
    "#### variation en pourcetage"
   ]
  },
  {
   "cell_type": "code",
   "execution_count": 9,
   "id": "907540b9",
   "metadata": {},
   "outputs": [
    {
     "data": {
      "image/png": "[encoded data removed]",
      "text/plain": [
       "<Figure size 1200x600 with 1 Axes>"
      ]
     },
     "metadata": {},
     "output_type": "display_data"
    }
   ],
   "source": [
    "import matplotlib.pyplot as plt\n",
    "\n",
    "# Calcul de la valeur initiale (profondeur minimale)\n",
    "mae0 = results['mae'][0]\n",
    "rmse0 = results['rmse'][0]\n",
    "r2_0 = results['r2'][0]\n",
    "\n",
    "# Calcul des variations en pourcentage\n",
    "mae_pct = [(v - mae0) / mae0 * 100 for v in results['mae']]\n",
    "rmse_pct = [(v - rmse0) / rmse0 * 100 for v in results['rmse']]\n",
    "r2_pct = [(v - r2_0) / r2_0 * 100 for v in results['r2']]\n",
    "\n",
    "# Tracé\n",
    "plt.figure(figsize=(12, 6))\n",
    "\n",
    "plt.plot(results['max_depth'], mae_pct, label='MAE (%)', marker='o')\n",
    "plt.plot(results['max_depth'], rmse_pct, label='RMSE (%)', marker='s')\n",
    "plt.plot(results['max_depth'], r2_pct, label='R² (%)', marker='^')\n",
    "\n",
    "plt.axhline(0, color='gray', linestyle='--')\n",
    "\n",
    "plt.xlabel('max_depth')\n",
    "plt.ylabel('Variation (%) par rapport à la valeur à profondeur minimale')\n",
    "plt.title(\"Variation en pourcentage des métriques selon max_depth\")\n",
    "plt.legend()\n",
    "plt.grid(True)\n",
    "plt.tight_layout()\n",
    "plt.show()\n"
   ]
  },
  {
   "cell_type": "markdown",
   "id": "8a22260c",
   "metadata": {},
   "source": [
    "#### On obtient une valeur optimale de max_depth à 12, que l'on va pouvoir tester sur une forêt aléatoire\n",
    "\n",
    "#### Regardons les métriques pour une forêts aléatoire"
   ]
  },
  {
   "cell_type": "code",
   "execution_count": 10,
   "id": "8f455e1c",
   "metadata": {},
   "outputs": [
    {
     "name": "stderr",
     "output_type": "stream",
     "text": [
      "  5%|▌         | 1/20 [00:00<00:16,  1.14it/s]"
     ]
    },
    {
     "name": "stdout",
     "output_type": "stream",
     "text": [
      "n_estimators=10 → MAE=1717.10, RMSE=3698.40, R²=0.4681\n"
     ]
    },
    {
     "name": "stderr",
     "output_type": "stream",
     "text": [
      " 10%|█         | 2/20 [00:02<00:21,  1.18s/it]"
     ]
    },
    {
     "name": "stdout",
     "output_type": "stream",
     "text": [
      "n_estimators=20 → MAE=1649.72, RMSE=3548.43, R²=0.5103\n"
     ]
    },
    {
     "name": "stderr",
     "output_type": "stream",
     "text": [
      " 15%|█▌        | 3/20 [00:04<00:24,  1.44s/it]"
     ]
    },
    {
     "name": "stdout",
     "output_type": "stream",
     "text": [
      "n_estimators=30 → MAE=1626.44, RMSE=3514.55, R²=0.5196\n"
     ]
    },
    {
     "name": "stderr",
     "output_type": "stream",
     "text": [
      " 20%|██        | 4/20 [00:06<00:31,  1.96s/it]"
     ]
    },
    {
     "name": "stdout",
     "output_type": "stream",
     "text": [
      "n_estimators=40 → MAE=1616.04, RMSE=3496.94, R²=0.5244\n"
     ]
    },
    {
     "name": "stderr",
     "output_type": "stream",
     "text": [
      " 25%|██▌       | 5/20 [00:09<00:34,  2.33s/it]"
     ]
    },
    {
     "name": "stdout",
     "output_type": "stream",
     "text": [
      "n_estimators=50 → MAE=1608.10, RMSE=3485.07, R²=0.5277\n"
     ]
    },
    {
     "name": "stderr",
     "output_type": "stream",
     "text": [
      " 30%|███       | 6/20 [00:13<00:38,  2.76s/it]"
     ]
    },
    {
     "name": "stdout",
     "output_type": "stream",
     "text": [
      "n_estimators=60 → MAE=1600.64, RMSE=3483.92, R²=0.5280\n"
     ]
    },
    {
     "name": "stderr",
     "output_type": "stream",
     "text": [
      " 35%|███▌      | 7/20 [00:17<00:40,  3.15s/it]"
     ]
    },
    {
     "name": "stdout",
     "output_type": "stream",
     "text": [
      "n_estimators=70 → MAE=1593.60, RMSE=3476.45, R²=0.5300\n"
     ]
    },
    {
     "name": "stderr",
     "output_type": "stream",
     "text": [
      " 40%|████      | 8/20 [00:21<00:41,  3.49s/it]"
     ]
    },
    {
     "name": "stdout",
     "output_type": "stream",
     "text": [
      "n_estimators=80 → MAE=1592.74, RMSE=3478.38, R²=0.5295\n"
     ]
    },
    {
     "name": "stderr",
     "output_type": "stream",
     "text": [
      " 45%|████▌     | 9/20 [00:26<00:43,  3.97s/it]"
     ]
    },
    {
     "name": "stdout",
     "output_type": "stream",
     "text": [
      "n_estimators=90 → MAE=1589.12, RMSE=3475.44, R²=0.5303\n"
     ]
    },
    {
     "name": "stderr",
     "output_type": "stream",
     "text": [
      " 50%|█████     | 10/20 [00:31<00:43,  4.39s/it]"
     ]
    },
    {
     "name": "stdout",
     "output_type": "stream",
     "text": [
      "n_estimators=100 → MAE=1585.22, RMSE=3470.19, R²=0.5317\n"
     ]
    },
    {
     "name": "stderr",
     "output_type": "stream",
     "text": [
      " 55%|█████▌    | 11/20 [00:37<00:43,  4.84s/it]"
     ]
    },
    {
     "name": "stdout",
     "output_type": "stream",
     "text": [
      "n_estimators=110 → MAE=1584.46, RMSE=3469.78, R²=0.5318\n"
     ]
    },
    {
     "name": "stderr",
     "output_type": "stream",
     "text": [
      " 60%|██████    | 12/20 [00:44<00:44,  5.51s/it]"
     ]
    },
    {
     "name": "stdout",
     "output_type": "stream",
     "text": [
      "n_estimators=120 → MAE=1583.23, RMSE=3471.06, R²=0.5314\n"
     ]
    },
    {
     "name": "stderr",
     "output_type": "stream",
     "text": [
      " 65%|██████▌   | 13/20 [00:52<00:42,  6.07s/it]"
     ]
    },
    {
     "name": "stdout",
     "output_type": "stream",
     "text": [
      "n_estimators=130 → MAE=1582.57, RMSE=3468.69, R²=0.5321\n"
     ]
    },
    {
     "name": "stderr",
     "output_type": "stream",
     "text": [
      " 70%|███████   | 14/20 [01:00<00:40,  6.72s/it]"
     ]
    },
    {
     "name": "stdout",
     "output_type": "stream",
     "text": [
      "n_estimators=140 → MAE=1580.37, RMSE=3466.42, R²=0.5327\n"
     ]
    },
    {
     "name": "stderr",
     "output_type": "stream",
     "text": [
      " 75%|███████▌  | 15/20 [01:09<00:37,  7.50s/it]"
     ]
    },
    {
     "name": "stdout",
     "output_type": "stream",
     "text": [
      "n_estimators=150 → MAE=1579.31, RMSE=3463.93, R²=0.5334\n"
     ]
    },
    {
     "name": "stderr",
     "output_type": "stream",
     "text": [
      " 80%|████████  | 16/20 [01:19<00:32,  8.22s/it]"
     ]
    },
    {
     "name": "stdout",
     "output_type": "stream",
     "text": [
      "n_estimators=160 → MAE=1576.73, RMSE=3458.96, R²=0.5347\n"
     ]
    },
    {
     "name": "stderr",
     "output_type": "stream",
     "text": [
      " 85%|████████▌ | 17/20 [01:30<00:27,  9.00s/it]"
     ]
    },
    {
     "name": "stdout",
     "output_type": "stream",
     "text": [
      "n_estimators=170 → MAE=1576.86, RMSE=3460.13, R²=0.5344\n"
     ]
    },
    {
     "name": "stderr",
     "output_type": "stream",
     "text": [
      " 90%|█████████ | 18/20 [01:42<00:19,  9.82s/it]"
     ]
    },
    {
     "name": "stdout",
     "output_type": "stream",
     "text": [
      "n_estimators=180 → MAE=1575.22, RMSE=3458.21, R²=0.5349\n"
     ]
    },
    {
     "name": "stderr",
     "output_type": "stream",
     "text": [
      " 95%|█████████▌| 19/20 [01:53<00:10, 10.27s/it]"
     ]
    },
    {
     "name": "stdout",
     "output_type": "stream",
     "text": [
      "n_estimators=190 → MAE=1574.59, RMSE=3456.89, R²=0.5353\n"
     ]
    },
    {
     "name": "stderr",
     "output_type": "stream",
     "text": [
      "100%|██████████| 20/20 [02:05<00:00,  6.25s/it]"
     ]
    },
    {
     "name": "stdout",
     "output_type": "stream",
     "text": [
      "n_estimators=200 → MAE=1574.70, RMSE=3458.31, R²=0.5349\n"
     ]
    },
    {
     "name": "stderr",
     "output_type": "stream",
     "text": [
      "\n"
     ]
    }
   ],
   "source": [
    "from sklearn.ensemble import RandomForestRegressor\n",
    "\n",
    "# Dictionnaire pour stocker les erreurs\n",
    "results = {\n",
    "    'n_estimators': [],\n",
    "    'mae': [],\n",
    "    'rmse': [],\n",
    "    'r2': []\n",
    "}\n",
    "\n",
    "# Boucle sur différentes tailles de forêts\n",
    "for n in tqdm(range(10, 210, 10)):  # de 10 à 200 arbres\n",
    "    rf = RandomForestRegressor(n_estimators=n, random_state=42, n_jobs=-1)\n",
    "    rf.fit(X_train, y_train)\n",
    "    y_pred = rf.predict(X_test)\n",
    "\n",
    "    mae = mean_absolute_error(y_test, y_pred)\n",
    "    rmse = np.sqrt(mean_squared_error(y_test, y_pred))\n",
    "    r2 = r2_score(y_test, y_pred)\n",
    "\n",
    "    # Affichage des scores\n",
    "    print(f\"n_estimators={n} → MAE={mae:.2f}, RMSE={rmse:.2f}, R²={r2:.4f}\")\n",
    "\n",
    "    # Sauvegarde\n",
    "    results['n_estimators'].append(n)\n",
    "    results['mae'].append(mae)\n",
    "    results['rmse'].append(rmse)\n",
    "    results['r2'].append(r2)\n"
   ]
  },
  {
   "cell_type": "code",
   "execution_count": 11,
   "id": "146802f2",
   "metadata": {},
   "outputs": [
    {
     "data": {
      "image/png": "[encoded data removed]",
      "text/plain": [
       "<Figure size 1200x600 with 1 Axes>"
      ]
     },
     "metadata": {},
     "output_type": "display_data"
    }
   ],
   "source": [
    "import matplotlib.pyplot as plt\n",
    "\n",
    "# Calcul de la valeur initiale (profondeur minimale)\n",
    "mae0 = results['mae'][0]\n",
    "rmse0 = results['rmse'][0]\n",
    "r2_0 = results['r2'][0]\n",
    "\n",
    "# Calcul des variations en pourcentage\n",
    "mae_pct = [(v - mae0) / mae0 * 100 for v in results['mae']]\n",
    "rmse_pct = [(v - rmse0) / rmse0 * 100 for v in results['rmse']]\n",
    "r2_pct = [(v - r2_0) / r2_0 * 100 for v in results['r2']]\n",
    "\n",
    "# Tracé\n",
    "plt.figure(figsize=(12, 6))\n",
    "\n",
    "plt.plot(results['n_estimators'], mae_pct, label='MAE (%)', marker='o')\n",
    "plt.plot(results['n_estimators'], rmse_pct, label='RMSE (%)', marker='s')\n",
    "plt.plot(results['n_estimators'], r2_pct, label='R² (%)', marker='^')\n",
    "\n",
    "plt.axhline(0, color='gray', linestyle='--')\n",
    "\n",
    "plt.xlabel('max_depth')\n",
    "plt.ylabel('Variation (%) par rapport à la valeur à profondeur minimale')\n",
    "plt.title(\"Variation en pourcentage des métriques selon max_depth\")\n",
    "plt.legend()\n",
    "plt.grid(True)\n",
    "plt.tight_layout()\n",
    "plt.show()\n"
   ]
  },
  {
   "cell_type": "markdown",
   "id": "76011ea6",
   "metadata": {},
   "source": [
    "#### On est ici bien meilleur que le decision tree, ce qui est logique, l'erreur R² est assez convaincante, de même pour la MAE."
   ]
  },
  {
   "cell_type": "markdown",
   "id": "9f4b4b31",
   "metadata": {},
   "source": [
    "## Partie 3 : Boosting Models"
   ]
  },
  {
   "cell_type": "code",
   "execution_count": 16,
   "id": "22c359a9",
   "metadata": {},
   "outputs": [
    {
     "name": "stdout",
     "output_type": "stream",
     "text": [
      "GradientBoostingRegressor\n",
      "  MAE  : 1763.36\n",
      "  RMSE : 4339.67\n",
      "  R²   : 0.2676\n",
      "------------------------------\n",
      "HistGradientBoostingRegressor\n",
      "  MAE  : 2017.71\n",
      "  RMSE : 4245.89\n",
      "  R²   : 0.2989\n",
      "------------------------------\n"
     ]
    }
   ],
   "source": [
    "from sklearn.ensemble import GradientBoostingRegressor, HistGradientBoostingRegressor\n",
    "\n",
    "models = {\n",
    "    \"GradientBoostingRegressor\": GradientBoostingRegressor(n_estimators=200, learning_rate=0.9, max_depth=30),\n",
    "    \"HistGradientBoostingRegressor\": HistGradientBoostingRegressor(max_iter=100)\n",
    "}\n",
    "\n",
    "\n",
    "# Boucle sur les modèles de boosting\n",
    "for name, model in models.items():\n",
    "    model.fit(X_train, y_train)\n",
    "    y_pred = model.predict(X_test)\n",
    "\n",
    "    mae = mean_absolute_error(y_test, y_pred)\n",
    "    rmse = np.sqrt(mean_squared_error(y_test, y_pred))\n",
    "    r2 = r2_score(y_test, y_pred)\n",
    "\n",
    "    print(f\"{name}\")\n",
    "    print(f\"  MAE  : {mae:.2f}\")\n",
    "    print(f\"  RMSE : {rmse:.2f}\")\n",
    "    print(f\"  R²   : {r2:.4f}\")\n",
    "    print(\"-\" * 30)\n"
   ]
  },
  {
   "cell_type": "markdown",
   "id": "c03d357f",
   "metadata": {},
   "source": [
    "## Partie 4 : modèle KNN"
   ]
  },
  {
   "cell_type": "code",
   "execution_count": 19,
   "id": "68d798ad",
   "metadata": {},
   "outputs": [
    {
     "name": "stdout",
     "output_type": "stream",
     "text": [
      "k = 5\n",
      "  MAE  : 1587.01\n",
      "  RMSE : 4005.79\n",
      "  R²   : 0.3760\n",
      "------------------------------\n",
      "k = 10\n",
      "  MAE  : 1530.20\n",
      "  RMSE : 3880.78\n",
      "  R²   : 0.4143\n",
      "------------------------------\n",
      "k = 15\n",
      "  MAE  : 1497.99\n",
      "  RMSE : 3813.38\n",
      "  R²   : 0.4345\n",
      "------------------------------\n",
      "k = 20\n",
      "  MAE  : 1485.38\n",
      "  RMSE : 3788.88\n",
      "  R²   : 0.4417\n",
      "------------------------------\n",
      "k = 25\n",
      "  MAE  : 1479.19\n",
      "  RMSE : 3777.03\n",
      "  R²   : 0.4452\n",
      "------------------------------\n",
      "k = 30\n",
      "  MAE  : 1476.99\n",
      "  RMSE : 3775.27\n",
      "  R²   : 0.4457\n",
      "------------------------------\n",
      "k = 35\n",
      "  MAE  : 1472.62\n",
      "  RMSE : 3766.84\n",
      "  R²   : 0.4482\n",
      "------------------------------\n",
      "k = 40\n",
      "  MAE  : 1466.28\n",
      "  RMSE : 3755.68\n",
      "  R²   : 0.4515\n",
      "------------------------------\n",
      "k = 45\n",
      "  MAE  : 1459.92\n",
      "  RMSE : 3743.72\n",
      "  R²   : 0.4549\n",
      "------------------------------\n",
      "k = 50\n",
      "  MAE  : 1457.20\n",
      "  RMSE : 3736.14\n",
      "  R²   : 0.4571\n",
      "------------------------------\n",
      "k = 55\n",
      "  MAE  : 1454.60\n",
      "  RMSE : 3733.54\n",
      "  R²   : 0.4579\n",
      "------------------------------\n",
      "k = 60\n",
      "  MAE  : 1452.86\n",
      "  RMSE : 3731.96\n",
      "  R²   : 0.4584\n",
      "------------------------------\n",
      "k = 65\n",
      "  MAE  : 1451.17\n",
      "  RMSE : 3732.05\n",
      "  R²   : 0.4583\n",
      "------------------------------\n",
      "k = 70\n",
      "  MAE  : 1451.59\n",
      "  RMSE : 3736.41\n",
      "  R²   : 0.4571\n",
      "------------------------------\n",
      "k = 75\n",
      "  MAE  : 1451.35\n",
      "  RMSE : 3737.04\n",
      "  R²   : 0.4569\n",
      "------------------------------\n",
      "k = 80\n",
      "  MAE  : 1448.06\n",
      "  RMSE : 3735.77\n",
      "  R²   : 0.4573\n",
      "------------------------------\n",
      "k = 85\n",
      "  MAE  : 1446.99\n",
      "  RMSE : 3737.04\n",
      "  R²   : 0.4569\n",
      "------------------------------\n",
      "k = 90\n",
      "  MAE  : 1446.05\n",
      "  RMSE : 3736.19\n",
      "  R²   : 0.4571\n",
      "------------------------------\n",
      "k = 95\n",
      "  MAE  : 1442.42\n",
      "  RMSE : 3733.25\n",
      "  R²   : 0.4580\n",
      "------------------------------\n"
     ]
    }
   ],
   "source": [
    "from sklearn.neighbors import KNeighborsRegressor\n",
    "from sklearn.preprocessing import StandardScaler\n",
    "\n",
    "\n",
    "# normalisation\n",
    "scaler = StandardScaler()\n",
    "X_train_scaled = scaler.fit_transform(X_train)\n",
    "X_test_scaled = scaler.transform(X_test)\n",
    "for k in range(5,100,5):\n",
    "    # Modèle KNN\n",
    "    knn_model = KNeighborsRegressor(n_neighbors=k, weights='distance')  \n",
    "    knn_model.fit(X_train_scaled, y_train)\n",
    "\n",
    "    # Prédictions\n",
    "    y_pred = knn_model.predict(X_test_scaled)\n",
    "\n",
    "    # Évaluation\n",
    "    mae = mean_absolute_error(y_test, y_pred)\n",
    "    rmse = np.sqrt(mean_squared_error(y_test, y_pred))\n",
    "    r2 = r2_score(y_test, y_pred)\n",
    "\n",
    "    print(f\"k = {k}\")\n",
    "    print(f\"  MAE  : {mae:.2f}\")\n",
    "    print(f\"  RMSE : {rmse:.2f}\")\n",
    "    print(f\"  R²   : {r2:.4f}\")\n",
    "    print(\"-\" * 30)\n"
   ]
  },
  {
   "cell_type": "markdown",
   "id": "acc0b2ac",
   "metadata": {},
   "source": [
    "## Partie 5 : résaux de Neurones"
   ]
  },
  {
   "cell_type": "code",
   "execution_count": 20,
   "id": "f8449ba9",
   "metadata": {},
   "outputs": [
    {
     "name": "stdout",
     "output_type": "stream",
     "text": [
      "MLPRegressor\n",
      "  MAE  : 2119.03\n",
      "  RMSE : 4644.53\n",
      "  R²   : 0.1611\n",
      "------------------------------\n"
     ]
    },
    {
     "name": "stderr",
     "output_type": "stream",
     "text": [
      "/Users/theodorefischer/Desktop/ENSTA/IA/IA26/nom_env/lib/python3.11/site-packages/sklearn/neural_network/_multilayer_perceptron.py:691: ConvergenceWarning: Stochastic Optimizer: Maximum iterations (500) reached and the optimization hasn't converged yet.\n",
      "  warnings.warn(\n"
     ]
    }
   ],
   "source": [
    "from sklearn.neural_network import MLPRegressor\n",
    "\n",
    "# MLP = très sensible aux échelles → normalisation indispensable\n",
    "scaler = StandardScaler()\n",
    "X_train_scaled = scaler.fit_transform(X_train)\n",
    "X_test_scaled = scaler.transform(X_test)\n",
    "\n",
    "# Modèle MLP (réseau de neurones)\n",
    "mlp_model = MLPRegressor(\n",
    "    hidden_layer_sizes=(64, 64),  # 2 couches de 64 neurones\n",
    "    activation='relu',\n",
    "    solver='adam',\n",
    "    max_iter=500,\n",
    "    random_state=42\n",
    ")\n",
    "mlp_model.fit(X_train_scaled, y_train)\n",
    "\n",
    "# Prédictions\n",
    "y_pred = mlp_model.predict(X_test_scaled)\n",
    "\n",
    "# Évaluation\n",
    "mae = mean_absolute_error(y_test, y_pred)\n",
    "rmse = np.sqrt(mean_squared_error(y_test, y_pred))\n",
    "r2 = r2_score(y_test, y_pred)\n",
    "\n",
    "print(\"MLPRegressor\")\n",
    "print(f\"  MAE  : {mae:.2f}\")\n",
    "print(f\"  RMSE : {rmse:.2f}\")\n",
    "print(f\"  R²   : {r2:.4f}\")\n",
    "print(\"-\" * 30)\n"
   ]
  },
  {
   "cell_type": "code",
   "execution_count": 21,
   "id": "60d32302",
   "metadata": {},
   "outputs": [
    {
     "name": "stdout",
     "output_type": "stream",
     "text": [
      "🔍 Testing MLPRegressor configurations...\n",
      "\n"
     ]
    },
    {
     "name": "stderr",
     "output_type": "stream",
     "text": [
      "Hidden Layers:   0%|          | 0/6 [00:00<?, ?it/s]/Users/theodorefischer/Desktop/ENSTA/IA/IA26/nom_env/lib/python3.11/site-packages/sklearn/neural_network/_multilayer_perceptron.py:691: ConvergenceWarning: Stochastic Optimizer: Maximum iterations (300) reached and the optimization hasn't converged yet.\n",
      "  warnings.warn(\n"
     ]
    },
    {
     "name": "stdout",
     "output_type": "stream",
     "text": [
      "Config: hl=(32,), act=relu, lr=0.001, max_iter=300\n",
      "  MAE  : 2232.43 | RMSE : 4781.35 | R² : 0.1109\n",
      "--------------------------------------------------\n"
     ]
    },
    {
     "name": "stderr",
     "output_type": "stream",
     "text": [
      "/Users/theodorefischer/Desktop/ENSTA/IA/IA26/nom_env/lib/python3.11/site-packages/sklearn/neural_network/_multilayer_perceptron.py:691: ConvergenceWarning: Stochastic Optimizer: Maximum iterations (500) reached and the optimization hasn't converged yet.\n",
      "  warnings.warn(\n"
     ]
    },
    {
     "name": "stdout",
     "output_type": "stream",
     "text": [
      "Config: hl=(32,), act=relu, lr=0.001, max_iter=500\n",
      "  MAE  : 2219.22 | RMSE : 4769.02 | R² : 0.1155\n",
      "--------------------------------------------------\n"
     ]
    },
    {
     "name": "stderr",
     "output_type": "stream",
     "text": [
      "/Users/theodorefischer/Desktop/ENSTA/IA/IA26/nom_env/lib/python3.11/site-packages/sklearn/neural_network/_multilayer_perceptron.py:691: ConvergenceWarning: Stochastic Optimizer: Maximum iterations (300) reached and the optimization hasn't converged yet.\n",
      "  warnings.warn(\n"
     ]
    },
    {
     "name": "stdout",
     "output_type": "stream",
     "text": [
      "Config: hl=(32,), act=relu, lr=0.01, max_iter=300\n",
      "  MAE  : 2108.27 | RMSE : 4697.10 | R² : 0.1420\n",
      "--------------------------------------------------\n",
      "Config: hl=(32,), act=relu, lr=0.01, max_iter=500\n",
      "  MAE  : 2131.14 | RMSE : 4697.53 | R² : 0.1418\n",
      "--------------------------------------------------\n"
     ]
    },
    {
     "name": "stderr",
     "output_type": "stream",
     "text": [
      "/Users/theodorefischer/Desktop/ENSTA/IA/IA26/nom_env/lib/python3.11/site-packages/sklearn/neural_network/_multilayer_perceptron.py:691: ConvergenceWarning: Stochastic Optimizer: Maximum iterations (300) reached and the optimization hasn't converged yet.\n",
      "  warnings.warn(\n"
     ]
    },
    {
     "name": "stdout",
     "output_type": "stream",
     "text": [
      "Config: hl=(32,), act=tanh, lr=0.001, max_iter=300\n",
      "  MAE  : 8416.51 | RMSE : 9824.74 | R² : -2.7538\n",
      "--------------------------------------------------\n"
     ]
    },
    {
     "name": "stderr",
     "output_type": "stream",
     "text": [
      "/Users/theodorefischer/Desktop/ENSTA/IA/IA26/nom_env/lib/python3.11/site-packages/sklearn/neural_network/_multilayer_perceptron.py:691: ConvergenceWarning: Stochastic Optimizer: Maximum iterations (500) reached and the optimization hasn't converged yet.\n",
      "  warnings.warn(\n"
     ]
    },
    {
     "name": "stdout",
     "output_type": "stream",
     "text": [
      "Config: hl=(32,), act=tanh, lr=0.001, max_iter=500\n",
      "  MAE  : 6499.15 | RMSE : 8227.68 | R² : -1.6326\n",
      "--------------------------------------------------\n"
     ]
    },
    {
     "name": "stderr",
     "output_type": "stream",
     "text": [
      "/Users/theodorefischer/Desktop/ENSTA/IA/IA26/nom_env/lib/python3.11/site-packages/sklearn/neural_network/_multilayer_perceptron.py:691: ConvergenceWarning: Stochastic Optimizer: Maximum iterations (300) reached and the optimization hasn't converged yet.\n",
      "  warnings.warn(\n"
     ]
    },
    {
     "name": "stdout",
     "output_type": "stream",
     "text": [
      "Config: hl=(32,), act=tanh, lr=0.01, max_iter=300\n",
      "  MAE  : 2158.88 | RMSE : 4711.67 | R² : 0.1367\n",
      "--------------------------------------------------\n"
     ]
    },
    {
     "name": "stderr",
     "output_type": "stream",
     "text": [
      "/Users/theodorefischer/Desktop/ENSTA/IA/IA26/nom_env/lib/python3.11/site-packages/sklearn/neural_network/_multilayer_perceptron.py:691: ConvergenceWarning: Stochastic Optimizer: Maximum iterations (500) reached and the optimization hasn't converged yet.\n",
      "  warnings.warn(\n",
      "Hidden Layers:  17%|█▋        | 1/6 [01:38<08:11, 98.24s/it]"
     ]
    },
    {
     "name": "stdout",
     "output_type": "stream",
     "text": [
      "Config: hl=(32,), act=tanh, lr=0.01, max_iter=500\n",
      "  MAE  : 2165.32 | RMSE : 4703.10 | R² : 0.1398\n",
      "--------------------------------------------------\n"
     ]
    },
    {
     "name": "stderr",
     "output_type": "stream",
     "text": [
      "/Users/theodorefischer/Desktop/ENSTA/IA/IA26/nom_env/lib/python3.11/site-packages/sklearn/neural_network/_multilayer_perceptron.py:691: ConvergenceWarning: Stochastic Optimizer: Maximum iterations (300) reached and the optimization hasn't converged yet.\n",
      "  warnings.warn(\n"
     ]
    },
    {
     "name": "stdout",
     "output_type": "stream",
     "text": [
      "Config: hl=(64,), act=relu, lr=0.001, max_iter=300\n",
      "  MAE  : 2196.59 | RMSE : 4754.63 | R² : 0.1208\n",
      "--------------------------------------------------\n"
     ]
    },
    {
     "name": "stderr",
     "output_type": "stream",
     "text": [
      "/Users/theodorefischer/Desktop/ENSTA/IA/IA26/nom_env/lib/python3.11/site-packages/sklearn/neural_network/_multilayer_perceptron.py:691: ConvergenceWarning: Stochastic Optimizer: Maximum iterations (500) reached and the optimization hasn't converged yet.\n",
      "  warnings.warn(\n"
     ]
    },
    {
     "name": "stdout",
     "output_type": "stream",
     "text": [
      "Config: hl=(64,), act=relu, lr=0.001, max_iter=500\n",
      "  MAE  : 2161.55 | RMSE : 4729.74 | R² : 0.1300\n",
      "--------------------------------------------------\n",
      "Config: hl=(64,), act=relu, lr=0.01, max_iter=300\n",
      "  MAE  : 2111.44 | RMSE : 4690.99 | R² : 0.1442\n",
      "--------------------------------------------------\n",
      "Config: hl=(64,), act=relu, lr=0.01, max_iter=500\n",
      "  MAE  : 2111.44 | RMSE : 4690.99 | R² : 0.1442\n",
      "--------------------------------------------------\n"
     ]
    },
    {
     "name": "stderr",
     "output_type": "stream",
     "text": [
      "/Users/theodorefischer/Desktop/ENSTA/IA/IA26/nom_env/lib/python3.11/site-packages/sklearn/neural_network/_multilayer_perceptron.py:691: ConvergenceWarning: Stochastic Optimizer: Maximum iterations (300) reached and the optimization hasn't converged yet.\n",
      "  warnings.warn(\n"
     ]
    },
    {
     "name": "stdout",
     "output_type": "stream",
     "text": [
      "Config: hl=(64,), act=tanh, lr=0.001, max_iter=300\n",
      "  MAE  : 5642.62 | RMSE : 7552.93 | R² : -1.2185\n",
      "--------------------------------------------------\n"
     ]
    },
    {
     "name": "stderr",
     "output_type": "stream",
     "text": [
      "/Users/theodorefischer/Desktop/ENSTA/IA/IA26/nom_env/lib/python3.11/site-packages/sklearn/neural_network/_multilayer_perceptron.py:691: ConvergenceWarning: Stochastic Optimizer: Maximum iterations (500) reached and the optimization hasn't converged yet.\n",
      "  warnings.warn(\n"
     ]
    },
    {
     "name": "stdout",
     "output_type": "stream",
     "text": [
      "Config: hl=(64,), act=tanh, lr=0.001, max_iter=500\n",
      "  MAE  : 2717.75 | RMSE : 5400.36 | R² : -0.1342\n",
      "--------------------------------------------------\n"
     ]
    },
    {
     "name": "stderr",
     "output_type": "stream",
     "text": [
      "/Users/theodorefischer/Desktop/ENSTA/IA/IA26/nom_env/lib/python3.11/site-packages/sklearn/neural_network/_multilayer_perceptron.py:691: ConvergenceWarning: Stochastic Optimizer: Maximum iterations (300) reached and the optimization hasn't converged yet.\n",
      "  warnings.warn(\n"
     ]
    },
    {
     "name": "stdout",
     "output_type": "stream",
     "text": [
      "Config: hl=(64,), act=tanh, lr=0.01, max_iter=300\n",
      "  MAE  : 2165.13 | RMSE : 4692.85 | R² : 0.1435\n",
      "--------------------------------------------------\n"
     ]
    },
    {
     "name": "stderr",
     "output_type": "stream",
     "text": [
      "/Users/theodorefischer/Desktop/ENSTA/IA/IA26/nom_env/lib/python3.11/site-packages/sklearn/neural_network/_multilayer_perceptron.py:691: ConvergenceWarning: Stochastic Optimizer: Maximum iterations (500) reached and the optimization hasn't converged yet.\n",
      "  warnings.warn(\n",
      "Hidden Layers:  33%|███▎      | 2/6 [03:46<07:42, 115.65s/it]"
     ]
    },
    {
     "name": "stdout",
     "output_type": "stream",
     "text": [
      "Config: hl=(64,), act=tanh, lr=0.01, max_iter=500\n",
      "  MAE  : 2169.34 | RMSE : 4684.30 | R² : 0.1467\n",
      "--------------------------------------------------\n"
     ]
    },
    {
     "name": "stderr",
     "output_type": "stream",
     "text": [
      "/Users/theodorefischer/Desktop/ENSTA/IA/IA26/nom_env/lib/python3.11/site-packages/sklearn/neural_network/_multilayer_perceptron.py:691: ConvergenceWarning: Stochastic Optimizer: Maximum iterations (300) reached and the optimization hasn't converged yet.\n",
      "  warnings.warn(\n"
     ]
    },
    {
     "name": "stdout",
     "output_type": "stream",
     "text": [
      "Config: hl=(128,), act=relu, lr=0.001, max_iter=300\n",
      "  MAE  : 2153.28 | RMSE : 4727.07 | R² : 0.1310\n",
      "--------------------------------------------------\n"
     ]
    },
    {
     "name": "stderr",
     "output_type": "stream",
     "text": [
      "/Users/theodorefischer/Desktop/ENSTA/IA/IA26/nom_env/lib/python3.11/site-packages/sklearn/neural_network/_multilayer_perceptron.py:691: ConvergenceWarning: Stochastic Optimizer: Maximum iterations (500) reached and the optimization hasn't converged yet.\n",
      "  warnings.warn(\n"
     ]
    },
    {
     "name": "stdout",
     "output_type": "stream",
     "text": [
      "Config: hl=(128,), act=relu, lr=0.001, max_iter=500\n",
      "  MAE  : 2125.02 | RMSE : 4714.24 | R² : 0.1357\n",
      "--------------------------------------------------\n"
     ]
    },
    {
     "name": "stderr",
     "output_type": "stream",
     "text": [
      "/Users/theodorefischer/Desktop/ENSTA/IA/IA26/nom_env/lib/python3.11/site-packages/sklearn/neural_network/_multilayer_perceptron.py:691: ConvergenceWarning: Stochastic Optimizer: Maximum iterations (300) reached and the optimization hasn't converged yet.\n",
      "  warnings.warn(\n"
     ]
    },
    {
     "name": "stdout",
     "output_type": "stream",
     "text": [
      "Config: hl=(128,), act=relu, lr=0.01, max_iter=300\n",
      "  MAE  : 2117.30 | RMSE : 4681.72 | R² : 0.1476\n",
      "--------------------------------------------------\n",
      "Config: hl=(128,), act=relu, lr=0.01, max_iter=500\n",
      "  MAE  : 2104.40 | RMSE : 4676.61 | R² : 0.1495\n",
      "--------------------------------------------------\n"
     ]
    },
    {
     "name": "stderr",
     "output_type": "stream",
     "text": [
      "/Users/theodorefischer/Desktop/ENSTA/IA/IA26/nom_env/lib/python3.11/site-packages/sklearn/neural_network/_multilayer_perceptron.py:691: ConvergenceWarning: Stochastic Optimizer: Maximum iterations (300) reached and the optimization hasn't converged yet.\n",
      "  warnings.warn(\n"
     ]
    },
    {
     "name": "stdout",
     "output_type": "stream",
     "text": [
      "Config: hl=(128,), act=tanh, lr=0.001, max_iter=300\n",
      "  MAE  : 2519.89 | RMSE : 5084.01 | R² : -0.0052\n",
      "--------------------------------------------------\n",
      "Config: hl=(128,), act=tanh, lr=0.001, max_iter=500\n",
      "  MAE  : 2616.70 | RMSE : 5071.76 | R² : -0.0004\n",
      "--------------------------------------------------\n"
     ]
    },
    {
     "name": "stderr",
     "output_type": "stream",
     "text": [
      "/Users/theodorefischer/Desktop/ENSTA/IA/IA26/nom_env/lib/python3.11/site-packages/sklearn/neural_network/_multilayer_perceptron.py:691: ConvergenceWarning: Stochastic Optimizer: Maximum iterations (300) reached and the optimization hasn't converged yet.\n",
      "  warnings.warn(\n"
     ]
    },
    {
     "name": "stdout",
     "output_type": "stream",
     "text": [
      "Config: hl=(128,), act=tanh, lr=0.01, max_iter=300\n",
      "  MAE  : 2144.14 | RMSE : 4670.92 | R² : 0.1515\n",
      "--------------------------------------------------\n"
     ]
    },
    {
     "name": "stderr",
     "output_type": "stream",
     "text": [
      "/Users/theodorefischer/Desktop/ENSTA/IA/IA26/nom_env/lib/python3.11/site-packages/sklearn/neural_network/_multilayer_perceptron.py:691: ConvergenceWarning: Stochastic Optimizer: Maximum iterations (500) reached and the optimization hasn't converged yet.\n",
      "  warnings.warn(\n",
      "Hidden Layers:  50%|█████     | 3/6 [07:00<07:34, 151.54s/it]"
     ]
    },
    {
     "name": "stdout",
     "output_type": "stream",
     "text": [
      "Config: hl=(128,), act=tanh, lr=0.01, max_iter=500\n",
      "  MAE  : 2145.67 | RMSE : 4663.69 | R² : 0.1542\n",
      "--------------------------------------------------\n"
     ]
    },
    {
     "name": "stderr",
     "output_type": "stream",
     "text": [
      "/Users/theodorefischer/Desktop/ENSTA/IA/IA26/nom_env/lib/python3.11/site-packages/sklearn/neural_network/_multilayer_perceptron.py:691: ConvergenceWarning: Stochastic Optimizer: Maximum iterations (300) reached and the optimization hasn't converged yet.\n",
      "  warnings.warn(\n"
     ]
    },
    {
     "name": "stdout",
     "output_type": "stream",
     "text": [
      "Config: hl=(64, 64), act=relu, lr=0.001, max_iter=300\n",
      "  MAE  : 2121.09 | RMSE : 4683.37 | R² : 0.1470\n",
      "--------------------------------------------------\n"
     ]
    },
    {
     "name": "stderr",
     "output_type": "stream",
     "text": [
      "/Users/theodorefischer/Desktop/ENSTA/IA/IA26/nom_env/lib/python3.11/site-packages/sklearn/neural_network/_multilayer_perceptron.py:691: ConvergenceWarning: Stochastic Optimizer: Maximum iterations (500) reached and the optimization hasn't converged yet.\n",
      "  warnings.warn(\n"
     ]
    },
    {
     "name": "stdout",
     "output_type": "stream",
     "text": [
      "Config: hl=(64, 64), act=relu, lr=0.001, max_iter=500\n",
      "  MAE  : 2119.03 | RMSE : 4644.53 | R² : 0.1611\n",
      "--------------------------------------------------\n",
      "Config: hl=(64, 64), act=relu, lr=0.01, max_iter=300\n",
      "  MAE  : 2154.65 | RMSE : 4681.24 | R² : 0.1478\n",
      "--------------------------------------------------\n",
      "Config: hl=(64, 64), act=relu, lr=0.01, max_iter=500\n",
      "  MAE  : 2154.65 | RMSE : 4681.24 | R² : 0.1478\n",
      "--------------------------------------------------\n"
     ]
    },
    {
     "name": "stderr",
     "output_type": "stream",
     "text": [
      "/Users/theodorefischer/Desktop/ENSTA/IA/IA26/nom_env/lib/python3.11/site-packages/sklearn/neural_network/_multilayer_perceptron.py:691: ConvergenceWarning: Stochastic Optimizer: Maximum iterations (300) reached and the optimization hasn't converged yet.\n",
      "  warnings.warn(\n"
     ]
    },
    {
     "name": "stdout",
     "output_type": "stream",
     "text": [
      "Config: hl=(64, 64), act=tanh, lr=0.001, max_iter=300\n",
      "  MAE  : 5670.81 | RMSE : 7574.68 | R² : -1.2313\n",
      "--------------------------------------------------\n"
     ]
    },
    {
     "name": "stderr",
     "output_type": "stream",
     "text": [
      "/Users/theodorefischer/Desktop/ENSTA/IA/IA26/nom_env/lib/python3.11/site-packages/sklearn/neural_network/_multilayer_perceptron.py:691: ConvergenceWarning: Stochastic Optimizer: Maximum iterations (500) reached and the optimization hasn't converged yet.\n",
      "  warnings.warn(\n"
     ]
    },
    {
     "name": "stdout",
     "output_type": "stream",
     "text": [
      "Config: hl=(64, 64), act=tanh, lr=0.001, max_iter=500\n",
      "  MAE  : 2729.08 | RMSE : 5410.21 | R² : -0.1383\n",
      "--------------------------------------------------\n"
     ]
    },
    {
     "name": "stderr",
     "output_type": "stream",
     "text": [
      "/Users/theodorefischer/Desktop/ENSTA/IA/IA26/nom_env/lib/python3.11/site-packages/sklearn/neural_network/_multilayer_perceptron.py:691: ConvergenceWarning: Stochastic Optimizer: Maximum iterations (300) reached and the optimization hasn't converged yet.\n",
      "  warnings.warn(\n"
     ]
    },
    {
     "name": "stdout",
     "output_type": "stream",
     "text": [
      "Config: hl=(64, 64), act=tanh, lr=0.01, max_iter=300\n",
      "  MAE  : 2219.69 | RMSE : 4470.04 | R² : 0.2229\n",
      "--------------------------------------------------\n"
     ]
    },
    {
     "name": "stderr",
     "output_type": "stream",
     "text": [
      "Hidden Layers:  67%|██████▋   | 4/6 [11:01<06:14, 187.09s/it]"
     ]
    },
    {
     "name": "stdout",
     "output_type": "stream",
     "text": [
      "Config: hl=(64, 64), act=tanh, lr=0.01, max_iter=500\n",
      "  MAE  : 2279.12 | RMSE : 4442.79 | R² : 0.2324\n",
      "--------------------------------------------------\n"
     ]
    },
    {
     "name": "stderr",
     "output_type": "stream",
     "text": [
      "/Users/theodorefischer/Desktop/ENSTA/IA/IA26/nom_env/lib/python3.11/site-packages/sklearn/neural_network/_multilayer_perceptron.py:691: ConvergenceWarning: Stochastic Optimizer: Maximum iterations (300) reached and the optimization hasn't converged yet.\n",
      "  warnings.warn(\n"
     ]
    },
    {
     "name": "stdout",
     "output_type": "stream",
     "text": [
      "Config: hl=(128, 64), act=relu, lr=0.001, max_iter=300\n",
      "  MAE  : 2108.36 | RMSE : 4663.11 | R² : 0.1544\n",
      "--------------------------------------------------\n"
     ]
    },
    {
     "name": "stderr",
     "output_type": "stream",
     "text": [
      "/Users/theodorefischer/Desktop/ENSTA/IA/IA26/nom_env/lib/python3.11/site-packages/sklearn/neural_network/_multilayer_perceptron.py:691: ConvergenceWarning: Stochastic Optimizer: Maximum iterations (500) reached and the optimization hasn't converged yet.\n",
      "  warnings.warn(\n"
     ]
    },
    {
     "name": "stdout",
     "output_type": "stream",
     "text": [
      "Config: hl=(128, 64), act=relu, lr=0.001, max_iter=500\n",
      "  MAE  : 2130.72 | RMSE : 4637.65 | R² : 0.1636\n",
      "--------------------------------------------------\n"
     ]
    },
    {
     "name": "stderr",
     "output_type": "stream",
     "text": [
      "/Users/theodorefischer/Desktop/ENSTA/IA/IA26/nom_env/lib/python3.11/site-packages/sklearn/neural_network/_multilayer_perceptron.py:691: ConvergenceWarning: Stochastic Optimizer: Maximum iterations (300) reached and the optimization hasn't converged yet.\n",
      "  warnings.warn(\n"
     ]
    },
    {
     "name": "stdout",
     "output_type": "stream",
     "text": [
      "Config: hl=(128, 64), act=relu, lr=0.01, max_iter=300\n",
      "  MAE  : 2208.46 | RMSE : 4509.25 | R² : 0.2092\n",
      "--------------------------------------------------\n",
      "Config: hl=(128, 64), act=relu, lr=0.01, max_iter=500\n",
      "  MAE  : 2104.03 | RMSE : 4498.32 | R² : 0.2131\n",
      "--------------------------------------------------\n"
     ]
    },
    {
     "name": "stderr",
     "output_type": "stream",
     "text": [
      "/Users/theodorefischer/Desktop/ENSTA/IA/IA26/nom_env/lib/python3.11/site-packages/sklearn/neural_network/_multilayer_perceptron.py:691: ConvergenceWarning: Stochastic Optimizer: Maximum iterations (300) reached and the optimization hasn't converged yet.\n",
      "  warnings.warn(\n"
     ]
    },
    {
     "name": "stdout",
     "output_type": "stream",
     "text": [
      "Config: hl=(128, 64), act=tanh, lr=0.001, max_iter=300\n",
      "  MAE  : 5675.22 | RMSE : 7578.09 | R² : -1.2333\n",
      "--------------------------------------------------\n"
     ]
    },
    {
     "name": "stderr",
     "output_type": "stream",
     "text": [
      "/Users/theodorefischer/Desktop/ENSTA/IA/IA26/nom_env/lib/python3.11/site-packages/sklearn/neural_network/_multilayer_perceptron.py:691: ConvergenceWarning: Stochastic Optimizer: Maximum iterations (500) reached and the optimization hasn't converged yet.\n",
      "  warnings.warn(\n"
     ]
    },
    {
     "name": "stdout",
     "output_type": "stream",
     "text": [
      "Config: hl=(128, 64), act=tanh, lr=0.001, max_iter=500\n",
      "  MAE  : 2730.89 | RMSE : 5411.78 | R² : -0.1390\n",
      "--------------------------------------------------\n",
      "Config: hl=(128, 64), act=tanh, lr=0.01, max_iter=300\n",
      "  MAE  : 2617.28 | RMSE : 5071.80 | R² : -0.0004\n",
      "--------------------------------------------------\n"
     ]
    },
    {
     "name": "stderr",
     "output_type": "stream",
     "text": [
      "Hidden Layers:  83%|████████▎ | 5/6 [15:45<03:41, 221.97s/it]"
     ]
    },
    {
     "name": "stdout",
     "output_type": "stream",
     "text": [
      "Config: hl=(128, 64), act=tanh, lr=0.01, max_iter=500\n",
      "  MAE  : 2617.28 | RMSE : 5071.80 | R² : -0.0004\n",
      "--------------------------------------------------\n"
     ]
    },
    {
     "name": "stderr",
     "output_type": "stream",
     "text": [
      "/Users/theodorefischer/Desktop/ENSTA/IA/IA26/nom_env/lib/python3.11/site-packages/sklearn/neural_network/_multilayer_perceptron.py:691: ConvergenceWarning: Stochastic Optimizer: Maximum iterations (300) reached and the optimization hasn't converged yet.\n",
      "  warnings.warn(\n"
     ]
    },
    {
     "name": "stdout",
     "output_type": "stream",
     "text": [
      "Config: hl=(128, 128), act=relu, lr=0.001, max_iter=300\n",
      "  MAE  : 2142.56 | RMSE : 4663.04 | R² : 0.1544\n",
      "--------------------------------------------------\n"
     ]
    },
    {
     "name": "stderr",
     "output_type": "stream",
     "text": [
      "/Users/theodorefischer/Desktop/ENSTA/IA/IA26/nom_env/lib/python3.11/site-packages/sklearn/neural_network/_multilayer_perceptron.py:691: ConvergenceWarning: Stochastic Optimizer: Maximum iterations (500) reached and the optimization hasn't converged yet.\n",
      "  warnings.warn(\n"
     ]
    },
    {
     "name": "stdout",
     "output_type": "stream",
     "text": [
      "Config: hl=(128, 128), act=relu, lr=0.001, max_iter=500\n",
      "  MAE  : 2163.03 | RMSE : 4639.04 | R² : 0.1631\n",
      "--------------------------------------------------\n"
     ]
    },
    {
     "name": "stderr",
     "output_type": "stream",
     "text": [
      "/Users/theodorefischer/Desktop/ENSTA/IA/IA26/nom_env/lib/python3.11/site-packages/sklearn/neural_network/_multilayer_perceptron.py:691: ConvergenceWarning: Stochastic Optimizer: Maximum iterations (300) reached and the optimization hasn't converged yet.\n",
      "  warnings.warn(\n"
     ]
    },
    {
     "name": "stdout",
     "output_type": "stream",
     "text": [
      "Config: hl=(128, 128), act=relu, lr=0.01, max_iter=300\n",
      "  MAE  : 2092.00 | RMSE : 4275.77 | R² : 0.2890\n",
      "--------------------------------------------------\n",
      "Config: hl=(128, 128), act=relu, lr=0.01, max_iter=500\n",
      "  MAE  : 2076.90 | RMSE : 4215.28 | R² : 0.3090\n",
      "--------------------------------------------------\n"
     ]
    },
    {
     "name": "stderr",
     "output_type": "stream",
     "text": [
      "/Users/theodorefischer/Desktop/ENSTA/IA/IA26/nom_env/lib/python3.11/site-packages/sklearn/neural_network/_multilayer_perceptron.py:691: ConvergenceWarning: Stochastic Optimizer: Maximum iterations (300) reached and the optimization hasn't converged yet.\n",
      "  warnings.warn(\n"
     ]
    },
    {
     "name": "stdout",
     "output_type": "stream",
     "text": [
      "Config: hl=(128, 128), act=tanh, lr=0.001, max_iter=300\n",
      "  MAE  : 2513.76 | RMSE : 5087.66 | R² : -0.0066\n",
      "--------------------------------------------------\n",
      "Config: hl=(128, 128), act=tanh, lr=0.001, max_iter=500\n",
      "  MAE  : 2616.85 | RMSE : 5071.77 | R² : -0.0004\n",
      "--------------------------------------------------\n",
      "Config: hl=(128, 128), act=tanh, lr=0.01, max_iter=300\n",
      "  MAE  : 2618.05 | RMSE : 5071.86 | R² : -0.0004\n",
      "--------------------------------------------------\n"
     ]
    },
    {
     "name": "stderr",
     "output_type": "stream",
     "text": [
      "Hidden Layers: 100%|██████████| 6/6 [21:34<00:00, 215.74s/it]"
     ]
    },
    {
     "name": "stdout",
     "output_type": "stream",
     "text": [
      "Config: hl=(128, 128), act=tanh, lr=0.01, max_iter=500\n",
      "  MAE  : 2618.05 | RMSE : 5071.86 | R² : -0.0004\n",
      "--------------------------------------------------\n",
      "\n",
      "✅ Best configuration found:\n",
      "{'hidden_layers': (128, 128), 'activation': 'relu', 'learning_rate': 0.01, 'max_iter': 500, 'mae': 2076.898175426154, 'rmse': np.float64(4215.277856708687), 'r2': 0.30898648378056737}\n"
     ]
    },
    {
     "name": "stderr",
     "output_type": "stream",
     "text": [
      "\n"
     ]
    }
   ],
   "source": [
    "from sklearn.neural_network import MLPRegressor\n",
    "from sklearn.metrics import mean_absolute_error, mean_squared_error, r2_score\n",
    "from sklearn.preprocessing import StandardScaler\n",
    "from tqdm import tqdm\n",
    "import numpy as np\n",
    "\n",
    "# ⚠️ MLP nécessite un scaling\n",
    "scaler = StandardScaler()\n",
    "X_train_scaled = scaler.fit_transform(X_train)\n",
    "X_test_scaled = scaler.transform(X_test)\n",
    "\n",
    "# Grille d'hyperparamètres à tester\n",
    "hidden_layer_options = [\n",
    "    (32,), (64,), (128,),\n",
    "    (64, 64), (128, 64), (128, 128)\n",
    "]\n",
    "activations = ['relu', 'tanh']\n",
    "learning_rates = [0.001, 0.01]\n",
    "max_iters = [300, 500]\n",
    "\n",
    "# Pour stocker les meilleurs résultats\n",
    "best_score = -np.inf\n",
    "best_config = None\n",
    "\n",
    "print(\"🔍 Testing MLPRegressor configurations...\\n\")\n",
    "for hl in tqdm(hidden_layer_options, desc=\"Hidden Layers\"):\n",
    "    for act in activations:\n",
    "        for lr in learning_rates:\n",
    "            for mi in max_iters:\n",
    "                model = MLPRegressor(\n",
    "                    hidden_layer_sizes=hl,\n",
    "                    activation=act,\n",
    "                    learning_rate_init=lr,\n",
    "                    max_iter=mi,\n",
    "                    random_state=42\n",
    "                )\n",
    "\n",
    "                try:\n",
    "                    model.fit(X_train_scaled, y_train)\n",
    "                    y_pred = model.predict(X_test_scaled)\n",
    "\n",
    "                    mae = mean_absolute_error(y_test, y_pred)\n",
    "                    rmse = np.sqrt(mean_squared_error(y_test, y_pred))\n",
    "                    r2 = r2_score(y_test, y_pred)\n",
    "\n",
    "                    print(f\"Config: hl={hl}, act={act}, lr={lr}, max_iter={mi}\")\n",
    "                    print(f\"  MAE  : {mae:.2f} | RMSE : {rmse:.2f} | R² : {r2:.4f}\")\n",
    "                    print(\"-\" * 50)\n",
    "\n",
    "                    if r2 > best_score:\n",
    "                        best_score = r2\n",
    "                        best_config = {\n",
    "                            'hidden_layers': hl,\n",
    "                            'activation': act,\n",
    "                            'learning_rate': lr,\n",
    "                            'max_iter': mi,\n",
    "                            'mae': mae,\n",
    "                            'rmse': rmse,\n",
    "                            'r2': r2\n",
    "                        }\n",
    "\n",
    "                except Exception as e:\n",
    "                    print(f\"⚠️ Failed config: {hl}, {act}, {lr}, {mi} → {e}\")\n",
    "\n",
    "# Résultat final\n",
    "print(\"\\n✅ Best configuration found:\")\n",
    "print(best_config)\n"
   ]
  },
  {
   "cell_type": "markdown",
   "id": "bedf0713",
   "metadata": {},
   "source": [
    "## Conclusion : \n",
    "\n",
    "1. Les modèles linéaires sont mauvais  \n",
    "2. Les arbres de décision sont bons  \n",
    "3. Les modèles boost sont bons  \n",
    "4. Les modèles de KNN sont bons  \n",
    "5. Les modèles MLP sont mauvais (ou bien trop complexe à calibrer)"
   ]
  }
 ],
 "metadata": {
  "kernelspec": {
   "display_name": "nom_env",
   "language": "python",
   "name": "python3"
  },
  "language_info": {
   "codemirror_mode": {
    "name": "ipython",
    "version": 3
   },
   "file_extension": ".py",
   "mimetype": "text/x-python",
   "name": "python",
   "nbconvert_exporter": "python",
   "pygments_lexer": "ipython3",
   "version": "3.11.0"
  }
 },
 "nbformat": 4,
 "nbformat_minor": 5
}
