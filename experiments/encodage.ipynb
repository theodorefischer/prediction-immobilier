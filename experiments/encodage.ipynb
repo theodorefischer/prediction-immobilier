{
 "cells": [
  {
   "cell_type": "markdown",
   "id": "da2d4484",
   "metadata": {},
   "source": [
    "## Test de différents encodage\n",
    "\n",
    "#### Import du dataframe néttoyé"
   ]
  },
  {
   "cell_type": "code",
   "execution_count": 1,
   "id": "351d5ceb",
   "metadata": {},
   "outputs": [],
   "source": [
    "# Importing the librairies\n",
    "import pandas as pd\n",
    "\n",
    "# Exporting the csv file into a DataFrame pandas\n",
    "chemin_fichier = \"../data/data_cleaned.csv\"\n",
    "df = pd.read_csv(chemin_fichier)"
   ]
  },
  {
   "cell_type": "code",
   "execution_count": 2,
   "id": "42aabdef",
   "metadata": {},
   "outputs": [],
   "source": [
    "# A mettre directement dans wrangling\n",
    "df.drop(columns='date_mutation', inplace=True)"
   ]
  },
  {
   "cell_type": "markdown",
   "id": "ec532ace",
   "metadata": {},
   "source": [
    "#### One Hot Encoding"
   ]
  },
  {
   "cell_type": "code",
   "execution_count": 3,
   "id": "0449b639",
   "metadata": {},
   "outputs": [],
   "source": [
    "from sklearn.preprocessing import OneHotEncoder\n",
    "\n",
    "# Defining our Encoder\n",
    "encoder = OneHotEncoder(sparse_output=False)\n",
    "\n",
    "# Encoding\n",
    "encoded = encoder.fit_transform(df[['adresse_nom_voie']])\n",
    "col_names = encoder.get_feature_names_out(['adresse_nom_voie'])\n",
    "encoded_df = pd.DataFrame(encoded, columns=col_names, index=df.index)\n",
    "\n",
    "\n",
    "df_one_hot = pd.concat([df.drop(columns=['adresse_nom_voie','adresse_code_voie']), encoded_df], axis=1)"
   ]
  },
  {
   "cell_type": "code",
   "execution_count": 19,
   "id": "26091985",
   "metadata": {},
   "outputs": [
    {
     "data": {
      "text/plain": [
       "(57957, 3386)"
      ]
     },
     "execution_count": 19,
     "metadata": {},
     "output_type": "execute_result"
    }
   ],
   "source": [
    "df_one_hot.shape"
   ]
  },
  {
   "cell_type": "markdown",
   "id": "99202c35",
   "metadata": {},
   "source": [
    "#### Enregistrement de l'encoder pour l'app"
   ]
  },
  {
   "cell_type": "code",
   "execution_count": 4,
   "id": "56dd9a59",
   "metadata": {},
   "outputs": [],
   "source": [
    "import pickle\n",
    "\n",
    "# Sauvegarde\n",
    "with open(\"../models/encoder.pkl\", \"wb\") as f:\n",
    "    pickle.dump(encoder, f)"
   ]
  },
  {
   "cell_type": "markdown",
   "id": "a8df5e97",
   "metadata": {},
   "source": [
    "#### Encodage entier "
   ]
  },
  {
   "cell_type": "code",
   "execution_count": 5,
   "id": "27938c9f",
   "metadata": {},
   "outputs": [],
   "source": [
    "df_encodage_entier = df.drop(columns='adresse_nom_voie')"
   ]
  },
  {
   "cell_type": "markdown",
   "id": "6831d1ea",
   "metadata": {},
   "source": [
    "#### Entrainement des deux dataframe sur un arbre des décision"
   ]
  },
  {
   "cell_type": "code",
   "execution_count": 15,
   "id": "e59f1de9",
   "metadata": {},
   "outputs": [
    {
     "name": "stdout",
     "output_type": "stream",
     "text": [
      "MAE : 1765.90\n",
      "RMSE : 3210.20\n",
      "R²   : 0.2537\n"
     ]
    }
   ],
   "source": [
    "from sklearn.tree import DecisionTreeRegressor\n",
    "from sklearn.model_selection import train_test_split\n",
    "from sklearn.metrics import mean_absolute_error, root_mean_squared_error, r2_score, mean_squared_error\n",
    "import numpy as np\n",
    "\n",
    "# Creating feature\n",
    "X = df_one_hot.drop(columns='prix_au_m2')\n",
    "y = df_one_hot['prix_au_m2']\n",
    "\n",
    "# Spliting train/test\n",
    "X_train, X_test, y_train, y_test = train_test_split( X, y, test_size=0.2, random_state=42)\n",
    "\n",
    "# Training the model\n",
    "model = DecisionTreeRegressor(max_depth=10, random_state=42)\n",
    "model.fit(X_train, y_train)\n",
    "\n",
    "# Making the predictions\n",
    "y_pred = model.predict(X_test)\n",
    "\n",
    "# Evaluating the model\n",
    "mae = mean_absolute_error(y_test,y_pred)\n",
    "rmse = root_mean_squared_error(y_test,y_pred)\n",
    "r2 = r2_score(y_test,y_pred)\n",
    "\n",
    "print(f\"MAE : {mae:.2f}\")\n",
    "print(f\"RMSE : {rmse:.2f}\")\n",
    "print(f\"R²   : {r2:.4f}\")"
   ]
  },
  {
   "cell_type": "code",
   "execution_count": null,
   "id": "4ddb19d3",
   "metadata": {},
   "outputs": [
    {
     "name": "stdout",
     "output_type": "stream",
     "text": [
      "MAE : 1804.14\n",
      "RMSE : 3352.25\n",
      "R²   : 0.1862\n"
     ]
    }
   ],
   "source": [
    "# Creating feature\n",
    "X = df_encodage_entier.drop(columns='prix_au_m2')\n",
    "y = df_encodage_entier['prix_au_m2']\n",
    "\n",
    "# Spliting train/test\n",
    "X_train, X_test, y_train, y_test = train_test_split( X, y, test_size=0.2, random_state=42)\n",
    "\n",
    "# Training the model\n",
    "model = DecisionTreeRegressor(max_depth=10, random_state=42)\n",
    "model.fit(X_train, y_train)\n",
    "\n",
    "# Making the predictions\n",
    "y_pred = model.predict(X_test)\n",
    "\n",
    "# Evaluating the model\n",
    "mae = mean_absolute_error(y_test,y_pred)\n",
    "rmse = root_mean_squared_error(y_test,y_pred)\n",
    "r2 = r2_score(y_test,y_pred)\n",
    "\n",
    "print(f\"MAE : {mae:.2f}\")\n",
    "print(f\"RMSE : {rmse:.2f}\")\n",
    "print(f\"R²   : {r2:.4f}\")"
   ]
  },
  {
   "cell_type": "markdown",
   "id": "1ead9440",
   "metadata": {},
   "source": [
    "#### L'encodage OneHot est ici meilleur sur chacune des métriques mais est 40 fois plus long : 4.0s contre 0.1"
   ]
  },
  {
   "cell_type": "code",
   "execution_count": 16,
   "id": "506b32a5",
   "metadata": {},
   "outputs": [
    {
     "name": "stdout",
     "output_type": "stream",
     "text": [
      "MAE : 1707.83\n",
      "RMSE : 2959.46\n",
      "R²   : 0.3658\n"
     ]
    }
   ],
   "source": [
    "from sklearn.ensemble import RandomForestRegressor\n",
    "\n",
    "# Creating feature\n",
    "X = df_one_hot.drop(columns='prix_au_m2')\n",
    "y = df_one_hot['prix_au_m2']\n",
    "\n",
    "# Spliting train/test\n",
    "X_train, X_test, y_train, y_test = train_test_split( X, y, test_size=0.2, random_state=42)\n",
    "\n",
    "# Training the model\n",
    "model = RandomForestRegressor(n_estimators=100, random_state=42, n_jobs=-1)\n",
    "model.fit(X_train, y_train)\n",
    "\n",
    "# Making the predictions\n",
    "y_pred = model.predict(X_test)\n",
    "\n",
    "# Evaluating the model\n",
    "mae = mean_absolute_error(y_test,y_pred)\n",
    "rmse = root_mean_squared_error(y_test,y_pred)\n",
    "r2 = r2_score(y_test,y_pred)\n",
    "\n",
    "print(f\"MAE : {mae:.2f}\")\n",
    "print(f\"RMSE : {rmse:.2f}\")\n",
    "print(f\"R²   : {r2:.4f}\")"
   ]
  },
  {
   "cell_type": "markdown",
   "id": "60baa1a4",
   "metadata": {},
   "source": [
    "#### Saving best model"
   ]
  },
  {
   "cell_type": "code",
   "execution_count": 17,
   "id": "0e8ed907",
   "metadata": {},
   "outputs": [],
   "source": [
    "from sklearn.ensemble import RandomForestRegressor\n",
    "import pickle\n",
    "\n",
    "# Creating feature\n",
    "X = df_one_hot.drop(columns='prix_au_m2')\n",
    "y = df_one_hot['prix_au_m2']\n",
    "\n",
    "# Training the model on all the data for the app\n",
    "model = RandomForestRegressor(n_estimators=100, random_state=42, n_jobs=-1)\n",
    "model.fit(X, y)\n",
    "\n",
    "# Sauvegarde\n",
    "with open(\"../models/model.pkl\", \"wb\") as f:\n",
    "    pickle.dump(encoder, f)"
   ]
  },
  {
   "cell_type": "code",
   "execution_count": 18,
   "id": "313e137d",
   "metadata": {},
   "outputs": [],
   "source": [
    "# Sauvegarde\n",
    "with open(\"../models/model.pkl\", \"wb\") as f:\n",
    "    pickle.dump(model, f)"
   ]
  }
 ],
 "metadata": {
  "kernelspec": {
   "display_name": "project-env",
   "language": "python",
   "name": "python3"
  },
  "language_info": {
   "codemirror_mode": {
    "name": "ipython",
    "version": 3
   },
   "file_extension": ".py",
   "mimetype": "text/x-python",
   "name": "python",
   "nbconvert_exporter": "python",
   "pygments_lexer": "ipython3",
   "version": "3.11.0"
  }
 },
 "nbformat": 4,
 "nbformat_minor": 5
}
