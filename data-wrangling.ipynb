{
 "cells": [
  {
   "cell_type": "markdown",
   "id": "8d4c6d39",
   "metadata": {},
   "source": [
    "# Data Exploration and Wrangling\n",
    "\n",
    "#### Importation du csv et transformation au format dataframe pandas"
   ]
  },
  {
   "cell_type": "code",
   "execution_count": 1,
   "id": "fb4bcdf9",
   "metadata": {},
   "outputs": [
    {
     "name": "stdout",
     "output_type": "stream",
     "text": [
      "/Users/theodorefischer/Desktop/Perso/Projet/prediction-immobilier\n"
     ]
    },
    {
     "name": "stderr",
     "output_type": "stream",
     "text": [
      "/var/folders/g9/1z_9t2sn34d6xr4x1kfly2dw0000gn/T/ipykernel_56536/2811993732.py:10: DtypeWarning: Columns (2,4,5,9,10,12,13,14,16,17,18,19,20,21,22,23,24,25,26,27,28,29,31,32,35,36,37,38,39) have mixed types. Specify dtype option on import or set low_memory=False.\n",
      "  df = pd.read_csv(chemin_fichier)\n"
     ]
    },
    {
     "data": {
      "application/vnd.microsoft.datawrangler.viewer.v0+json": {
       "columns": [
        {
         "name": "index",
         "rawType": "int64",
         "type": "integer"
        },
        {
         "name": "id_mutation",
         "rawType": "object",
         "type": "string"
        },
        {
         "name": "date_mutation",
         "rawType": "object",
         "type": "string"
        },
        {
         "name": "numero_disposition",
         "rawType": "object",
         "type": "unknown"
        },
        {
         "name": "nature_mutation",
         "rawType": "object",
         "type": "string"
        },
        {
         "name": "valeur_fonciere",
         "rawType": "object",
         "type": "unknown"
        },
        {
         "name": "adresse_numero",
         "rawType": "object",
         "type": "unknown"
        },
        {
         "name": "adresse_suffixe",
         "rawType": "object",
         "type": "unknown"
        },
        {
         "name": "adresse_nom_voie",
         "rawType": "object",
         "type": "string"
        },
        {
         "name": "adresse_code_voie",
         "rawType": "object",
         "type": "string"
        },
        {
         "name": "code_postal",
         "rawType": "object",
         "type": "unknown"
        },
        {
         "name": "code_commune",
         "rawType": "object",
         "type": "unknown"
        },
        {
         "name": "nom_commune",
         "rawType": "object",
         "type": "string"
        },
        {
         "name": "code_departement",
         "rawType": "object",
         "type": "unknown"
        },
        {
         "name": "ancien_code_commune",
         "rawType": "object",
         "type": "unknown"
        },
        {
         "name": "ancien_nom_commune",
         "rawType": "object",
         "type": "unknown"
        },
        {
         "name": "id_parcelle",
         "rawType": "object",
         "type": "string"
        },
        {
         "name": "ancien_id_parcelle",
         "rawType": "object",
         "type": "unknown"
        },
        {
         "name": "numero_volume",
         "rawType": "object",
         "type": "unknown"
        },
        {
         "name": "lot1_numero",
         "rawType": "object",
         "type": "unknown"
        },
        {
         "name": "lot1_surface_carrez",
         "rawType": "object",
         "type": "unknown"
        },
        {
         "name": "lot2_numero",
         "rawType": "object",
         "type": "unknown"
        },
        {
         "name": "lot2_surface_carrez",
         "rawType": "object",
         "type": "unknown"
        },
        {
         "name": "lot3_numero",
         "rawType": "object",
         "type": "unknown"
        },
        {
         "name": "lot3_surface_carrez",
         "rawType": "object",
         "type": "unknown"
        },
        {
         "name": "lot4_numero",
         "rawType": "object",
         "type": "unknown"
        },
        {
         "name": "lot4_surface_carrez",
         "rawType": "object",
         "type": "unknown"
        },
        {
         "name": "lot5_numero",
         "rawType": "object",
         "type": "unknown"
        },
        {
         "name": "lot5_surface_carrez",
         "rawType": "object",
         "type": "unknown"
        },
        {
         "name": "nombre_lots",
         "rawType": "object",
         "type": "unknown"
        },
        {
         "name": "code_type_local",
         "rawType": "object",
         "type": "unknown"
        },
        {
         "name": "type_local",
         "rawType": "object",
         "type": "string"
        },
        {
         "name": "surface_reelle_bati",
         "rawType": "object",
         "type": "unknown"
        },
        {
         "name": "nombre_pieces_principales",
         "rawType": "object",
         "type": "unknown"
        },
        {
         "name": "code_nature_culture",
         "rawType": "object",
         "type": "unknown"
        },
        {
         "name": "nature_culture",
         "rawType": "object",
         "type": "unknown"
        },
        {
         "name": "code_nature_culture_speciale",
         "rawType": "object",
         "type": "unknown"
        },
        {
         "name": "nature_culture_speciale",
         "rawType": "object",
         "type": "unknown"
        },
        {
         "name": "surface_terrain",
         "rawType": "object",
         "type": "unknown"
        },
        {
         "name": "longitude",
         "rawType": "object",
         "type": "unknown"
        },
        {
         "name": "latitude",
         "rawType": "object",
         "type": "unknown"
        },
        {
         "name": "section_prefixe",
         "rawType": "object",
         "type": "string"
        }
       ],
       "ref": "c408a254-15af-4ce6-9973-e001b36aaf30",
       "rows": [
        [
         "0",
         "2020-1426687",
         "2020-01-02",
         "1",
         "Vente",
         "268800.0",
         "14.0",
         null,
         "RUE DE L ARCADE",
         "0411",
         "75008.0",
         "75108",
         "Paris 8e Arrondissement",
         "75",
         null,
         null,
         "75108000BS0136",
         null,
         null,
         "31.0",
         null,
         "8.0",
         "22.72",
         null,
         null,
         null,
         null,
         null,
         null,
         "2",
         "2.0",
         "Appartement",
         "24.0",
         "1.0",
         null,
         null,
         null,
         null,
         null,
         "2.323937",
         "48.871607",
         "000BS"
        ],
        [
         "1",
         "2020-1426688",
         "2020-01-06",
         "1",
         "Vente",
         "878378.0",
         "9.0",
         null,
         "BD DE LA MADELEINE",
         "5888",
         "75001.0",
         "75101",
         "Paris 1er Arrondissement",
         "75",
         null,
         null,
         "75101000BC0041",
         null,
         null,
         "63.0",
         null,
         null,
         null,
         null,
         null,
         null,
         null,
         null,
         null,
         "1",
         "4.0",
         "Local industriel. commercial ou assimilé",
         "43.0",
         "0.0",
         null,
         null,
         null,
         null,
         null,
         "2.326882",
         "48.869331",
         "000BC"
        ],
        [
         "2",
         "2020-1426688",
         "2020-01-06",
         "1",
         "Vente",
         "878378.0",
         "9.0",
         null,
         "BD DE LA MADELEINE",
         "5888",
         "75001.0",
         "75101",
         "Paris 1er Arrondissement",
         "75",
         null,
         null,
         "75101000BC0041",
         null,
         null,
         "14.0",
         "66.64",
         "15.0",
         null,
         "40.0",
         null,
         null,
         null,
         null,
         null,
         "3",
         "2.0",
         "Appartement",
         "66.0",
         "2.0",
         null,
         null,
         null,
         null,
         null,
         "2.326882",
         "48.869331",
         "000BC"
        ],
        [
         "3",
         "2020-1426689",
         "2020-01-10",
         "1",
         "Vente",
         "680000.0",
         "10.0",
         null,
         "RUE DU BOURG L ABBE",
         "1200",
         "75003.0",
         "75103",
         "Paris 3e Arrondissement",
         "75",
         null,
         null,
         "75103000AV0006",
         null,
         null,
         "9.0",
         "50.74",
         null,
         null,
         null,
         null,
         null,
         null,
         null,
         null,
         "1",
         "2.0",
         "Appartement",
         "51.0",
         "2.0",
         null,
         null,
         null,
         null,
         null,
         "2.351965",
         "48.864157",
         "000AV"
        ],
        [
         "4",
         "2020-1426690",
         "2020-01-03",
         "1",
         "Vente",
         "852000.0",
         "24.0",
         null,
         "RUE DE SAINTONGE",
         "8716",
         "75003.0",
         "75103",
         "Paris 3e Arrondissement",
         "75",
         null,
         null,
         "75103000AK0080",
         null,
         null,
         "74.0",
         "66.0",
         null,
         null,
         null,
         null,
         null,
         null,
         null,
         null,
         "1",
         "2.0",
         "Appartement",
         "12.0",
         "1.0",
         null,
         null,
         null,
         null,
         null,
         "2.363196",
         "48.862017",
         "000AK"
        ]
       ],
       "shape": {
        "columns": 41,
        "rows": 5
       }
      },
      "text/html": [
       "<div>\n",
       "<style scoped>\n",
       "    .dataframe tbody tr th:only-of-type {\n",
       "        vertical-align: middle;\n",
       "    }\n",
       "\n",
       "    .dataframe tbody tr th {\n",
       "        vertical-align: top;\n",
       "    }\n",
       "\n",
       "    .dataframe thead th {\n",
       "        text-align: right;\n",
       "    }\n",
       "</style>\n",
       "<table border=\"1\" class=\"dataframe\">\n",
       "  <thead>\n",
       "    <tr style=\"text-align: right;\">\n",
       "      <th></th>\n",
       "      <th>id_mutation</th>\n",
       "      <th>date_mutation</th>\n",
       "      <th>numero_disposition</th>\n",
       "      <th>nature_mutation</th>\n",
       "      <th>valeur_fonciere</th>\n",
       "      <th>adresse_numero</th>\n",
       "      <th>adresse_suffixe</th>\n",
       "      <th>adresse_nom_voie</th>\n",
       "      <th>adresse_code_voie</th>\n",
       "      <th>code_postal</th>\n",
       "      <th>...</th>\n",
       "      <th>surface_reelle_bati</th>\n",
       "      <th>nombre_pieces_principales</th>\n",
       "      <th>code_nature_culture</th>\n",
       "      <th>nature_culture</th>\n",
       "      <th>code_nature_culture_speciale</th>\n",
       "      <th>nature_culture_speciale</th>\n",
       "      <th>surface_terrain</th>\n",
       "      <th>longitude</th>\n",
       "      <th>latitude</th>\n",
       "      <th>section_prefixe</th>\n",
       "    </tr>\n",
       "  </thead>\n",
       "  <tbody>\n",
       "    <tr>\n",
       "      <th>0</th>\n",
       "      <td>2020-1426687</td>\n",
       "      <td>2020-01-02</td>\n",
       "      <td>1</td>\n",
       "      <td>Vente</td>\n",
       "      <td>268800.0</td>\n",
       "      <td>14.0</td>\n",
       "      <td>NaN</td>\n",
       "      <td>RUE DE L ARCADE</td>\n",
       "      <td>0411</td>\n",
       "      <td>75008.0</td>\n",
       "      <td>...</td>\n",
       "      <td>24.0</td>\n",
       "      <td>1.0</td>\n",
       "      <td>NaN</td>\n",
       "      <td>NaN</td>\n",
       "      <td>NaN</td>\n",
       "      <td>NaN</td>\n",
       "      <td>NaN</td>\n",
       "      <td>2.323937</td>\n",
       "      <td>48.871607</td>\n",
       "      <td>000BS</td>\n",
       "    </tr>\n",
       "    <tr>\n",
       "      <th>1</th>\n",
       "      <td>2020-1426688</td>\n",
       "      <td>2020-01-06</td>\n",
       "      <td>1</td>\n",
       "      <td>Vente</td>\n",
       "      <td>878378.0</td>\n",
       "      <td>9.0</td>\n",
       "      <td>NaN</td>\n",
       "      <td>BD DE LA MADELEINE</td>\n",
       "      <td>5888</td>\n",
       "      <td>75001.0</td>\n",
       "      <td>...</td>\n",
       "      <td>43.0</td>\n",
       "      <td>0.0</td>\n",
       "      <td>NaN</td>\n",
       "      <td>NaN</td>\n",
       "      <td>NaN</td>\n",
       "      <td>NaN</td>\n",
       "      <td>NaN</td>\n",
       "      <td>2.326882</td>\n",
       "      <td>48.869331</td>\n",
       "      <td>000BC</td>\n",
       "    </tr>\n",
       "    <tr>\n",
       "      <th>2</th>\n",
       "      <td>2020-1426688</td>\n",
       "      <td>2020-01-06</td>\n",
       "      <td>1</td>\n",
       "      <td>Vente</td>\n",
       "      <td>878378.0</td>\n",
       "      <td>9.0</td>\n",
       "      <td>NaN</td>\n",
       "      <td>BD DE LA MADELEINE</td>\n",
       "      <td>5888</td>\n",
       "      <td>75001.0</td>\n",
       "      <td>...</td>\n",
       "      <td>66.0</td>\n",
       "      <td>2.0</td>\n",
       "      <td>NaN</td>\n",
       "      <td>NaN</td>\n",
       "      <td>NaN</td>\n",
       "      <td>NaN</td>\n",
       "      <td>NaN</td>\n",
       "      <td>2.326882</td>\n",
       "      <td>48.869331</td>\n",
       "      <td>000BC</td>\n",
       "    </tr>\n",
       "    <tr>\n",
       "      <th>3</th>\n",
       "      <td>2020-1426689</td>\n",
       "      <td>2020-01-10</td>\n",
       "      <td>1</td>\n",
       "      <td>Vente</td>\n",
       "      <td>680000.0</td>\n",
       "      <td>10.0</td>\n",
       "      <td>NaN</td>\n",
       "      <td>RUE DU BOURG L ABBE</td>\n",
       "      <td>1200</td>\n",
       "      <td>75003.0</td>\n",
       "      <td>...</td>\n",
       "      <td>51.0</td>\n",
       "      <td>2.0</td>\n",
       "      <td>NaN</td>\n",
       "      <td>NaN</td>\n",
       "      <td>NaN</td>\n",
       "      <td>NaN</td>\n",
       "      <td>NaN</td>\n",
       "      <td>2.351965</td>\n",
       "      <td>48.864157</td>\n",
       "      <td>000AV</td>\n",
       "    </tr>\n",
       "    <tr>\n",
       "      <th>4</th>\n",
       "      <td>2020-1426690</td>\n",
       "      <td>2020-01-03</td>\n",
       "      <td>1</td>\n",
       "      <td>Vente</td>\n",
       "      <td>852000.0</td>\n",
       "      <td>24.0</td>\n",
       "      <td>NaN</td>\n",
       "      <td>RUE DE SAINTONGE</td>\n",
       "      <td>8716</td>\n",
       "      <td>75003.0</td>\n",
       "      <td>...</td>\n",
       "      <td>12.0</td>\n",
       "      <td>1.0</td>\n",
       "      <td>NaN</td>\n",
       "      <td>NaN</td>\n",
       "      <td>NaN</td>\n",
       "      <td>NaN</td>\n",
       "      <td>NaN</td>\n",
       "      <td>2.363196</td>\n",
       "      <td>48.862017</td>\n",
       "      <td>000AK</td>\n",
       "    </tr>\n",
       "  </tbody>\n",
       "</table>\n",
       "<p>5 rows × 41 columns</p>\n",
       "</div>"
      ],
      "text/plain": [
       "    id_mutation date_mutation numero_disposition nature_mutation  \\\n",
       "0  2020-1426687    2020-01-02                  1           Vente   \n",
       "1  2020-1426688    2020-01-06                  1           Vente   \n",
       "2  2020-1426688    2020-01-06                  1           Vente   \n",
       "3  2020-1426689    2020-01-10                  1           Vente   \n",
       "4  2020-1426690    2020-01-03                  1           Vente   \n",
       "\n",
       "  valeur_fonciere adresse_numero adresse_suffixe     adresse_nom_voie  \\\n",
       "0        268800.0           14.0             NaN      RUE DE L ARCADE   \n",
       "1        878378.0            9.0             NaN   BD DE LA MADELEINE   \n",
       "2        878378.0            9.0             NaN   BD DE LA MADELEINE   \n",
       "3        680000.0           10.0             NaN  RUE DU BOURG L ABBE   \n",
       "4        852000.0           24.0             NaN     RUE DE SAINTONGE   \n",
       "\n",
       "  adresse_code_voie code_postal  ... surface_reelle_bati  \\\n",
       "0              0411     75008.0  ...                24.0   \n",
       "1              5888     75001.0  ...                43.0   \n",
       "2              5888     75001.0  ...                66.0   \n",
       "3              1200     75003.0  ...                51.0   \n",
       "4              8716     75003.0  ...                12.0   \n",
       "\n",
       "  nombre_pieces_principales code_nature_culture nature_culture  \\\n",
       "0                       1.0                 NaN            NaN   \n",
       "1                       0.0                 NaN            NaN   \n",
       "2                       2.0                 NaN            NaN   \n",
       "3                       2.0                 NaN            NaN   \n",
       "4                       1.0                 NaN            NaN   \n",
       "\n",
       "  code_nature_culture_speciale nature_culture_speciale surface_terrain  \\\n",
       "0                          NaN                     NaN             NaN   \n",
       "1                          NaN                     NaN             NaN   \n",
       "2                          NaN                     NaN             NaN   \n",
       "3                          NaN                     NaN             NaN   \n",
       "4                          NaN                     NaN             NaN   \n",
       "\n",
       "  longitude   latitude section_prefixe  \n",
       "0  2.323937  48.871607           000BS  \n",
       "1  2.326882  48.869331           000BC  \n",
       "2  2.326882  48.869331           000BC  \n",
       "3  2.351965  48.864157           000AV  \n",
       "4  2.363196  48.862017           000AK  \n",
       "\n",
       "[5 rows x 41 columns]"
      ]
     },
     "execution_count": 1,
     "metadata": {},
     "output_type": "execute_result"
    }
   ],
   "source": [
    "# Importation des librairies\n",
    "import pandas as pd\n",
    "import os\n",
    "\n",
    "# print le dossier de travail\n",
    "print(os.getcwd())\n",
    "\n",
    "# export du csv au format dataframe de pandaq\n",
    "chemin_fichier = \"data/dvf.csv\"\n",
    "df = pd.read_csv(chemin_fichier)\n",
    "\n",
    "# montre les 5 premières lignes (à utiliser avec Data Wrangler)\n",
    "df.head()"
   ]
  },
  {
   "cell_type": "code",
   "execution_count": 2,
   "id": "2a899193",
   "metadata": {},
   "outputs": [
    {
     "name": "stdout",
     "output_type": "stream",
     "text": [
      "(389593, 41)\n",
      "id_mutation                     object\n",
      "date_mutation                   object\n",
      "numero_disposition              object\n",
      "nature_mutation                 object\n",
      "valeur_fonciere                 object\n",
      "adresse_numero                  object\n",
      "adresse_suffixe                 object\n",
      "adresse_nom_voie                object\n",
      "adresse_code_voie               object\n",
      "code_postal                     object\n",
      "code_commune                    object\n",
      "nom_commune                     object\n",
      "code_departement                object\n",
      "ancien_code_commune             object\n",
      "ancien_nom_commune              object\n",
      "id_parcelle                     object\n",
      "ancien_id_parcelle              object\n",
      "numero_volume                   object\n",
      "lot1_numero                     object\n",
      "lot1_surface_carrez             object\n",
      "lot2_numero                     object\n",
      "lot2_surface_carrez             object\n",
      "lot3_numero                     object\n",
      "lot3_surface_carrez             object\n",
      "lot4_numero                     object\n",
      "lot4_surface_carrez             object\n",
      "lot5_numero                     object\n",
      "lot5_surface_carrez             object\n",
      "nombre_lots                     object\n",
      "code_type_local                 object\n",
      "type_local                      object\n",
      "surface_reelle_bati             object\n",
      "nombre_pieces_principales       object\n",
      "code_nature_culture             object\n",
      "nature_culture                  object\n",
      "code_nature_culture_speciale    object\n",
      "nature_culture_speciale         object\n",
      "surface_terrain                 object\n",
      "longitude                       object\n",
      "latitude                        object\n",
      "section_prefixe                 object\n",
      "dtype: object\n"
     ]
    },
    {
     "data": {
      "application/vnd.microsoft.datawrangler.viewer.v0+json": {
       "columns": [
        {
         "name": "index",
         "rawType": "object",
         "type": "string"
        },
        {
         "name": "id_mutation",
         "rawType": "object",
         "type": "unknown"
        },
        {
         "name": "date_mutation",
         "rawType": "object",
         "type": "unknown"
        },
        {
         "name": "numero_disposition",
         "rawType": "int64",
         "type": "integer"
        },
        {
         "name": "nature_mutation",
         "rawType": "object",
         "type": "unknown"
        },
        {
         "name": "valeur_fonciere",
         "rawType": "float64",
         "type": "float"
        },
        {
         "name": "adresse_numero",
         "rawType": "float64",
         "type": "float"
        },
        {
         "name": "adresse_suffixe",
         "rawType": "object",
         "type": "unknown"
        },
        {
         "name": "adresse_nom_voie",
         "rawType": "object",
         "type": "unknown"
        },
        {
         "name": "adresse_code_voie",
         "rawType": "object",
         "type": "unknown"
        },
        {
         "name": "code_postal",
         "rawType": "float64",
         "type": "float"
        },
        {
         "name": "code_commune",
         "rawType": "int64",
         "type": "integer"
        },
        {
         "name": "nom_commune",
         "rawType": "object",
         "type": "unknown"
        },
        {
         "name": "code_departement",
         "rawType": "int64",
         "type": "integer"
        },
        {
         "name": "ancien_code_commune",
         "rawType": "object",
         "type": "unknown"
        },
        {
         "name": "ancien_nom_commune",
         "rawType": "object",
         "type": "unknown"
        },
        {
         "name": "id_parcelle",
         "rawType": "object",
         "type": "unknown"
        },
        {
         "name": "ancien_id_parcelle",
         "rawType": "object",
         "type": "unknown"
        },
        {
         "name": "numero_volume",
         "rawType": "float64",
         "type": "float"
        },
        {
         "name": "lot1_numero",
         "rawType": "object",
         "type": "unknown"
        },
        {
         "name": "lot1_surface_carrez",
         "rawType": "float64",
         "type": "float"
        },
        {
         "name": "lot2_numero",
         "rawType": "object",
         "type": "unknown"
        },
        {
         "name": "lot2_surface_carrez",
         "rawType": "float64",
         "type": "float"
        },
        {
         "name": "lot3_numero",
         "rawType": "float64",
         "type": "float"
        },
        {
         "name": "lot3_surface_carrez",
         "rawType": "float64",
         "type": "float"
        },
        {
         "name": "lot4_numero",
         "rawType": "float64",
         "type": "float"
        },
        {
         "name": "lot4_surface_carrez",
         "rawType": "float64",
         "type": "float"
        },
        {
         "name": "lot5_numero",
         "rawType": "float64",
         "type": "float"
        },
        {
         "name": "lot5_surface_carrez",
         "rawType": "float64",
         "type": "float"
        },
        {
         "name": "nombre_lots",
         "rawType": "int64",
         "type": "integer"
        },
        {
         "name": "code_type_local",
         "rawType": "float64",
         "type": "float"
        },
        {
         "name": "type_local",
         "rawType": "object",
         "type": "unknown"
        },
        {
         "name": "surface_reelle_bati",
         "rawType": "float64",
         "type": "float"
        },
        {
         "name": "nombre_pieces_principales",
         "rawType": "float64",
         "type": "float"
        },
        {
         "name": "code_nature_culture",
         "rawType": "object",
         "type": "unknown"
        },
        {
         "name": "nature_culture",
         "rawType": "object",
         "type": "unknown"
        },
        {
         "name": "code_nature_culture_speciale",
         "rawType": "object",
         "type": "unknown"
        },
        {
         "name": "nature_culture_speciale",
         "rawType": "object",
         "type": "unknown"
        },
        {
         "name": "surface_terrain",
         "rawType": "float64",
         "type": "float"
        },
        {
         "name": "longitude",
         "rawType": "object",
         "type": "unknown"
        },
        {
         "name": "latitude",
         "rawType": "object",
         "type": "unknown"
        },
        {
         "name": "section_prefixe",
         "rawType": "object",
         "type": "unknown"
        }
       ],
       "ref": "f22c6521-240e-4e23-84a2-c965f1ee4434",
       "rows": [
        [
         "count",
         "389593",
         "389593",
         "389593",
         "389593",
         "385212.0",
         "387613.0",
         "17830",
         "387685",
         "387685",
         "387677.0",
         "389593",
         "389593",
         "389593",
         "7",
         "7",
         "389593",
         "7",
         "1616.0",
         "356292",
         "152226.0",
         "167929",
         "46178.0",
         "27851.0",
         "4757.0",
         "10222.0",
         "1201.0",
         "4138.0",
         "412.0",
         "389593",
         "384686.0",
         "384686",
         "206213.0",
         "384627.0",
         "31671",
         "31671",
         "355",
         "355",
         "31671.0",
         "388960",
         "388960",
         "389593"
        ],
        [
         "unique",
         "132363",
         "1419",
         "13",
         "7",
         "37513.0",
         "751.0",
         "14",
         "3888",
         "3821",
         "41.0",
         "41",
         "21",
         "3",
         "1",
         "1",
         "36365",
         "1",
         "474.0",
         "5889",
         "23153.0",
         "4011",
         "12754.0",
         "1215.0",
         "1971.0",
         "736.0",
         "525.0",
         "520.0",
         "181.0",
         "73",
         "9.0",
         "5",
         "1687.0",
         "40.0",
         "5",
         "5",
         "3",
         "3",
         "1166.0",
         "51264",
         "46582",
         "160"
        ],
        [
         "top",
         "2022-1670285",
         "2022-04-19",
         "1",
         "Vente",
         "300000.0",
         "6.0",
         "B",
         "RUE DE VAUGIRARD",
         "9624",
         "75015.0",
         "75115",
         "Paris 15e Arrondissement",
         "75",
         "ancien_code_commune",
         "ancien_nom_commune",
         "75112000CE0051",
         "ancien_id_parcelle",
         "2.0",
         "10",
         "30.0",
         "8",
         "53.7",
         "8.0",
         "685.0",
         "9.0",
         "230.77",
         "8.0",
         "7.21",
         "1",
         "2.0",
         "Appartement",
         "30.0",
         "0.0",
         "S",
         "sols",
         "IMM",
         "Dépendances d'ensemble immobilier",
         "5490.0",
         "2.3385170",
         "48.8547860",
         "000AR"
        ],
        [
         "freq",
         "2197",
         "2549",
         "272558",
         "382080",
         "1618.0",
         "7675.0",
         "13951",
         "3692",
         "3692",
         "46864.0",
         "46948",
         "62030",
         "274905",
         "7",
         "7",
         "1062",
         "7",
         "95.0",
         "7850",
         "105.0",
         "2631",
         "36.0",
         "500.0",
         "20.0",
         "243.0",
         "18.0",
         "70.0",
         "18.0",
         "133434",
         "129661.0",
         "180642",
         "3889.0",
         "141150.0",
         "31176",
         "31176",
         "346",
         "346",
         "644.0",
         "674",
         "673",
         "7179"
        ]
       ],
       "shape": {
        "columns": 41,
        "rows": 4
       }
      },
      "text/html": [
       "<div>\n",
       "<style scoped>\n",
       "    .dataframe tbody tr th:only-of-type {\n",
       "        vertical-align: middle;\n",
       "    }\n",
       "\n",
       "    .dataframe tbody tr th {\n",
       "        vertical-align: top;\n",
       "    }\n",
       "\n",
       "    .dataframe thead th {\n",
       "        text-align: right;\n",
       "    }\n",
       "</style>\n",
       "<table border=\"1\" class=\"dataframe\">\n",
       "  <thead>\n",
       "    <tr style=\"text-align: right;\">\n",
       "      <th></th>\n",
       "      <th>id_mutation</th>\n",
       "      <th>date_mutation</th>\n",
       "      <th>numero_disposition</th>\n",
       "      <th>nature_mutation</th>\n",
       "      <th>valeur_fonciere</th>\n",
       "      <th>adresse_numero</th>\n",
       "      <th>adresse_suffixe</th>\n",
       "      <th>adresse_nom_voie</th>\n",
       "      <th>adresse_code_voie</th>\n",
       "      <th>code_postal</th>\n",
       "      <th>...</th>\n",
       "      <th>surface_reelle_bati</th>\n",
       "      <th>nombre_pieces_principales</th>\n",
       "      <th>code_nature_culture</th>\n",
       "      <th>nature_culture</th>\n",
       "      <th>code_nature_culture_speciale</th>\n",
       "      <th>nature_culture_speciale</th>\n",
       "      <th>surface_terrain</th>\n",
       "      <th>longitude</th>\n",
       "      <th>latitude</th>\n",
       "      <th>section_prefixe</th>\n",
       "    </tr>\n",
       "  </thead>\n",
       "  <tbody>\n",
       "    <tr>\n",
       "      <th>count</th>\n",
       "      <td>389593</td>\n",
       "      <td>389593</td>\n",
       "      <td>389593</td>\n",
       "      <td>389593</td>\n",
       "      <td>385212.0</td>\n",
       "      <td>387613.0</td>\n",
       "      <td>17830</td>\n",
       "      <td>387685</td>\n",
       "      <td>387685</td>\n",
       "      <td>387677.0</td>\n",
       "      <td>...</td>\n",
       "      <td>206213.0</td>\n",
       "      <td>384627.0</td>\n",
       "      <td>31671</td>\n",
       "      <td>31671</td>\n",
       "      <td>355</td>\n",
       "      <td>355</td>\n",
       "      <td>31671.0</td>\n",
       "      <td>388960</td>\n",
       "      <td>388960</td>\n",
       "      <td>389593</td>\n",
       "    </tr>\n",
       "    <tr>\n",
       "      <th>unique</th>\n",
       "      <td>132363</td>\n",
       "      <td>1419</td>\n",
       "      <td>13</td>\n",
       "      <td>7</td>\n",
       "      <td>37513.0</td>\n",
       "      <td>751.0</td>\n",
       "      <td>14</td>\n",
       "      <td>3888</td>\n",
       "      <td>3821</td>\n",
       "      <td>41.0</td>\n",
       "      <td>...</td>\n",
       "      <td>1687.0</td>\n",
       "      <td>40.0</td>\n",
       "      <td>5</td>\n",
       "      <td>5</td>\n",
       "      <td>3</td>\n",
       "      <td>3</td>\n",
       "      <td>1166.0</td>\n",
       "      <td>51264</td>\n",
       "      <td>46582</td>\n",
       "      <td>160</td>\n",
       "    </tr>\n",
       "    <tr>\n",
       "      <th>top</th>\n",
       "      <td>2022-1670285</td>\n",
       "      <td>2022-04-19</td>\n",
       "      <td>1</td>\n",
       "      <td>Vente</td>\n",
       "      <td>300000.0</td>\n",
       "      <td>6.0</td>\n",
       "      <td>B</td>\n",
       "      <td>RUE DE VAUGIRARD</td>\n",
       "      <td>9624</td>\n",
       "      <td>75015.0</td>\n",
       "      <td>...</td>\n",
       "      <td>30.0</td>\n",
       "      <td>0.0</td>\n",
       "      <td>S</td>\n",
       "      <td>sols</td>\n",
       "      <td>IMM</td>\n",
       "      <td>Dépendances d'ensemble immobilier</td>\n",
       "      <td>5490.0</td>\n",
       "      <td>2.3385170</td>\n",
       "      <td>48.8547860</td>\n",
       "      <td>000AR</td>\n",
       "    </tr>\n",
       "    <tr>\n",
       "      <th>freq</th>\n",
       "      <td>2197</td>\n",
       "      <td>2549</td>\n",
       "      <td>272558</td>\n",
       "      <td>382080</td>\n",
       "      <td>1618.0</td>\n",
       "      <td>7675.0</td>\n",
       "      <td>13951</td>\n",
       "      <td>3692</td>\n",
       "      <td>3692</td>\n",
       "      <td>46864.0</td>\n",
       "      <td>...</td>\n",
       "      <td>3889.0</td>\n",
       "      <td>141150.0</td>\n",
       "      <td>31176</td>\n",
       "      <td>31176</td>\n",
       "      <td>346</td>\n",
       "      <td>346</td>\n",
       "      <td>644.0</td>\n",
       "      <td>674</td>\n",
       "      <td>673</td>\n",
       "      <td>7179</td>\n",
       "    </tr>\n",
       "  </tbody>\n",
       "</table>\n",
       "<p>4 rows × 41 columns</p>\n",
       "</div>"
      ],
      "text/plain": [
       "         id_mutation date_mutation  numero_disposition nature_mutation  \\\n",
       "count         389593        389593              389593          389593   \n",
       "unique        132363          1419                  13               7   \n",
       "top     2022-1670285    2022-04-19                   1           Vente   \n",
       "freq            2197          2549              272558          382080   \n",
       "\n",
       "        valeur_fonciere  adresse_numero adresse_suffixe  adresse_nom_voie  \\\n",
       "count          385212.0        387613.0           17830            387685   \n",
       "unique          37513.0           751.0              14              3888   \n",
       "top            300000.0             6.0               B  RUE DE VAUGIRARD   \n",
       "freq             1618.0          7675.0           13951              3692   \n",
       "\n",
       "       adresse_code_voie  code_postal  ...  surface_reelle_bati  \\\n",
       "count             387685     387677.0  ...             206213.0   \n",
       "unique              3821         41.0  ...               1687.0   \n",
       "top                 9624      75015.0  ...                 30.0   \n",
       "freq                3692      46864.0  ...               3889.0   \n",
       "\n",
       "       nombre_pieces_principales  code_nature_culture nature_culture  \\\n",
       "count                   384627.0                31671          31671   \n",
       "unique                      40.0                    5              5   \n",
       "top                          0.0                    S           sols   \n",
       "freq                    141150.0                31176          31176   \n",
       "\n",
       "       code_nature_culture_speciale            nature_culture_speciale  \\\n",
       "count                           355                                355   \n",
       "unique                            3                                  3   \n",
       "top                             IMM  Dépendances d'ensemble immobilier   \n",
       "freq                            346                                346   \n",
       "\n",
       "       surface_terrain  longitude    latitude  section_prefixe  \n",
       "count          31671.0     388960      388960           389593  \n",
       "unique          1166.0      51264       46582              160  \n",
       "top             5490.0  2.3385170  48.8547860            000AR  \n",
       "freq             644.0        674         673             7179  \n",
       "\n",
       "[4 rows x 41 columns]"
      ]
     },
     "execution_count": 2,
     "metadata": {},
     "output_type": "execute_result"
    }
   ],
   "source": [
    "# print la forme du data frame\n",
    "print(df.shape)\n",
    "\n",
    "# et le type de chaque attribute\n",
    "print(df.dtypes)\n",
    "\n",
    "# et le description générale\n",
    "df.describe(include='all')"
   ]
  },
  {
   "cell_type": "markdown",
   "id": "79c9c5db",
   "metadata": {},
   "source": [
    "#### On a donc 41 colonnes et 389593 lignes. Toutes les colonnes sont des object python, donc à transformer en float/int pour les données numériques, string pour les rues,etc... et datetime pour la date."
   ]
  },
  {
   "cell_type": "markdown",
   "id": "57bf429e",
   "metadata": {},
   "source": [
    "# Partie 1 : Tri vertical des données (suppression des colonnes)\n",
    "\n",
    "## Partie 1.1 : supression des données vides "
   ]
  },
  {
   "cell_type": "code",
   "execution_count": 3,
   "id": "38589847",
   "metadata": {},
   "outputs": [
    {
     "data": {
      "application/vnd.microsoft.datawrangler.viewer.v0+json": {
       "columns": [
        {
         "name": "index",
         "rawType": "object",
         "type": "string"
        },
        {
         "name": "0",
         "rawType": "int64",
         "type": "integer"
        }
       ],
       "ref": "18d2bd2d-11cc-4f75-9c2c-bcda660d9629",
       "rows": [
        [
         "id_mutation",
         "0"
        ],
        [
         "date_mutation",
         "0"
        ],
        [
         "numero_disposition",
         "0"
        ],
        [
         "nature_mutation",
         "0"
        ],
        [
         "valeur_fonciere",
         "4381"
        ],
        [
         "adresse_numero",
         "1980"
        ],
        [
         "adresse_suffixe",
         "371763"
        ],
        [
         "adresse_nom_voie",
         "1908"
        ],
        [
         "adresse_code_voie",
         "1908"
        ],
        [
         "code_postal",
         "1916"
        ],
        [
         "code_commune",
         "0"
        ],
        [
         "nom_commune",
         "0"
        ],
        [
         "code_departement",
         "0"
        ],
        [
         "ancien_code_commune",
         "389586"
        ],
        [
         "ancien_nom_commune",
         "389586"
        ],
        [
         "id_parcelle",
         "0"
        ],
        [
         "ancien_id_parcelle",
         "389586"
        ],
        [
         "numero_volume",
         "387977"
        ],
        [
         "lot1_numero",
         "33301"
        ],
        [
         "lot1_surface_carrez",
         "237367"
        ],
        [
         "lot2_numero",
         "221664"
        ],
        [
         "lot2_surface_carrez",
         "343415"
        ],
        [
         "lot3_numero",
         "361742"
        ],
        [
         "lot3_surface_carrez",
         "384836"
        ],
        [
         "lot4_numero",
         "379371"
        ],
        [
         "lot4_surface_carrez",
         "388392"
        ],
        [
         "lot5_numero",
         "385455"
        ],
        [
         "lot5_surface_carrez",
         "389181"
        ],
        [
         "nombre_lots",
         "0"
        ],
        [
         "code_type_local",
         "4907"
        ],
        [
         "type_local",
         "4907"
        ],
        [
         "surface_reelle_bati",
         "183380"
        ],
        [
         "nombre_pieces_principales",
         "4966"
        ],
        [
         "code_nature_culture",
         "357922"
        ],
        [
         "nature_culture",
         "357922"
        ],
        [
         "code_nature_culture_speciale",
         "389238"
        ],
        [
         "nature_culture_speciale",
         "389238"
        ],
        [
         "surface_terrain",
         "357922"
        ],
        [
         "longitude",
         "633"
        ],
        [
         "latitude",
         "633"
        ],
        [
         "section_prefixe",
         "0"
        ]
       ],
       "shape": {
        "columns": 1,
        "rows": 41
       }
      },
      "text/plain": [
       "id_mutation                          0\n",
       "date_mutation                        0\n",
       "numero_disposition                   0\n",
       "nature_mutation                      0\n",
       "valeur_fonciere                   4381\n",
       "adresse_numero                    1980\n",
       "adresse_suffixe                 371763\n",
       "adresse_nom_voie                  1908\n",
       "adresse_code_voie                 1908\n",
       "code_postal                       1916\n",
       "code_commune                         0\n",
       "nom_commune                          0\n",
       "code_departement                     0\n",
       "ancien_code_commune             389586\n",
       "ancien_nom_commune              389586\n",
       "id_parcelle                          0\n",
       "ancien_id_parcelle              389586\n",
       "numero_volume                   387977\n",
       "lot1_numero                      33301\n",
       "lot1_surface_carrez             237367\n",
       "lot2_numero                     221664\n",
       "lot2_surface_carrez             343415\n",
       "lot3_numero                     361742\n",
       "lot3_surface_carrez             384836\n",
       "lot4_numero                     379371\n",
       "lot4_surface_carrez             388392\n",
       "lot5_numero                     385455\n",
       "lot5_surface_carrez             389181\n",
       "nombre_lots                          0\n",
       "code_type_local                   4907\n",
       "type_local                        4907\n",
       "surface_reelle_bati             183380\n",
       "nombre_pieces_principales         4966\n",
       "code_nature_culture             357922\n",
       "nature_culture                  357922\n",
       "code_nature_culture_speciale    389238\n",
       "nature_culture_speciale         389238\n",
       "surface_terrain                 357922\n",
       "longitude                          633\n",
       "latitude                           633\n",
       "section_prefixe                      0\n",
       "dtype: int64"
      ]
     },
     "execution_count": 3,
     "metadata": {},
     "output_type": "execute_result"
    }
   ],
   "source": [
    "# Comptons pour chaque attribut le nombre de valeurs nnon remplies (égales à NaN)\n",
    "df.isnull().sum()"
   ]
  },
  {
   "cell_type": "markdown",
   "id": "b9b96a60",
   "metadata": {},
   "source": [
    "#### On voit que beaucoup de colonnes sont vides ou très peu remplies, supprimons-les si elles sont inutiles. On décide pour l'instant de supprimer les colonnes qui  sont remplies à moins de 20%, si elles sont inutiles, les autres pouvant être des informations complémentaires pour le modèle."
   ]
  },
  {
   "cell_type": "code",
   "execution_count": 4,
   "id": "c5d0abb8",
   "metadata": {},
   "outputs": [
    {
     "name": "stdout",
     "output_type": "stream",
     "text": [
      "['adresse_suffixe', 'ancien_code_commune', 'ancien_nom_commune', 'ancien_id_parcelle', 'numero_volume', 'lot2_surface_carrez', 'lot3_numero', 'lot3_surface_carrez', 'lot4_numero', 'lot4_surface_carrez', 'lot5_numero', 'lot5_surface_carrez', 'code_nature_culture', 'nature_culture', 'code_nature_culture_speciale', 'nature_culture_speciale', 'surface_terrain']\n"
     ]
    }
   ],
   "source": [
    "# Créeons une fonction qui nous liste les colonnes remplies à moins de 20%, on regardera ensuite si elle est utile ou non \n",
    "def trouver_colonnes_insuiffisamment_remplies(df):\n",
    "    colonnes_a_supprimer = []\n",
    "    for column in df.columns :\n",
    "        if (df[column].isnull().sum()/len(df)) >= 0.80 :\n",
    "            colonnes_a_supprimer.append(column)\n",
    "    return colonnes_a_supprimer\n",
    "\n",
    "columns_to_delete = trouver_colonnes_insuiffisamment_remplies(df)\n",
    "print(columns_to_delete)"
   ]
  },
  {
   "cell_type": "code",
   "execution_count": 5,
   "id": "a15ba866",
   "metadata": {},
   "outputs": [
    {
     "data": {
      "text/plain": [
       "(389593, 24)"
      ]
     },
     "execution_count": 5,
     "metadata": {},
     "output_type": "execute_result"
    }
   ],
   "source": [
    "# Supprimons les colonnes trouvées\n",
    "df.drop(columns=columns_to_delete, inplace=True)\n",
    "\n",
    "df.shape"
   ]
  },
  {
   "cell_type": "markdown",
   "id": "c3ccd197",
   "metadata": {},
   "source": [
    "## Partie 1.2 : Analyse des données numériques\n",
    "\n",
    "#### Transformons maintenant les colonnes numériques et analysons les afin de supprimer les colonnes inutiles"
   ]
  },
  {
   "cell_type": "code",
   "execution_count": 6,
   "id": "27676a06",
   "metadata": {},
   "outputs": [
    {
     "data": {
      "application/vnd.microsoft.datawrangler.viewer.v0+json": {
       "columns": [
        {
         "name": "index",
         "rawType": "object",
         "type": "string"
        },
        {
         "name": "0",
         "rawType": "object",
         "type": "unknown"
        }
       ],
       "ref": "f1c41c4e-8d0b-40a2-b30c-78a80d4a8081",
       "rows": [
        [
         "id_mutation",
         "string"
        ],
        [
         "date_mutation",
         "string"
        ],
        [
         "numero_disposition",
         "object"
        ],
        [
         "nature_mutation",
         "string"
        ],
        [
         "valeur_fonciere",
         "object"
        ],
        [
         "adresse_numero",
         "object"
        ],
        [
         "adresse_nom_voie",
         "string"
        ],
        [
         "adresse_code_voie",
         "string"
        ],
        [
         "code_postal",
         "object"
        ],
        [
         "code_commune",
         "object"
        ],
        [
         "nom_commune",
         "string"
        ],
        [
         "code_departement",
         "object"
        ],
        [
         "id_parcelle",
         "string"
        ],
        [
         "lot1_numero",
         "object"
        ],
        [
         "lot1_surface_carrez",
         "object"
        ],
        [
         "lot2_numero",
         "object"
        ],
        [
         "nombre_lots",
         "object"
        ],
        [
         "code_type_local",
         "object"
        ],
        [
         "type_local",
         "string"
        ],
        [
         "surface_reelle_bati",
         "object"
        ],
        [
         "nombre_pieces_principales",
         "object"
        ],
        [
         "longitude",
         "object"
        ],
        [
         "latitude",
         "object"
        ],
        [
         "section_prefixe",
         "string"
        ]
       ],
       "shape": {
        "columns": 1,
        "rows": 24
       }
      },
      "text/plain": [
       "id_mutation                  string[python]\n",
       "date_mutation                string[python]\n",
       "numero_disposition                   object\n",
       "nature_mutation              string[python]\n",
       "valeur_fonciere                      object\n",
       "adresse_numero                       object\n",
       "adresse_nom_voie             string[python]\n",
       "adresse_code_voie            string[python]\n",
       "code_postal                          object\n",
       "code_commune                         object\n",
       "nom_commune                  string[python]\n",
       "code_departement                     object\n",
       "id_parcelle                  string[python]\n",
       "lot1_numero                          object\n",
       "lot1_surface_carrez                  object\n",
       "lot2_numero                          object\n",
       "nombre_lots                          object\n",
       "code_type_local                      object\n",
       "type_local                   string[python]\n",
       "surface_reelle_bati                  object\n",
       "nombre_pieces_principales            object\n",
       "longitude                            object\n",
       "latitude                             object\n",
       "section_prefixe              string[python]\n",
       "dtype: object"
      ]
     },
     "execution_count": 6,
     "metadata": {},
     "output_type": "execute_result"
    }
   ],
   "source": [
    "# pour convertir automatiquement tout ce qui est possible sans erreurs\n",
    "df = df.convert_dtypes()\n",
    "\n",
    "# montre les types de chaque colonnes\n",
    "df.dtypes"
   ]
  },
  {
   "cell_type": "code",
   "execution_count": 7,
   "id": "d5517365",
   "metadata": {},
   "outputs": [
    {
     "name": "stdout",
     "output_type": "stream",
     "text": [
      "id_mutation                  string[python]\n",
      "date_mutation                string[python]\n",
      "numero_disposition                  float64\n",
      "nature_mutation              string[python]\n",
      "valeur_fonciere                     float64\n",
      "adresse_numero                      float64\n",
      "adresse_nom_voie             string[python]\n",
      "adresse_code_voie                     Int64\n",
      "code_postal                         float64\n",
      "code_commune                        float64\n",
      "nom_commune                  string[python]\n",
      "code_departement                    float64\n",
      "id_parcelle                  string[python]\n",
      "lot1_numero                         float64\n",
      "lot1_surface_carrez                 float64\n",
      "lot2_numero                         float64\n",
      "nombre_lots                         float64\n",
      "code_type_local                     float64\n",
      "type_local                   string[python]\n",
      "surface_reelle_bati                 float64\n",
      "nombre_pieces_principales           float64\n",
      "longitude                           float64\n",
      "latitude                            float64\n",
      "section_prefixe              string[python]\n",
      "dtype: object\n"
     ]
    },
    {
     "data": {
      "application/vnd.microsoft.datawrangler.viewer.v0+json": {
       "columns": [
        {
         "name": "index",
         "rawType": "object",
         "type": "string"
        },
        {
         "name": "0",
         "rawType": "int64",
         "type": "integer"
        }
       ],
       "ref": "b97e3838-3729-4bd5-b869-293d1cd7cb15",
       "rows": [
        [
         "id_mutation",
         "0"
        ],
        [
         "date_mutation",
         "0"
        ],
        [
         "numero_disposition",
         "7"
        ],
        [
         "nature_mutation",
         "0"
        ],
        [
         "valeur_fonciere",
         "4388"
        ],
        [
         "adresse_numero",
         "1987"
        ],
        [
         "adresse_nom_voie",
         "1908"
        ],
        [
         "adresse_code_voie",
         "2178"
        ],
        [
         "code_postal",
         "1923"
        ],
        [
         "code_commune",
         "7"
        ],
        [
         "nom_commune",
         "0"
        ],
        [
         "code_departement",
         "7"
        ],
        [
         "id_parcelle",
         "0"
        ],
        [
         "lot1_numero",
         "33463"
        ],
        [
         "lot1_surface_carrez",
         "237374"
        ],
        [
         "lot2_numero",
         "221709"
        ],
        [
         "nombre_lots",
         "7"
        ],
        [
         "code_type_local",
         "4914"
        ],
        [
         "type_local",
         "4907"
        ],
        [
         "surface_reelle_bati",
         "183387"
        ],
        [
         "nombre_pieces_principales",
         "4973"
        ],
        [
         "longitude",
         "640"
        ],
        [
         "latitude",
         "640"
        ],
        [
         "section_prefixe",
         "0"
        ]
       ],
       "shape": {
        "columns": 1,
        "rows": 24
       }
      },
      "text/plain": [
       "id_mutation                       0\n",
       "date_mutation                     0\n",
       "numero_disposition                7\n",
       "nature_mutation                   0\n",
       "valeur_fonciere                4388\n",
       "adresse_numero                 1987\n",
       "adresse_nom_voie               1908\n",
       "adresse_code_voie              2178\n",
       "code_postal                    1923\n",
       "code_commune                      7\n",
       "nom_commune                       0\n",
       "code_departement                  7\n",
       "id_parcelle                       0\n",
       "lot1_numero                   33463\n",
       "lot1_surface_carrez          237374\n",
       "lot2_numero                  221709\n",
       "nombre_lots                       7\n",
       "code_type_local                4914\n",
       "type_local                     4907\n",
       "surface_reelle_bati          183387\n",
       "nombre_pieces_principales      4973\n",
       "longitude                       640\n",
       "latitude                        640\n",
       "section_prefixe                   0\n",
       "dtype: int64"
      ]
     },
     "execution_count": 7,
     "metadata": {},
     "output_type": "execute_result"
    }
   ],
   "source": [
    "# attributs à convertir \n",
    "numeric_attribute = ['valeur_fonciere','numero_disposition','adresse_numero','adresse_code_voie','code_postal','code_commune','code_departement', \n",
    "                     'lot1_numero', 'lot1_surface_carrez', 'lot2_numero','nombre_lots', 'code_type_local', 'surface_reelle_bati',\n",
    "                     'nombre_pieces_principales', 'longitude', 'latitude']\n",
    "\n",
    "# conversion en numériques\n",
    "for attribute in numeric_attribute:\n",
    "    df[attribute] = pd.to_numeric(df[attribute], errors='coerce')\n",
    "\n",
    "# vérification des types (est ce que ça c'est bien converti)\n",
    "print(df.dtypes)\n",
    "# vérification qu'il n'y aie pas de pertes de données en convertissant\n",
    "df.isnull().sum()"
   ]
  },
  {
   "cell_type": "markdown",
   "id": "1b03fdcd",
   "metadata": {},
   "source": [
    "#### Explorons maintenant les valeures dans ces attributs. La fonction describe nous donne des informations dessus"
   ]
  },
  {
   "cell_type": "code",
   "execution_count": 8,
   "id": "94b5103c",
   "metadata": {},
   "outputs": [
    {
     "data": {
      "application/vnd.microsoft.datawrangler.viewer.v0+json": {
       "columns": [
        {
         "name": "index",
         "rawType": "object",
         "type": "string"
        },
        {
         "name": "numero_disposition",
         "rawType": "float64",
         "type": "float"
        },
        {
         "name": "valeur_fonciere",
         "rawType": "float64",
         "type": "float"
        },
        {
         "name": "adresse_numero",
         "rawType": "float64",
         "type": "float"
        },
        {
         "name": "adresse_code_voie",
         "rawType": "Float64",
         "type": "float"
        },
        {
         "name": "code_postal",
         "rawType": "float64",
         "type": "float"
        },
        {
         "name": "code_commune",
         "rawType": "float64",
         "type": "float"
        },
        {
         "name": "code_departement",
         "rawType": "float64",
         "type": "float"
        },
        {
         "name": "lot1_numero",
         "rawType": "float64",
         "type": "float"
        },
        {
         "name": "lot1_surface_carrez",
         "rawType": "float64",
         "type": "float"
        },
        {
         "name": "lot2_numero",
         "rawType": "float64",
         "type": "float"
        },
        {
         "name": "nombre_lots",
         "rawType": "float64",
         "type": "float"
        },
        {
         "name": "code_type_local",
         "rawType": "float64",
         "type": "float"
        },
        {
         "name": "surface_reelle_bati",
         "rawType": "float64",
         "type": "float"
        },
        {
         "name": "nombre_pieces_principales",
         "rawType": "float64",
         "type": "float"
        },
        {
         "name": "longitude",
         "rawType": "float64",
         "type": "float"
        },
        {
         "name": "latitude",
         "rawType": "float64",
         "type": "float"
        }
       ],
       "ref": "840226ce-da35-4a79-8ecb-c960ca47561f",
       "rows": [
        [
         "count",
         "389586.0",
         "385205.0",
         "387606.0",
         "387415.0",
         "387670.0",
         "389586.0",
         "389586.0",
         "356130.0",
         "152219.0",
         "167884.0",
         "389586.0",
         "384679.0",
         "206206.0",
         "384620.0",
         "388953.0",
         "388953.0"
        ],
        [
         "mean",
         "1.010221106507934",
         "2818567.26790187",
         "51.06689524929955",
         "5169.666946297898",
         "75012.77143704698",
         "75112.77246358956",
         "75.0",
         "267.85224777468903",
         "59.05128052345634",
         "246.40417788472993",
         "1.4743907635284637",
         "2.589821643500165",
         "68.44916733751685",
         "1.1569887161354064",
         "2.333184722390623",
         "48.853390895583786"
        ],
        [
         "std",
         "0.11887468080926136",
         "16400621.905787671",
         "122.41787451388844",
         "2936.445847729359",
         "4.111548426965563",
         "4.104353538482533",
         "0.0",
         "1470.1100105497947",
         "88.12151730227785",
         "1009.6995461369092",
         "1.1746047569034945",
         "0.6127924233819158",
         "257.4965303727549",
         "1.536866241693444",
         "0.04044363781578599",
         "0.017784489758425875"
        ],
        [
         "min",
         "1.0",
         "0.15",
         "1.0",
         "2.0",
         "75001.0",
         "75101.0",
         "75.0",
         "1.0",
         "0.01",
         "2.0",
         "0.0",
         "1.0",
         "1.0",
         "0.0",
         "2.255896",
         "48.816561"
        ],
        [
         "25%",
         "1.0",
         "270000.0",
         "11.0",
         "2569.0",
         "75011.0",
         "75111.0",
         "75.0",
         "16.0",
         "26.83",
         "24.0",
         "1.0",
         "2.0",
         "27.0",
         "0.0",
         "2.298689",
         "48.839876"
        ],
        [
         "50%",
         "1.0",
         "522000.0",
         "28.0",
         "5240.0",
         "75014.0",
         "75114.0",
         "75.0",
         "37.0",
         "43.8",
         "49.0",
         "1.0",
         "3.0",
         "44.0",
         "0.0",
         "2.331454",
         "48.851027"
        ],
        [
         "75%",
         "1.0",
         "1104000.0",
         "67.0",
         "7845.0",
         "75016.0",
         "75116.0",
         "75.0",
         "126.0",
         "71.59",
         "121.0",
         "2.0",
         "3.0",
         "72.0",
         "2.0",
         "2.369443",
         "48.865591"
        ],
        [
         "max",
         "7.0",
         "1003401470.0",
         "9001.0",
         "9992.0",
         "75020.0",
         "75120.0",
         "75.0",
         "100245.0",
         "7392.0",
         "40650.0",
         "152.0",
         "4.0",
         "48630.0",
         "32.0",
         "2.415063",
         "48.901507"
        ]
       ],
       "shape": {
        "columns": 16,
        "rows": 8
       }
      },
      "text/html": [
       "<div>\n",
       "<style scoped>\n",
       "    .dataframe tbody tr th:only-of-type {\n",
       "        vertical-align: middle;\n",
       "    }\n",
       "\n",
       "    .dataframe tbody tr th {\n",
       "        vertical-align: top;\n",
       "    }\n",
       "\n",
       "    .dataframe thead th {\n",
       "        text-align: right;\n",
       "    }\n",
       "</style>\n",
       "<table border=\"1\" class=\"dataframe\">\n",
       "  <thead>\n",
       "    <tr style=\"text-align: right;\">\n",
       "      <th></th>\n",
       "      <th>numero_disposition</th>\n",
       "      <th>valeur_fonciere</th>\n",
       "      <th>adresse_numero</th>\n",
       "      <th>adresse_code_voie</th>\n",
       "      <th>code_postal</th>\n",
       "      <th>code_commune</th>\n",
       "      <th>code_departement</th>\n",
       "      <th>lot1_numero</th>\n",
       "      <th>lot1_surface_carrez</th>\n",
       "      <th>lot2_numero</th>\n",
       "      <th>nombre_lots</th>\n",
       "      <th>code_type_local</th>\n",
       "      <th>surface_reelle_bati</th>\n",
       "      <th>nombre_pieces_principales</th>\n",
       "      <th>longitude</th>\n",
       "      <th>latitude</th>\n",
       "    </tr>\n",
       "  </thead>\n",
       "  <tbody>\n",
       "    <tr>\n",
       "      <th>count</th>\n",
       "      <td>389586.000000</td>\n",
       "      <td>3.852050e+05</td>\n",
       "      <td>387606.000000</td>\n",
       "      <td>387415.0</td>\n",
       "      <td>387670.000000</td>\n",
       "      <td>389586.000000</td>\n",
       "      <td>389586.0</td>\n",
       "      <td>356130.000000</td>\n",
       "      <td>152219.000000</td>\n",
       "      <td>167884.000000</td>\n",
       "      <td>389586.000000</td>\n",
       "      <td>384679.000000</td>\n",
       "      <td>206206.000000</td>\n",
       "      <td>384620.000000</td>\n",
       "      <td>388953.000000</td>\n",
       "      <td>388953.000000</td>\n",
       "    </tr>\n",
       "    <tr>\n",
       "      <th>mean</th>\n",
       "      <td>1.010221</td>\n",
       "      <td>2.818567e+06</td>\n",
       "      <td>51.066895</td>\n",
       "      <td>5169.666946</td>\n",
       "      <td>75012.771437</td>\n",
       "      <td>75112.772464</td>\n",
       "      <td>75.0</td>\n",
       "      <td>267.852248</td>\n",
       "      <td>59.051281</td>\n",
       "      <td>246.404178</td>\n",
       "      <td>1.474391</td>\n",
       "      <td>2.589822</td>\n",
       "      <td>68.449167</td>\n",
       "      <td>1.156989</td>\n",
       "      <td>2.333185</td>\n",
       "      <td>48.853391</td>\n",
       "    </tr>\n",
       "    <tr>\n",
       "      <th>std</th>\n",
       "      <td>0.118875</td>\n",
       "      <td>1.640062e+07</td>\n",
       "      <td>122.417875</td>\n",
       "      <td>2936.445848</td>\n",
       "      <td>4.111548</td>\n",
       "      <td>4.104354</td>\n",
       "      <td>0.0</td>\n",
       "      <td>1470.110011</td>\n",
       "      <td>88.121517</td>\n",
       "      <td>1009.699546</td>\n",
       "      <td>1.174605</td>\n",
       "      <td>0.612792</td>\n",
       "      <td>257.496530</td>\n",
       "      <td>1.536866</td>\n",
       "      <td>0.040444</td>\n",
       "      <td>0.017784</td>\n",
       "    </tr>\n",
       "    <tr>\n",
       "      <th>min</th>\n",
       "      <td>1.000000</td>\n",
       "      <td>1.500000e-01</td>\n",
       "      <td>1.000000</td>\n",
       "      <td>2.0</td>\n",
       "      <td>75001.000000</td>\n",
       "      <td>75101.000000</td>\n",
       "      <td>75.0</td>\n",
       "      <td>1.000000</td>\n",
       "      <td>0.010000</td>\n",
       "      <td>2.000000</td>\n",
       "      <td>0.000000</td>\n",
       "      <td>1.000000</td>\n",
       "      <td>1.000000</td>\n",
       "      <td>0.000000</td>\n",
       "      <td>2.255896</td>\n",
       "      <td>48.816561</td>\n",
       "    </tr>\n",
       "    <tr>\n",
       "      <th>25%</th>\n",
       "      <td>1.000000</td>\n",
       "      <td>2.700000e+05</td>\n",
       "      <td>11.000000</td>\n",
       "      <td>2569.0</td>\n",
       "      <td>75011.000000</td>\n",
       "      <td>75111.000000</td>\n",
       "      <td>75.0</td>\n",
       "      <td>16.000000</td>\n",
       "      <td>26.830000</td>\n",
       "      <td>24.000000</td>\n",
       "      <td>1.000000</td>\n",
       "      <td>2.000000</td>\n",
       "      <td>27.000000</td>\n",
       "      <td>0.000000</td>\n",
       "      <td>2.298689</td>\n",
       "      <td>48.839876</td>\n",
       "    </tr>\n",
       "    <tr>\n",
       "      <th>50%</th>\n",
       "      <td>1.000000</td>\n",
       "      <td>5.220000e+05</td>\n",
       "      <td>28.000000</td>\n",
       "      <td>5240.0</td>\n",
       "      <td>75014.000000</td>\n",
       "      <td>75114.000000</td>\n",
       "      <td>75.0</td>\n",
       "      <td>37.000000</td>\n",
       "      <td>43.800000</td>\n",
       "      <td>49.000000</td>\n",
       "      <td>1.000000</td>\n",
       "      <td>3.000000</td>\n",
       "      <td>44.000000</td>\n",
       "      <td>0.000000</td>\n",
       "      <td>2.331454</td>\n",
       "      <td>48.851027</td>\n",
       "    </tr>\n",
       "    <tr>\n",
       "      <th>75%</th>\n",
       "      <td>1.000000</td>\n",
       "      <td>1.104000e+06</td>\n",
       "      <td>67.000000</td>\n",
       "      <td>7845.0</td>\n",
       "      <td>75016.000000</td>\n",
       "      <td>75116.000000</td>\n",
       "      <td>75.0</td>\n",
       "      <td>126.000000</td>\n",
       "      <td>71.590000</td>\n",
       "      <td>121.000000</td>\n",
       "      <td>2.000000</td>\n",
       "      <td>3.000000</td>\n",
       "      <td>72.000000</td>\n",
       "      <td>2.000000</td>\n",
       "      <td>2.369443</td>\n",
       "      <td>48.865591</td>\n",
       "    </tr>\n",
       "    <tr>\n",
       "      <th>max</th>\n",
       "      <td>7.000000</td>\n",
       "      <td>1.003401e+09</td>\n",
       "      <td>9001.000000</td>\n",
       "      <td>9992.0</td>\n",
       "      <td>75020.000000</td>\n",
       "      <td>75120.000000</td>\n",
       "      <td>75.0</td>\n",
       "      <td>100245.000000</td>\n",
       "      <td>7392.000000</td>\n",
       "      <td>40650.000000</td>\n",
       "      <td>152.000000</td>\n",
       "      <td>4.000000</td>\n",
       "      <td>48630.000000</td>\n",
       "      <td>32.000000</td>\n",
       "      <td>2.415063</td>\n",
       "      <td>48.901507</td>\n",
       "    </tr>\n",
       "  </tbody>\n",
       "</table>\n",
       "</div>"
      ],
      "text/plain": [
       "       numero_disposition  valeur_fonciere  adresse_numero  adresse_code_voie  \\\n",
       "count       389586.000000     3.852050e+05   387606.000000           387415.0   \n",
       "mean             1.010221     2.818567e+06       51.066895        5169.666946   \n",
       "std              0.118875     1.640062e+07      122.417875        2936.445848   \n",
       "min              1.000000     1.500000e-01        1.000000                2.0   \n",
       "25%              1.000000     2.700000e+05       11.000000             2569.0   \n",
       "50%              1.000000     5.220000e+05       28.000000             5240.0   \n",
       "75%              1.000000     1.104000e+06       67.000000             7845.0   \n",
       "max              7.000000     1.003401e+09     9001.000000             9992.0   \n",
       "\n",
       "         code_postal   code_commune  code_departement    lot1_numero  \\\n",
       "count  387670.000000  389586.000000          389586.0  356130.000000   \n",
       "mean    75012.771437   75112.772464              75.0     267.852248   \n",
       "std         4.111548       4.104354               0.0    1470.110011   \n",
       "min     75001.000000   75101.000000              75.0       1.000000   \n",
       "25%     75011.000000   75111.000000              75.0      16.000000   \n",
       "50%     75014.000000   75114.000000              75.0      37.000000   \n",
       "75%     75016.000000   75116.000000              75.0     126.000000   \n",
       "max     75020.000000   75120.000000              75.0  100245.000000   \n",
       "\n",
       "       lot1_surface_carrez    lot2_numero    nombre_lots  code_type_local  \\\n",
       "count        152219.000000  167884.000000  389586.000000    384679.000000   \n",
       "mean             59.051281     246.404178       1.474391         2.589822   \n",
       "std              88.121517    1009.699546       1.174605         0.612792   \n",
       "min               0.010000       2.000000       0.000000         1.000000   \n",
       "25%              26.830000      24.000000       1.000000         2.000000   \n",
       "50%              43.800000      49.000000       1.000000         3.000000   \n",
       "75%              71.590000     121.000000       2.000000         3.000000   \n",
       "max            7392.000000   40650.000000     152.000000         4.000000   \n",
       "\n",
       "       surface_reelle_bati  nombre_pieces_principales      longitude  \\\n",
       "count        206206.000000              384620.000000  388953.000000   \n",
       "mean             68.449167                   1.156989       2.333185   \n",
       "std             257.496530                   1.536866       0.040444   \n",
       "min               1.000000                   0.000000       2.255896   \n",
       "25%              27.000000                   0.000000       2.298689   \n",
       "50%              44.000000                   0.000000       2.331454   \n",
       "75%              72.000000                   2.000000       2.369443   \n",
       "max           48630.000000                  32.000000       2.415063   \n",
       "\n",
       "            latitude  \n",
       "count  388953.000000  \n",
       "mean       48.853391  \n",
       "std         0.017784  \n",
       "min        48.816561  \n",
       "25%        48.839876  \n",
       "50%        48.851027  \n",
       "75%        48.865591  \n",
       "max        48.901507  "
      ]
     },
     "execution_count": 8,
     "metadata": {},
     "output_type": "execute_result"
    }
   ],
   "source": [
    "# description des attributs numériques\n",
    "df.describe()"
   ]
  },
  {
   "cell_type": "markdown",
   "id": "fcd01c6d",
   "metadata": {},
   "source": [
    "#### On supprime les attributs inutiles comme code_departement (tout le tempes le même), 'numero_disposition' (sert à identifier une transaction), 'lot2_numero' et 'nombre_lot' (on ne s'intéresse qu'à un seul lot) et 'code_type_local'"
   ]
  },
  {
   "cell_type": "code",
   "execution_count": 9,
   "id": "34217c83",
   "metadata": {},
   "outputs": [
    {
     "data": {
      "text/plain": [
       "(389593, 19)"
      ]
     },
     "execution_count": 9,
     "metadata": {},
     "output_type": "execute_result"
    }
   ],
   "source": [
    "# attributs inutiles\n",
    "attributs_inutiles = ['code_departement', 'numero_disposition','lot2_numero','nombre_lots','code_type_local']\n",
    "#supression\n",
    "df.drop(columns=attributs_inutiles, inplace=True)\n",
    "\n",
    "# verification de la supression sur la shape\n",
    "df.shape"
   ]
  },
  {
   "cell_type": "markdown",
   "id": "55c69c32",
   "metadata": {},
   "source": [
    "#### Affichons maintenant la matrice de corrélation pour regarder si on a des attributs utiles mais redondantes"
   ]
  },
  {
   "cell_type": "code",
   "execution_count": 10,
   "id": "84304ec7",
   "metadata": {},
   "outputs": [
    {
     "data": {
      "image/png": "[encoded data removed]",
      "text/plain": [
       "<Figure size 1000x800 with 2 Axes>"
      ]
     },
     "metadata": {},
     "output_type": "display_data"
    }
   ],
   "source": [
    "import matplotlib.pyplot as plt\n",
    "\n",
    "# Calcul de la matrice de corrélation\n",
    "correlation_matrix = df.corr(numeric_only=True)\n",
    "\n",
    "# Affichage \n",
    "plt.figure(figsize=(10, 8))\n",
    "plt.imshow(correlation_matrix, cmap='coolwarm', interpolation='none')\n",
    "plt.colorbar()\n",
    "plt.xticks(range(len(correlation_matrix.columns)), correlation_matrix.columns, rotation=90)\n",
    "plt.yticks(range(len(correlation_matrix.index)), correlation_matrix.index)\n",
    "plt.title(\"Matrice de corrélation\")\n",
    "plt.tight_layout()\n",
    "plt.show()"
   ]
  },
  {
   "cell_type": "markdown",
   "id": "24535bb1",
   "metadata": {},
   "source": [
    "#### Les attributs code cummune et code postal sont les mêmes à un chiffre près on choisit donc de conserver code_postal (code coommune sert pour les services fiscaux)"
   ]
  },
  {
   "cell_type": "code",
   "execution_count": 11,
   "id": "d387fefe",
   "metadata": {},
   "outputs": [
    {
     "data": {
      "text/plain": [
       "(389593, 18)"
      ]
     },
     "execution_count": 11,
     "metadata": {},
     "output_type": "execute_result"
    }
   ],
   "source": [
    "# on supprime la colonne 'code_commune'\n",
    "attributs_inutiles = ['code_commune']\n",
    "df.drop(columns=attributs_inutiles, inplace=True)\n",
    "\n",
    "df.shape"
   ]
  },
  {
   "cell_type": "markdown",
   "id": "9397b697",
   "metadata": {},
   "source": [
    "## Partie 1.3 : Analyse des attributs non numériques\n",
    "\n",
    "#### On analyse maintenant les attributs non numériques pour continuer notre tri vertical (quelles colonnes on garde ou non)"
   ]
  },
  {
   "cell_type": "code",
   "execution_count": 12,
   "id": "b8038622",
   "metadata": {},
   "outputs": [
    {
     "data": {
      "application/vnd.microsoft.datawrangler.viewer.v0+json": {
       "columns": [
        {
         "name": "index",
         "rawType": "int64",
         "type": "integer"
        },
        {
         "name": "id_mutation",
         "rawType": "string",
         "type": "string"
        },
        {
         "name": "date_mutation",
         "rawType": "string",
         "type": "string"
        },
        {
         "name": "nature_mutation",
         "rawType": "string",
         "type": "string"
        },
        {
         "name": "valeur_fonciere",
         "rawType": "float64",
         "type": "float"
        },
        {
         "name": "adresse_numero",
         "rawType": "float64",
         "type": "float"
        },
        {
         "name": "adresse_nom_voie",
         "rawType": "string",
         "type": "string"
        },
        {
         "name": "adresse_code_voie",
         "rawType": "Int64",
         "type": "integer"
        },
        {
         "name": "code_postal",
         "rawType": "float64",
         "type": "float"
        },
        {
         "name": "nom_commune",
         "rawType": "string",
         "type": "string"
        },
        {
         "name": "id_parcelle",
         "rawType": "string",
         "type": "string"
        },
        {
         "name": "lot1_numero",
         "rawType": "float64",
         "type": "float"
        },
        {
         "name": "lot1_surface_carrez",
         "rawType": "float64",
         "type": "float"
        },
        {
         "name": "type_local",
         "rawType": "string",
         "type": "string"
        },
        {
         "name": "surface_reelle_bati",
         "rawType": "float64",
         "type": "float"
        },
        {
         "name": "nombre_pieces_principales",
         "rawType": "float64",
         "type": "float"
        },
        {
         "name": "longitude",
         "rawType": "float64",
         "type": "float"
        },
        {
         "name": "latitude",
         "rawType": "float64",
         "type": "float"
        },
        {
         "name": "section_prefixe",
         "rawType": "string",
         "type": "string"
        }
       ],
       "ref": "c4b09e79-04d9-4cb7-8180-6b849ca89d73",
       "rows": [
        [
         "0",
         "2020-1426687",
         "2020-01-02",
         "Vente",
         "268800.0",
         "14.0",
         "RUE DE L ARCADE",
         "411",
         "75008.0",
         "Paris 8e Arrondissement",
         "75108000BS0136",
         "31.0",
         null,
         "Appartement",
         "24.0",
         "1.0",
         "2.323937",
         "48.871607",
         "000BS"
        ],
        [
         "1",
         "2020-1426688",
         "2020-01-06",
         "Vente",
         "878378.0",
         "9.0",
         "BD DE LA MADELEINE",
         "5888",
         "75001.0",
         "Paris 1er Arrondissement",
         "75101000BC0041",
         "63.0",
         null,
         "Local industriel. commercial ou assimilé",
         "43.0",
         "0.0",
         "2.326882",
         "48.869331",
         "000BC"
        ],
        [
         "2",
         "2020-1426688",
         "2020-01-06",
         "Vente",
         "878378.0",
         "9.0",
         "BD DE LA MADELEINE",
         "5888",
         "75001.0",
         "Paris 1er Arrondissement",
         "75101000BC0041",
         "14.0",
         "66.64",
         "Appartement",
         "66.0",
         "2.0",
         "2.326882",
         "48.869331",
         "000BC"
        ],
        [
         "3",
         "2020-1426689",
         "2020-01-10",
         "Vente",
         "680000.0",
         "10.0",
         "RUE DU BOURG L ABBE",
         "1200",
         "75003.0",
         "Paris 3e Arrondissement",
         "75103000AV0006",
         "9.0",
         "50.74",
         "Appartement",
         "51.0",
         "2.0",
         "2.351965",
         "48.864157",
         "000AV"
        ],
        [
         "4",
         "2020-1426690",
         "2020-01-03",
         "Vente",
         "852000.0",
         "24.0",
         "RUE DE SAINTONGE",
         "8716",
         "75003.0",
         "Paris 3e Arrondissement",
         "75103000AK0080",
         "74.0",
         "66.0",
         "Appartement",
         "12.0",
         "1.0",
         "2.363196",
         "48.862017",
         "000AK"
        ],
        [
         "5",
         "2020-1426690",
         "2020-01-03",
         "Vente",
         "852000.0",
         "24.0",
         "RUE DE SAINTONGE",
         "8716",
         "75003.0",
         "Paris 3e Arrondissement",
         "75103000AK0080",
         "74.0",
         "66.0",
         "Appartement",
         "19.0",
         "1.0",
         "2.363196",
         "48.862017",
         "000AK"
        ],
        [
         "6",
         "2020-1426690",
         "2020-01-03",
         "Vente",
         "852000.0",
         "24.0",
         "RUE DE SAINTONGE",
         "8716",
         "75003.0",
         "Paris 3e Arrondissement",
         "75103000AK0080",
         "15.0",
         null,
         "Appartement",
         "12.0",
         "1.0",
         "2.363196",
         "48.862017",
         "000AK"
        ],
        [
         "7",
         "2020-1426691",
         "2020-01-08",
         "Vente",
         "6000.0",
         "7.0",
         "AV FRANKLIN D ROOSEVELT",
         "3824",
         "75008.0",
         "Paris 8e Arrondissement",
         "75108000AL0013",
         "29.0",
         null,
         "Appartement",
         "79.0",
         "3.0",
         "2.309698",
         "48.865741",
         "000AL"
        ],
        [
         "8",
         "2020-1426692",
         "2020-01-03",
         "Vente",
         "2350000.0",
         "83.0",
         "RUE DE MONCEAU",
         "6419",
         "75008.0",
         "Paris 8e Arrondissement",
         "75108000CG0026",
         "53.0",
         null,
         "Appartement",
         "174.0",
         "5.0",
         "2.315064",
         "48.880175",
         "000CG"
        ],
        [
         "9",
         "2020-1426692",
         "2020-01-03",
         "Vente",
         "2350000.0",
         "83.0",
         "RUE DE MONCEAU",
         "6419",
         "75008.0",
         "Paris 8e Arrondissement",
         "75108000CG0026",
         "4.0",
         "204.32",
         "Appartement",
         "212.0",
         "8.0",
         "2.315064",
         "48.880175",
         "000CG"
        ],
        [
         "10",
         "2020-1426693",
         "2020-01-08",
         "Vente",
         "370000.0",
         "79.0",
         "RUE DES ARCHIVES",
         "420",
         "75003.0",
         "Paris 3e Arrondissement",
         "75103000AI0049",
         "35.0",
         "22.61",
         "Appartement",
         "21.0",
         "1.0",
         "2.359899",
         "48.863217",
         "000AI"
        ],
        [
         "11",
         "2020-1426694",
         "2020-01-13",
         "Vente",
         "475000.0",
         "5.0",
         "RUE DE WASHINGTON",
         "9942",
         "75008.0",
         "Paris 8e Arrondissement",
         "75108000AU0011",
         "86.0",
         "50.07",
         "Local industriel. commercial ou assimilé",
         "50.0",
         "0.0",
         "2.301658",
         "48.87263",
         "000AU"
        ],
        [
         "12",
         "2020-1426695",
         "2020-01-09",
         "Vente",
         "741500.0",
         "131.0",
         "RUE SAINT DENIS",
         "8525",
         "75001.0",
         "Paris 1er Arrondissement",
         "75101000AQ0107",
         "23.0",
         "61.41",
         "Appartement",
         "61.0",
         "2.0",
         "2.349513",
         "48.863367",
         "000AQ"
        ],
        [
         "13",
         "2020-1426696",
         "2020-01-07",
         "Vente",
         "7000.0",
         "6.0",
         "RUE DES HAUDRIETTES",
         "4483",
         "75003.0",
         "Paris 3e Arrondissement",
         "75103000AR0005",
         "785.0",
         null,
         "Appartement",
         "41.0",
         "1.0",
         "2.357892",
         "48.86205",
         "000AR"
        ],
        [
         "14",
         "2020-1426697",
         "2020-01-13",
         "Vente",
         "340000.0",
         "97.0",
         "RUE BEAUBOURG",
         "759",
         "75003.0",
         "Paris 3e Arrondissement",
         "75103000AD0037",
         "13.0",
         null,
         "Appartement",
         "30.0",
         "1.0",
         "2.355089",
         "48.864571",
         "000AD"
        ],
        [
         "15",
         "2020-1426698",
         "2020-01-03",
         "Vente",
         "800000.0",
         "56.0",
         "BD DE SEBASTOPOL",
         "8894",
         "75003.0",
         "Paris 3e Arrondissement",
         "75103000AU0005",
         "13.0",
         null,
         "Local industriel. commercial ou assimilé",
         "125.0",
         "0.0",
         "2.351054",
         "48.863055",
         "000AU"
        ],
        [
         "16",
         "2020-1426698",
         "2020-01-03",
         "Vente",
         "800000.0",
         "56.0",
         "BD DE SEBASTOPOL",
         "8894",
         "75003.0",
         "Paris 3e Arrondissement",
         "75103000AU0005",
         "10.0",
         null,
         "Dépendance",
         null,
         "0.0",
         "2.351054",
         "48.863055",
         "000AU"
        ],
        [
         "17",
         "2020-1426699",
         "2020-01-15",
         "Vente",
         "779637.0",
         "27.0",
         "RUE DU GENERAL FOY",
         "4041",
         "75008.0",
         "Paris 8e Arrondissement",
         "75108000CH0053",
         "37.0",
         "64.52",
         "Appartement",
         "65.0",
         "2.0",
         "2.31699",
         "48.879011",
         "000CH"
        ],
        [
         "18",
         "2020-1426700",
         "2020-01-02",
         "Vente",
         "89000.0",
         "23.0",
         "RUE DE CONSTANTINOPLE",
         "2289",
         "75008.0",
         "Paris 8e Arrondissement",
         "75108000CF0098",
         "99.0",
         null,
         "Dépendance",
         null,
         "0.0",
         "2.319242",
         "48.880083",
         "000CF"
        ],
        [
         "19",
         "2020-1426701",
         "2020-01-09",
         "Vente",
         "829300.0",
         "266.0",
         "RUE DU FAUBOURG SAINT HONORE",
         "3518",
         "75008.0",
         "Paris 8e Arrondissement",
         "75108000AY0011",
         "66.0",
         null,
         "Appartement",
         "75.0",
         "3.0",
         "2.299505",
         "48.877705",
         "000AY"
        ],
        [
         "20",
         "2020-1426702",
         "2020-01-10",
         "Vente",
         "1300000.0",
         "8.0",
         "RUE DE VIENNE",
         "9785",
         "75008.0",
         "Paris 8e Arrondissement",
         "75108000BW0020",
         "23.0",
         null,
         "Appartement",
         "163.0",
         "6.0",
         "2.321694",
         "48.876632",
         "000BW"
        ],
        [
         "21",
         "2020-1426703",
         "2020-01-16",
         "Vente",
         "435000.0",
         "13.0",
         "BD DU TEMPLE",
         "9190",
         "75003.0",
         "Paris 3e Arrondissement",
         "75103000AJ0005",
         "7.0",
         "55.69",
         "Appartement",
         "72.0",
         "2.0",
         "2.365697",
         "48.863902",
         "000AJ"
        ],
        [
         "22",
         "2020-1426704",
         "2020-01-14",
         "Vente",
         "450000.0",
         "18.0",
         "RUE REAUMUR",
         "8073",
         "75003.0",
         "Paris 3e Arrondissement",
         "75103000AE0021",
         "23.0",
         null,
         "Appartement",
         "40.0",
         "2.0",
         "2.358805",
         "48.865153",
         "000AE"
        ],
        [
         "23",
         "2020-1426705",
         "2020-01-06",
         "Vente",
         "30000.0",
         "7.0",
         "RUE CHARLOT",
         "1880",
         "75003.0",
         "Paris 3e Arrondissement",
         "75103000AQ0016",
         "64.0",
         null,
         "Appartement",
         "20.0",
         "1.0",
         "2.360101",
         "48.861319",
         "000AQ"
        ],
        [
         "24",
         "2020-1426706",
         "2020-01-08",
         "Vente",
         "648600.0",
         "3.0",
         "RUE DU PERCHE",
         "7248",
         "75003.0",
         "Paris 3e Arrondissement",
         "75103000AQ0061",
         "2.0",
         "43.71",
         "Appartement",
         "40.0",
         "1.0",
         "2.36155",
         "48.860561",
         "000AQ"
        ],
        [
         "25",
         "2020-1426707",
         "2020-01-08",
         "Vente",
         "4800.0",
         "39.0",
         "RUE NOTRE DAME DE NAZARETH",
         "6834",
         "75003.0",
         "Paris 3e Arrondissement",
         "75103000AB0075",
         "27.0",
         null,
         "Appartement",
         "39.0",
         "2.0",
         "2.357807",
         "48.867386",
         "000AB"
        ],
        [
         "26",
         "2020-1426708",
         "2020-01-06",
         "Vente",
         "106574.1",
         "67.0",
         "RUE DE BRETAGNE",
         "1275",
         "75003.0",
         "Paris 3e Arrondissement",
         "75103000AI0005",
         "35.0",
         "26.43",
         "Appartement",
         "11.0",
         "1.0",
         "2.359834",
         "48.864253",
         "000AI"
        ],
        [
         "27",
         "2020-1426709",
         "2020-01-06",
         "Vente",
         "710000.0",
         "257.0",
         "RUE SAINT HONORE",
         "8635",
         "75001.0",
         "Paris 1er Arrondissement",
         "75101000BD0058",
         "103.0",
         "29.16",
         "Local industriel. commercial ou assimilé",
         "30.0",
         "0.0",
         "2.326348",
         "48.866939",
         "000BD"
        ],
        [
         "28",
         "2020-1426710",
         "2020-01-09",
         "Vente",
         "38000.0",
         "7.0",
         "RUE AU MAIRE",
         "5927",
         "75003.0",
         "Paris 3e Arrondissement",
         "75103000AE0179",
         "748.0",
         null,
         "Dépendance",
         null,
         "0.0",
         "2.357243",
         "48.864202",
         "000AE"
        ],
        [
         "29",
         "2020-1426711",
         "2020-01-09",
         "Vente",
         "18000.0",
         "83.0",
         "RUE DU TEMPLE",
         "9191",
         "75003.0",
         "Paris 3e Arrondissement",
         "75103000AT0094",
         "91.0",
         null,
         "Dépendance",
         null,
         "0.0",
         "2.355955",
         "48.861966",
         "000AT"
        ],
        [
         "30",
         "2020-1426712",
         "2020-01-09",
         "Echange",
         "17400000.0",
         "162.0",
         "RUE DU FAUBOURG SAINT HONORE",
         "3518",
         "75008.0",
         "Paris 8e Arrondissement",
         "75108000BE0023",
         "7.0",
         null,
         "Local industriel. commercial ou assimilé",
         "110.0",
         "0.0",
         "2.309755",
         "48.873496",
         "000BE"
        ],
        [
         "31",
         "2020-1426712",
         "2020-01-09",
         "Echange",
         "17400000.0",
         "162.0",
         "RUE DU FAUBOURG SAINT HONORE",
         "3518",
         "75008.0",
         "Paris 8e Arrondissement",
         "75108000BE0023",
         "13.0",
         null,
         "Local industriel. commercial ou assimilé",
         "387.0",
         "0.0",
         "2.309755",
         "48.873496",
         "000BE"
        ],
        [
         "32",
         "2020-1426712",
         "2020-01-09",
         "Echange",
         "17400000.0",
         "162.0",
         "RUE DU FAUBOURG SAINT HONORE",
         "3518",
         "75008.0",
         "Paris 8e Arrondissement",
         "75108000BE0023",
         "13.0",
         null,
         "Local industriel. commercial ou assimilé",
         "387.0",
         "0.0",
         "2.309755",
         "48.873496",
         "000BE"
        ],
        [
         "33",
         "2020-1426712",
         "2020-01-09",
         "Echange",
         "17400000.0",
         "162.0",
         "RUE DU FAUBOURG SAINT HONORE",
         "3518",
         "75008.0",
         "Paris 8e Arrondissement",
         "75108000BE0023",
         "32.0",
         null,
         "Local industriel. commercial ou assimilé",
         "381.0",
         "0.0",
         "2.309755",
         "48.873496",
         "000BE"
        ],
        [
         "34",
         "2020-1426713",
         "2020-01-09",
         "Echange",
         "44700000.0",
         "39.0",
         "AV PIERRE 1ER DE SERBIE",
         "7471",
         "75008.0",
         "Paris 8e Arrondissement",
         "75108000AP0069",
         null,
         null,
         "Local industriel. commercial ou assimilé",
         "49.0",
         "0.0",
         "2.300025",
         "48.868285",
         "000AP"
        ],
        [
         "35",
         "2020-1426713",
         "2020-01-09",
         "Echange",
         "44700000.0",
         "39.0",
         "AV PIERRE 1ER DE SERBIE",
         "7471",
         "75008.0",
         "Paris 8e Arrondissement",
         "75108000AP0069",
         null,
         null,
         "Local industriel. commercial ou assimilé",
         "252.0",
         "0.0",
         "2.300025",
         "48.868285",
         "000AP"
        ],
        [
         "36",
         "2020-1426713",
         "2020-01-09",
         "Echange",
         "44700000.0",
         "39.0",
         "AV PIERRE 1ER DE SERBIE",
         "7471",
         "75008.0",
         "Paris 8e Arrondissement",
         "75108000AP0069",
         null,
         null,
         "Local industriel. commercial ou assimilé",
         "253.0",
         "0.0",
         "2.300025",
         "48.868285",
         "000AP"
        ],
        [
         "37",
         "2020-1426713",
         "2020-01-09",
         "Echange",
         "44700000.0",
         "39.0",
         "AV PIERRE 1ER DE SERBIE",
         "7471",
         "75008.0",
         "Paris 8e Arrondissement",
         "75108000AP0069",
         null,
         null,
         "Local industriel. commercial ou assimilé",
         "314.0",
         "0.0",
         "2.300025",
         "48.868285",
         "000AP"
        ],
        [
         "38",
         "2020-1426713",
         "2020-01-09",
         "Echange",
         "44700000.0",
         "39.0",
         "AV PIERRE 1ER DE SERBIE",
         "7471",
         "75008.0",
         "Paris 8e Arrondissement",
         "75108000AP0069",
         null,
         null,
         "Local industriel. commercial ou assimilé",
         "262.0",
         "0.0",
         "2.300025",
         "48.868285",
         "000AP"
        ],
        [
         "39",
         "2020-1426713",
         "2020-01-09",
         "Echange",
         "44700000.0",
         "39.0",
         "AV PIERRE 1ER DE SERBIE",
         "7471",
         "75008.0",
         "Paris 8e Arrondissement",
         "75108000AP0069",
         null,
         null,
         "Local industriel. commercial ou assimilé",
         "199.0",
         "0.0",
         "2.300025",
         "48.868285",
         "000AP"
        ],
        [
         "40",
         "2020-1426713",
         "2020-01-09",
         "Echange",
         "44700000.0",
         "39.0",
         "AV PIERRE 1ER DE SERBIE",
         "7471",
         "75008.0",
         "Paris 8e Arrondissement",
         "75108000AP0069",
         null,
         null,
         "Local industriel. commercial ou assimilé",
         "461.0",
         "0.0",
         "2.300025",
         "48.868285",
         "000AP"
        ],
        [
         "41",
         "2020-1441460",
         "2020-06-18",
         "Vente",
         null,
         "149.0",
         "AV DE FRANCE",
         "3796",
         "75013.0",
         "Paris 13e Arrondissement",
         "75113000BR0036",
         null,
         null,
         null,
         null,
         null,
         "2.374126",
         "48.832416",
         "000BR"
        ],
        [
         "42",
         "2020-1426713",
         "2020-01-09",
         "Echange",
         "44700000.0",
         "39.0",
         "AV PIERRE 1ER DE SERBIE",
         "7471",
         "75008.0",
         "Paris 8e Arrondissement",
         "75108000AP0069",
         null,
         null,
         "Local industriel. commercial ou assimilé",
         "219.0",
         "0.0",
         "2.300025",
         "48.868285",
         "000AP"
        ],
        [
         "43",
         "2020-1426713",
         "2020-01-09",
         "Echange",
         "44700000.0",
         "39.0",
         "AV PIERRE 1ER DE SERBIE",
         "7471",
         "75008.0",
         "Paris 8e Arrondissement",
         "75108000AP0069",
         null,
         null,
         "Local industriel. commercial ou assimilé",
         "265.0",
         "0.0",
         "2.300025",
         "48.868285",
         "000AP"
        ],
        [
         "44",
         "2020-1426713",
         "2020-01-09",
         "Echange",
         "44700000.0",
         "39.0",
         "AV PIERRE 1ER DE SERBIE",
         "7471",
         "75008.0",
         "Paris 8e Arrondissement",
         "75108000AP0069",
         null,
         null,
         "Local industriel. commercial ou assimilé",
         "98.0",
         "0.0",
         "2.300025",
         "48.868285",
         "000AP"
        ],
        [
         "45",
         "2020-1426713",
         "2020-01-09",
         "Echange",
         "44700000.0",
         "39.0",
         "AV PIERRE 1ER DE SERBIE",
         "7471",
         "75008.0",
         "Paris 8e Arrondissement",
         "75108000AP0069",
         null,
         null,
         "Local industriel. commercial ou assimilé",
         "271.0",
         "0.0",
         "2.300025",
         "48.868285",
         "000AP"
        ],
        [
         "46",
         "2020-1426713",
         "2020-01-09",
         "Echange",
         "44700000.0",
         "39.0",
         "AV PIERRE 1ER DE SERBIE",
         "7471",
         "75008.0",
         "Paris 8e Arrondissement",
         "75108000AP0069",
         null,
         null,
         "Local industriel. commercial ou assimilé",
         "261.0",
         "0.0",
         "2.300025",
         "48.868285",
         "000AP"
        ],
        [
         "47",
         "2020-1426713",
         "2020-01-09",
         "Echange",
         "44700000.0",
         "39.0",
         "AV PIERRE 1ER DE SERBIE",
         "7471",
         "75008.0",
         "Paris 8e Arrondissement",
         "75108000AP0069",
         null,
         null,
         "Local industriel. commercial ou assimilé",
         "278.0",
         "0.0",
         "2.300025",
         "48.868285",
         "000AP"
        ],
        [
         "48",
         "2020-1426714",
         "2020-01-16",
         "Vente",
         "580000.0",
         "8.0",
         "RUE ROY",
         "8414",
         "75008.0",
         "Paris 8e Arrondissement",
         "75108000CJ0054",
         "2.0",
         null,
         "Local industriel. commercial ou assimilé",
         "32.0",
         "0.0",
         "2.318577",
         "48.875438",
         "000CJ"
        ],
        [
         "49",
         "2020-1426715",
         "2020-01-06",
         "Vente",
         "544000.0",
         "35.0",
         "RUE COQUILLIERE",
         "2318",
         "75001.0",
         "Paris 1er Arrondissement",
         "75101000AR0042",
         "14.0",
         null,
         "Appartement",
         "52.0",
         "2.0",
         "2.341036",
         "48.864313",
         "000AR"
        ]
       ],
       "shape": {
        "columns": 18,
        "rows": 389593
       }
      },
      "text/html": [
       "<div>\n",
       "<style scoped>\n",
       "    .dataframe tbody tr th:only-of-type {\n",
       "        vertical-align: middle;\n",
       "    }\n",
       "\n",
       "    .dataframe tbody tr th {\n",
       "        vertical-align: top;\n",
       "    }\n",
       "\n",
       "    .dataframe thead th {\n",
       "        text-align: right;\n",
       "    }\n",
       "</style>\n",
       "<table border=\"1\" class=\"dataframe\">\n",
       "  <thead>\n",
       "    <tr style=\"text-align: right;\">\n",
       "      <th></th>\n",
       "      <th>id_mutation</th>\n",
       "      <th>date_mutation</th>\n",
       "      <th>nature_mutation</th>\n",
       "      <th>valeur_fonciere</th>\n",
       "      <th>adresse_numero</th>\n",
       "      <th>adresse_nom_voie</th>\n",
       "      <th>adresse_code_voie</th>\n",
       "      <th>code_postal</th>\n",
       "      <th>nom_commune</th>\n",
       "      <th>id_parcelle</th>\n",
       "      <th>lot1_numero</th>\n",
       "      <th>lot1_surface_carrez</th>\n",
       "      <th>type_local</th>\n",
       "      <th>surface_reelle_bati</th>\n",
       "      <th>nombre_pieces_principales</th>\n",
       "      <th>longitude</th>\n",
       "      <th>latitude</th>\n",
       "      <th>section_prefixe</th>\n",
       "    </tr>\n",
       "  </thead>\n",
       "  <tbody>\n",
       "    <tr>\n",
       "      <th>0</th>\n",
       "      <td>2020-1426687</td>\n",
       "      <td>2020-01-02</td>\n",
       "      <td>Vente</td>\n",
       "      <td>268800.0</td>\n",
       "      <td>14.0</td>\n",
       "      <td>RUE DE L ARCADE</td>\n",
       "      <td>411</td>\n",
       "      <td>75008.0</td>\n",
       "      <td>Paris 8e Arrondissement</td>\n",
       "      <td>75108000BS0136</td>\n",
       "      <td>31.0</td>\n",
       "      <td>NaN</td>\n",
       "      <td>Appartement</td>\n",
       "      <td>24.0</td>\n",
       "      <td>1.0</td>\n",
       "      <td>2.323937</td>\n",
       "      <td>48.871607</td>\n",
       "      <td>000BS</td>\n",
       "    </tr>\n",
       "    <tr>\n",
       "      <th>1</th>\n",
       "      <td>2020-1426688</td>\n",
       "      <td>2020-01-06</td>\n",
       "      <td>Vente</td>\n",
       "      <td>878378.0</td>\n",
       "      <td>9.0</td>\n",
       "      <td>BD DE LA MADELEINE</td>\n",
       "      <td>5888</td>\n",
       "      <td>75001.0</td>\n",
       "      <td>Paris 1er Arrondissement</td>\n",
       "      <td>75101000BC0041</td>\n",
       "      <td>63.0</td>\n",
       "      <td>NaN</td>\n",
       "      <td>Local industriel. commercial ou assimilé</td>\n",
       "      <td>43.0</td>\n",
       "      <td>0.0</td>\n",
       "      <td>2.326882</td>\n",
       "      <td>48.869331</td>\n",
       "      <td>000BC</td>\n",
       "    </tr>\n",
       "    <tr>\n",
       "      <th>2</th>\n",
       "      <td>2020-1426688</td>\n",
       "      <td>2020-01-06</td>\n",
       "      <td>Vente</td>\n",
       "      <td>878378.0</td>\n",
       "      <td>9.0</td>\n",
       "      <td>BD DE LA MADELEINE</td>\n",
       "      <td>5888</td>\n",
       "      <td>75001.0</td>\n",
       "      <td>Paris 1er Arrondissement</td>\n",
       "      <td>75101000BC0041</td>\n",
       "      <td>14.0</td>\n",
       "      <td>66.64</td>\n",
       "      <td>Appartement</td>\n",
       "      <td>66.0</td>\n",
       "      <td>2.0</td>\n",
       "      <td>2.326882</td>\n",
       "      <td>48.869331</td>\n",
       "      <td>000BC</td>\n",
       "    </tr>\n",
       "    <tr>\n",
       "      <th>3</th>\n",
       "      <td>2020-1426689</td>\n",
       "      <td>2020-01-10</td>\n",
       "      <td>Vente</td>\n",
       "      <td>680000.0</td>\n",
       "      <td>10.0</td>\n",
       "      <td>RUE DU BOURG L ABBE</td>\n",
       "      <td>1200</td>\n",
       "      <td>75003.0</td>\n",
       "      <td>Paris 3e Arrondissement</td>\n",
       "      <td>75103000AV0006</td>\n",
       "      <td>9.0</td>\n",
       "      <td>50.74</td>\n",
       "      <td>Appartement</td>\n",
       "      <td>51.0</td>\n",
       "      <td>2.0</td>\n",
       "      <td>2.351965</td>\n",
       "      <td>48.864157</td>\n",
       "      <td>000AV</td>\n",
       "    </tr>\n",
       "    <tr>\n",
       "      <th>4</th>\n",
       "      <td>2020-1426690</td>\n",
       "      <td>2020-01-03</td>\n",
       "      <td>Vente</td>\n",
       "      <td>852000.0</td>\n",
       "      <td>24.0</td>\n",
       "      <td>RUE DE SAINTONGE</td>\n",
       "      <td>8716</td>\n",
       "      <td>75003.0</td>\n",
       "      <td>Paris 3e Arrondissement</td>\n",
       "      <td>75103000AK0080</td>\n",
       "      <td>74.0</td>\n",
       "      <td>66.00</td>\n",
       "      <td>Appartement</td>\n",
       "      <td>12.0</td>\n",
       "      <td>1.0</td>\n",
       "      <td>2.363196</td>\n",
       "      <td>48.862017</td>\n",
       "      <td>000AK</td>\n",
       "    </tr>\n",
       "    <tr>\n",
       "      <th>...</th>\n",
       "      <td>...</td>\n",
       "      <td>...</td>\n",
       "      <td>...</td>\n",
       "      <td>...</td>\n",
       "      <td>...</td>\n",
       "      <td>...</td>\n",
       "      <td>...</td>\n",
       "      <td>...</td>\n",
       "      <td>...</td>\n",
       "      <td>...</td>\n",
       "      <td>...</td>\n",
       "      <td>...</td>\n",
       "      <td>...</td>\n",
       "      <td>...</td>\n",
       "      <td>...</td>\n",
       "      <td>...</td>\n",
       "      <td>...</td>\n",
       "      <td>...</td>\n",
       "    </tr>\n",
       "    <tr>\n",
       "      <th>389588</th>\n",
       "      <td>2022-1672017</td>\n",
       "      <td>2022-05-11</td>\n",
       "      <td>Vente</td>\n",
       "      <td>2306600.0</td>\n",
       "      <td>113.0</td>\n",
       "      <td>BD SAINT MICHEL</td>\n",
       "      <td>8705</td>\n",
       "      <td>75005.0</td>\n",
       "      <td>Paris 5e Arrondissement</td>\n",
       "      <td>75105000BG0074</td>\n",
       "      <td>104.0</td>\n",
       "      <td>157.37</td>\n",
       "      <td>Dépendance</td>\n",
       "      <td>NaN</td>\n",
       "      <td>0.0</td>\n",
       "      <td>2.339024</td>\n",
       "      <td>48.843287</td>\n",
       "      <td>000BG</td>\n",
       "    </tr>\n",
       "    <tr>\n",
       "      <th>389589</th>\n",
       "      <td>2022-1672017</td>\n",
       "      <td>2022-05-11</td>\n",
       "      <td>Vente</td>\n",
       "      <td>2306600.0</td>\n",
       "      <td>113.0</td>\n",
       "      <td>BD SAINT MICHEL</td>\n",
       "      <td>8705</td>\n",
       "      <td>75005.0</td>\n",
       "      <td>Paris 5e Arrondissement</td>\n",
       "      <td>75105000BG0074</td>\n",
       "      <td>118.0</td>\n",
       "      <td>NaN</td>\n",
       "      <td>Dépendance</td>\n",
       "      <td>NaN</td>\n",
       "      <td>0.0</td>\n",
       "      <td>2.339024</td>\n",
       "      <td>48.843287</td>\n",
       "      <td>000BG</td>\n",
       "    </tr>\n",
       "    <tr>\n",
       "      <th>389590</th>\n",
       "      <td>2022-1672017</td>\n",
       "      <td>2022-05-11</td>\n",
       "      <td>Vente</td>\n",
       "      <td>2306600.0</td>\n",
       "      <td>113.0</td>\n",
       "      <td>BD SAINT MICHEL</td>\n",
       "      <td>8705</td>\n",
       "      <td>75005.0</td>\n",
       "      <td>Paris 5e Arrondissement</td>\n",
       "      <td>75105000BG0074</td>\n",
       "      <td>104.0</td>\n",
       "      <td>157.37</td>\n",
       "      <td>Appartement</td>\n",
       "      <td>180.0</td>\n",
       "      <td>5.0</td>\n",
       "      <td>2.339024</td>\n",
       "      <td>48.843287</td>\n",
       "      <td>000BG</td>\n",
       "    </tr>\n",
       "    <tr>\n",
       "      <th>389591</th>\n",
       "      <td>2022-1672018</td>\n",
       "      <td>2022-05-23</td>\n",
       "      <td>Vente</td>\n",
       "      <td>1111900.0</td>\n",
       "      <td>116.0</td>\n",
       "      <td>QUAI LOUIS BLERIOT</td>\n",
       "      <td>5766</td>\n",
       "      <td>75016.0</td>\n",
       "      <td>Paris 16e Arrondissement</td>\n",
       "      <td>75116000AJ0015</td>\n",
       "      <td>647.0</td>\n",
       "      <td>96.18</td>\n",
       "      <td>Appartement</td>\n",
       "      <td>96.0</td>\n",
       "      <td>3.0</td>\n",
       "      <td>2.270776</td>\n",
       "      <td>48.844019</td>\n",
       "      <td>000AJ</td>\n",
       "    </tr>\n",
       "    <tr>\n",
       "      <th>389592</th>\n",
       "      <td>2022-1672018</td>\n",
       "      <td>2022-05-23</td>\n",
       "      <td>Vente</td>\n",
       "      <td>1111900.0</td>\n",
       "      <td>116.0</td>\n",
       "      <td>QUAI LOUIS BLERIOT</td>\n",
       "      <td>5766</td>\n",
       "      <td>75016.0</td>\n",
       "      <td>Paris 16e Arrondissement</td>\n",
       "      <td>75116000AJ0015</td>\n",
       "      <td>647.0</td>\n",
       "      <td>96.18</td>\n",
       "      <td>Dépendance</td>\n",
       "      <td>NaN</td>\n",
       "      <td>0.0</td>\n",
       "      <td>2.270776</td>\n",
       "      <td>48.844019</td>\n",
       "      <td>000AJ</td>\n",
       "    </tr>\n",
       "  </tbody>\n",
       "</table>\n",
       "<p>389593 rows × 18 columns</p>\n",
       "</div>"
      ],
      "text/plain": [
       "         id_mutation date_mutation nature_mutation  valeur_fonciere  \\\n",
       "0       2020-1426687    2020-01-02           Vente         268800.0   \n",
       "1       2020-1426688    2020-01-06           Vente         878378.0   \n",
       "2       2020-1426688    2020-01-06           Vente         878378.0   \n",
       "3       2020-1426689    2020-01-10           Vente         680000.0   \n",
       "4       2020-1426690    2020-01-03           Vente         852000.0   \n",
       "...              ...           ...             ...              ...   \n",
       "389588  2022-1672017    2022-05-11           Vente        2306600.0   \n",
       "389589  2022-1672017    2022-05-11           Vente        2306600.0   \n",
       "389590  2022-1672017    2022-05-11           Vente        2306600.0   \n",
       "389591  2022-1672018    2022-05-23           Vente        1111900.0   \n",
       "389592  2022-1672018    2022-05-23           Vente        1111900.0   \n",
       "\n",
       "        adresse_numero     adresse_nom_voie  adresse_code_voie  code_postal  \\\n",
       "0                 14.0      RUE DE L ARCADE                411      75008.0   \n",
       "1                  9.0   BD DE LA MADELEINE               5888      75001.0   \n",
       "2                  9.0   BD DE LA MADELEINE               5888      75001.0   \n",
       "3                 10.0  RUE DU BOURG L ABBE               1200      75003.0   \n",
       "4                 24.0     RUE DE SAINTONGE               8716      75003.0   \n",
       "...                ...                  ...                ...          ...   \n",
       "389588           113.0      BD SAINT MICHEL               8705      75005.0   \n",
       "389589           113.0      BD SAINT MICHEL               8705      75005.0   \n",
       "389590           113.0      BD SAINT MICHEL               8705      75005.0   \n",
       "389591           116.0   QUAI LOUIS BLERIOT               5766      75016.0   \n",
       "389592           116.0   QUAI LOUIS BLERIOT               5766      75016.0   \n",
       "\n",
       "                     nom_commune     id_parcelle  lot1_numero  \\\n",
       "0        Paris 8e Arrondissement  75108000BS0136         31.0   \n",
       "1       Paris 1er Arrondissement  75101000BC0041         63.0   \n",
       "2       Paris 1er Arrondissement  75101000BC0041         14.0   \n",
       "3        Paris 3e Arrondissement  75103000AV0006          9.0   \n",
       "4        Paris 3e Arrondissement  75103000AK0080         74.0   \n",
       "...                          ...             ...          ...   \n",
       "389588   Paris 5e Arrondissement  75105000BG0074        104.0   \n",
       "389589   Paris 5e Arrondissement  75105000BG0074        118.0   \n",
       "389590   Paris 5e Arrondissement  75105000BG0074        104.0   \n",
       "389591  Paris 16e Arrondissement  75116000AJ0015        647.0   \n",
       "389592  Paris 16e Arrondissement  75116000AJ0015        647.0   \n",
       "\n",
       "        lot1_surface_carrez                                type_local  \\\n",
       "0                       NaN                               Appartement   \n",
       "1                       NaN  Local industriel. commercial ou assimilé   \n",
       "2                     66.64                               Appartement   \n",
       "3                     50.74                               Appartement   \n",
       "4                     66.00                               Appartement   \n",
       "...                     ...                                       ...   \n",
       "389588               157.37                                Dépendance   \n",
       "389589                  NaN                                Dépendance   \n",
       "389590               157.37                               Appartement   \n",
       "389591                96.18                               Appartement   \n",
       "389592                96.18                                Dépendance   \n",
       "\n",
       "        surface_reelle_bati  nombre_pieces_principales  longitude   latitude  \\\n",
       "0                      24.0                        1.0   2.323937  48.871607   \n",
       "1                      43.0                        0.0   2.326882  48.869331   \n",
       "2                      66.0                        2.0   2.326882  48.869331   \n",
       "3                      51.0                        2.0   2.351965  48.864157   \n",
       "4                      12.0                        1.0   2.363196  48.862017   \n",
       "...                     ...                        ...        ...        ...   \n",
       "389588                  NaN                        0.0   2.339024  48.843287   \n",
       "389589                  NaN                        0.0   2.339024  48.843287   \n",
       "389590                180.0                        5.0   2.339024  48.843287   \n",
       "389591                 96.0                        3.0   2.270776  48.844019   \n",
       "389592                  NaN                        0.0   2.270776  48.844019   \n",
       "\n",
       "       section_prefixe  \n",
       "0                000BS  \n",
       "1                000BC  \n",
       "2                000BC  \n",
       "3                000AV  \n",
       "4                000AK  \n",
       "...                ...  \n",
       "389588           000BG  \n",
       "389589           000BG  \n",
       "389590           000BG  \n",
       "389591           000AJ  \n",
       "389592           000AJ  \n",
       "\n",
       "[389593 rows x 18 columns]"
      ]
     },
     "execution_count": 12,
     "metadata": {},
     "output_type": "execute_result"
    }
   ],
   "source": [
    "df"
   ]
  },
  {
   "cell_type": "code",
   "execution_count": 13,
   "id": "76f6ccd8",
   "metadata": {},
   "outputs": [
    {
     "data": {
      "text/plain": [
       "<StringArray>\n",
       "[                             'Vente',                            'Echange',\n",
       " 'Vente en l'état futur d'achèvement',                       'Adjudication',\n",
       "                      'Expropriation',              'Vente terrain à bâtir',\n",
       "                    'nature_mutation']\n",
       "Length: 7, dtype: string"
      ]
     },
     "execution_count": 13,
     "metadata": {},
     "output_type": "execute_result"
    }
   ],
   "source": [
    "# listons les valeurs différentes de \"nature_mutation\"\n",
    "df[\"nature_mutation\"].unique()"
   ]
  },
  {
   "cell_type": "markdown",
   "id": "ae64862a",
   "metadata": {},
   "source": [
    "#### On ne garde que les ventes, les autres attributs faussant les prix (les échanges sont très souvent à des prix bien inférieurs au marché), on supprime la colonne par la suite"
   ]
  },
  {
   "cell_type": "code",
   "execution_count": 14,
   "id": "55197f18",
   "metadata": {},
   "outputs": [
    {
     "name": "stderr",
     "output_type": "stream",
     "text": [
      "/var/folders/g9/1z_9t2sn34d6xr4x1kfly2dw0000gn/T/ipykernel_56536/811981800.py:5: SettingWithCopyWarning: \n",
      "A value is trying to be set on a copy of a slice from a DataFrame\n",
      "\n",
      "See the caveats in the documentation: https://pandas.pydata.org/pandas-docs/stable/user_guide/indexing.html#returning-a-view-versus-a-copy\n",
      "  df.drop(columns='nature_mutation', inplace = True)\n"
     ]
    },
    {
     "data": {
      "text/plain": [
       "(382080, 17)"
      ]
     },
     "execution_count": 14,
     "metadata": {},
     "output_type": "execute_result"
    }
   ],
   "source": [
    "# filtrage du dataframe pour ne conserver que les ventes\n",
    "df = df[df['nature_mutation'] == 'Vente']\n",
    "\n",
    "# on supprime ensuite la colonne\n",
    "df.drop(columns='nature_mutation', inplace = True)\n",
    "\n",
    "df.shape"
   ]
  },
  {
   "cell_type": "markdown",
   "id": "9d4ee4d9",
   "metadata": {},
   "source": [
    "#### On ne s'intéresse qu'aux appartements (les prix étant trop différents pour les autres types à l'exception des maisons qui sont-elles trop peu nombreues), on supprime donc les autres type de biens et l'on supprime ensuite la colonne"
   ]
  },
  {
   "cell_type": "code",
   "execution_count": 15,
   "id": "fc0c889d",
   "metadata": {},
   "outputs": [
    {
     "data": {
      "text/plain": [
       "(178640, 16)"
      ]
     },
     "execution_count": 15,
     "metadata": {},
     "output_type": "execute_result"
    }
   ],
   "source": [
    "# filtrage sur les appartements\n",
    "df = df[df['type_local'] == 'Appartement']\n",
    "\n",
    "# suppression de la colonne type_local\n",
    "df.drop(columns='type_local', inplace = True)\n",
    "\n",
    "df.shape"
   ]
  },
  {
   "cell_type": "markdown",
   "id": "c9d5aaad",
   "metadata": {},
   "source": [
    "#### On supprime les autres lignes inutiles ou redondantes"
   ]
  },
  {
   "cell_type": "code",
   "execution_count": 16,
   "id": "34986065",
   "metadata": {},
   "outputs": [
    {
     "data": {
      "text/plain": [
       "(178640, 12)"
      ]
     },
     "execution_count": 16,
     "metadata": {},
     "output_type": "execute_result"
    }
   ],
   "source": [
    "colonnes_redondantes_et_inutiles = ['id_mutation','id_parcelle','lot1_numero', 'section_prefixe']\n",
    "df.drop(columns=colonnes_redondantes_et_inutiles, inplace = True)\n",
    "\n",
    "df.shape"
   ]
  },
  {
   "cell_type": "code",
   "execution_count": 17,
   "id": "569fa223",
   "metadata": {},
   "outputs": [
    {
     "data": {
      "application/vnd.microsoft.datawrangler.viewer.v0+json": {
       "columns": [
        {
         "name": "index",
         "rawType": "int64",
         "type": "integer"
        },
        {
         "name": "date_mutation",
         "rawType": "string",
         "type": "string"
        },
        {
         "name": "valeur_fonciere",
         "rawType": "float64",
         "type": "float"
        },
        {
         "name": "adresse_numero",
         "rawType": "float64",
         "type": "float"
        },
        {
         "name": "adresse_nom_voie",
         "rawType": "string",
         "type": "string"
        },
        {
         "name": "adresse_code_voie",
         "rawType": "Int64",
         "type": "integer"
        },
        {
         "name": "code_postal",
         "rawType": "float64",
         "type": "float"
        },
        {
         "name": "nom_commune",
         "rawType": "string",
         "type": "string"
        },
        {
         "name": "lot1_surface_carrez",
         "rawType": "float64",
         "type": "float"
        },
        {
         "name": "surface_reelle_bati",
         "rawType": "float64",
         "type": "float"
        },
        {
         "name": "nombre_pieces_principales",
         "rawType": "float64",
         "type": "float"
        },
        {
         "name": "longitude",
         "rawType": "float64",
         "type": "float"
        },
        {
         "name": "latitude",
         "rawType": "float64",
         "type": "float"
        }
       ],
       "ref": "64165ad5-6f0a-4207-aa9f-7509dd109b34",
       "rows": [
        [
         "0",
         "2020-01-02",
         "268800.0",
         "14.0",
         "RUE DE L ARCADE",
         "411",
         "75008.0",
         "Paris 8e Arrondissement",
         null,
         "24.0",
         "1.0",
         "2.323937",
         "48.871607"
        ],
        [
         "2",
         "2020-01-06",
         "878378.0",
         "9.0",
         "BD DE LA MADELEINE",
         "5888",
         "75001.0",
         "Paris 1er Arrondissement",
         "66.64",
         "66.0",
         "2.0",
         "2.326882",
         "48.869331"
        ],
        [
         "3",
         "2020-01-10",
         "680000.0",
         "10.0",
         "RUE DU BOURG L ABBE",
         "1200",
         "75003.0",
         "Paris 3e Arrondissement",
         "50.74",
         "51.0",
         "2.0",
         "2.351965",
         "48.864157"
        ],
        [
         "4",
         "2020-01-03",
         "852000.0",
         "24.0",
         "RUE DE SAINTONGE",
         "8716",
         "75003.0",
         "Paris 3e Arrondissement",
         "66.0",
         "12.0",
         "1.0",
         "2.363196",
         "48.862017"
        ],
        [
         "5",
         "2020-01-03",
         "852000.0",
         "24.0",
         "RUE DE SAINTONGE",
         "8716",
         "75003.0",
         "Paris 3e Arrondissement",
         "66.0",
         "19.0",
         "1.0",
         "2.363196",
         "48.862017"
        ],
        [
         "6",
         "2020-01-03",
         "852000.0",
         "24.0",
         "RUE DE SAINTONGE",
         "8716",
         "75003.0",
         "Paris 3e Arrondissement",
         null,
         "12.0",
         "1.0",
         "2.363196",
         "48.862017"
        ],
        [
         "7",
         "2020-01-08",
         "6000.0",
         "7.0",
         "AV FRANKLIN D ROOSEVELT",
         "3824",
         "75008.0",
         "Paris 8e Arrondissement",
         null,
         "79.0",
         "3.0",
         "2.309698",
         "48.865741"
        ],
        [
         "8",
         "2020-01-03",
         "2350000.0",
         "83.0",
         "RUE DE MONCEAU",
         "6419",
         "75008.0",
         "Paris 8e Arrondissement",
         null,
         "174.0",
         "5.0",
         "2.315064",
         "48.880175"
        ],
        [
         "9",
         "2020-01-03",
         "2350000.0",
         "83.0",
         "RUE DE MONCEAU",
         "6419",
         "75008.0",
         "Paris 8e Arrondissement",
         "204.32",
         "212.0",
         "8.0",
         "2.315064",
         "48.880175"
        ],
        [
         "10",
         "2020-01-08",
         "370000.0",
         "79.0",
         "RUE DES ARCHIVES",
         "420",
         "75003.0",
         "Paris 3e Arrondissement",
         "22.61",
         "21.0",
         "1.0",
         "2.359899",
         "48.863217"
        ],
        [
         "12",
         "2020-01-09",
         "741500.0",
         "131.0",
         "RUE SAINT DENIS",
         "8525",
         "75001.0",
         "Paris 1er Arrondissement",
         "61.41",
         "61.0",
         "2.0",
         "2.349513",
         "48.863367"
        ],
        [
         "13",
         "2020-01-07",
         "7000.0",
         "6.0",
         "RUE DES HAUDRIETTES",
         "4483",
         "75003.0",
         "Paris 3e Arrondissement",
         null,
         "41.0",
         "1.0",
         "2.357892",
         "48.86205"
        ],
        [
         "14",
         "2020-01-13",
         "340000.0",
         "97.0",
         "RUE BEAUBOURG",
         "759",
         "75003.0",
         "Paris 3e Arrondissement",
         null,
         "30.0",
         "1.0",
         "2.355089",
         "48.864571"
        ],
        [
         "17",
         "2020-01-15",
         "779637.0",
         "27.0",
         "RUE DU GENERAL FOY",
         "4041",
         "75008.0",
         "Paris 8e Arrondissement",
         "64.52",
         "65.0",
         "2.0",
         "2.31699",
         "48.879011"
        ],
        [
         "19",
         "2020-01-09",
         "829300.0",
         "266.0",
         "RUE DU FAUBOURG SAINT HONORE",
         "3518",
         "75008.0",
         "Paris 8e Arrondissement",
         null,
         "75.0",
         "3.0",
         "2.299505",
         "48.877705"
        ],
        [
         "20",
         "2020-01-10",
         "1300000.0",
         "8.0",
         "RUE DE VIENNE",
         "9785",
         "75008.0",
         "Paris 8e Arrondissement",
         null,
         "163.0",
         "6.0",
         "2.321694",
         "48.876632"
        ],
        [
         "21",
         "2020-01-16",
         "435000.0",
         "13.0",
         "BD DU TEMPLE",
         "9190",
         "75003.0",
         "Paris 3e Arrondissement",
         "55.69",
         "72.0",
         "2.0",
         "2.365697",
         "48.863902"
        ],
        [
         "22",
         "2020-01-14",
         "450000.0",
         "18.0",
         "RUE REAUMUR",
         "8073",
         "75003.0",
         "Paris 3e Arrondissement",
         null,
         "40.0",
         "2.0",
         "2.358805",
         "48.865153"
        ],
        [
         "23",
         "2020-01-06",
         "30000.0",
         "7.0",
         "RUE CHARLOT",
         "1880",
         "75003.0",
         "Paris 3e Arrondissement",
         null,
         "20.0",
         "1.0",
         "2.360101",
         "48.861319"
        ],
        [
         "24",
         "2020-01-08",
         "648600.0",
         "3.0",
         "RUE DU PERCHE",
         "7248",
         "75003.0",
         "Paris 3e Arrondissement",
         "43.71",
         "40.0",
         "1.0",
         "2.36155",
         "48.860561"
        ],
        [
         "25",
         "2020-01-08",
         "4800.0",
         "39.0",
         "RUE NOTRE DAME DE NAZARETH",
         "6834",
         "75003.0",
         "Paris 3e Arrondissement",
         null,
         "39.0",
         "2.0",
         "2.357807",
         "48.867386"
        ],
        [
         "26",
         "2020-01-06",
         "106574.1",
         "67.0",
         "RUE DE BRETAGNE",
         "1275",
         "75003.0",
         "Paris 3e Arrondissement",
         "26.43",
         "11.0",
         "1.0",
         "2.359834",
         "48.864253"
        ],
        [
         "49",
         "2020-01-06",
         "544000.0",
         "35.0",
         "RUE COQUILLIERE",
         "2318",
         "75001.0",
         "Paris 1er Arrondissement",
         null,
         "52.0",
         "2.0",
         "2.341036",
         "48.864313"
        ],
        [
         "50",
         "2020-01-09",
         "1925700.0",
         "19.0",
         "RUE DE SAINTONGE",
         "8716",
         "75003.0",
         "Paris 3e Arrondissement",
         null,
         "120.0",
         "4.0",
         "2.362408",
         "48.861881"
        ],
        [
         "51",
         "2020-01-08",
         "490000.0",
         "117.0",
         "RUE SAINT HONORE",
         "8635",
         "75001.0",
         "Paris 1er Arrondissement",
         null,
         "42.0",
         "2.0",
         "2.341817",
         "48.861395"
        ],
        [
         "52",
         "2020-01-10",
         "505000.0",
         "62.0",
         "RUE DE L ARBRE SEC",
         "407",
         "75001.0",
         "Paris 1er Arrondissement",
         "41.19",
         "40.0",
         "1.0",
         "2.342711",
         "48.861214"
        ],
        [
         "54",
         "2020-01-10",
         "30000.0",
         "40.0",
         "RUE DE LIEGE",
         "5665",
         "75008.0",
         "Paris 8e Arrondissement",
         "4.3",
         "6.0",
         "1.0",
         "2.324251",
         "48.87945"
        ],
        [
         "58",
         "2020-01-17",
         "1125000.0",
         "70.0",
         "RUE DE ROME",
         "8339",
         "75008.0",
         "Paris 8e Arrondissement",
         "83.05",
         "85.0",
         "5.0",
         "2.321628",
         "48.880605"
        ],
        [
         "59",
         "2020-01-16",
         "380000.0",
         "24.0",
         "RUE DE POITOU",
         "7572",
         "75003.0",
         "Paris 3e Arrondissement",
         null,
         "6.0",
         "1.0",
         "2.362896",
         "48.861768"
        ],
        [
         "60",
         "2020-01-16",
         "380000.0",
         "24.0",
         "RUE DE POITOU",
         "7572",
         "75003.0",
         "Paris 3e Arrondissement",
         null,
         "21.0",
         "2.0",
         "2.362896",
         "48.861768"
        ],
        [
         "62",
         "2020-01-10",
         "2800000.0",
         "8.0",
         "AV MONTAIGNE",
         "6450",
         "75008.0",
         "Paris 8e Arrondissement",
         "108.45",
         "103.0",
         "2.0",
         "2.304497",
         "48.865627"
        ],
        [
         "64",
         "2020-01-10",
         "2800000.0",
         "8.0",
         "AV MONTAIGNE",
         "6450",
         "75008.0",
         "Paris 8e Arrondissement",
         "98.53",
         "12.0",
         "1.0",
         "2.304497",
         "48.865627"
        ],
        [
         "66",
         "2020-01-06",
         "368000.0",
         "7.0",
         "RUE NOTRE DAME DE NAZARETH",
         "6834",
         "75003.0",
         "Paris 3e Arrondissement",
         "27.37",
         "26.0",
         "2.0",
         "2.360903",
         "48.866846"
        ],
        [
         "67",
         "2020-01-10",
         "1530000.0",
         "81.0",
         "RUE D AMSTERDAM",
         "300",
         "75008.0",
         "Paris 8e Arrondissement",
         "171.58",
         "173.0",
         "6.0",
         "2.326524",
         "48.881951"
        ],
        [
         "69",
         "2020-01-10",
         "449100.0",
         "206.0",
         "RUE DE RIVOLI",
         "8249",
         "75001.0",
         "Paris 1er Arrondissement",
         null,
         "33.0",
         "2.0",
         "2.330586",
         "48.864542"
        ],
        [
         "72",
         "2020-01-15",
         "445000.0",
         "45.0",
         "RUE DE SAINTONGE",
         "8716",
         "75003.0",
         "Paris 3e Arrondissement",
         "25.9",
         "24.0",
         "2.0",
         "2.363715",
         "48.863144"
        ],
        [
         "73",
         "2020-01-22",
         "245000.0",
         "7.0",
         "RUE FROISSART",
         "3875",
         "75003.0",
         "Paris 3e Arrondissement",
         null,
         "18.0",
         "1.0",
         "2.365965",
         "48.861336"
        ],
        [
         "74",
         "2020-01-10",
         "686000.0",
         "76.0",
         "AV DES CHAMPS ELYSEES",
         "1733",
         "75008.0",
         "Paris 8e Arrondissement",
         "57.93",
         "35.0",
         "1.0",
         "2.304678",
         "48.871669"
        ],
        [
         "75",
         "2020-01-10",
         "686000.0",
         "76.0",
         "AV DES CHAMPS ELYSEES",
         "1733",
         "75008.0",
         "Paris 8e Arrondissement",
         null,
         "23.0",
         "1.0",
         "2.304678",
         "48.871669"
        ],
        [
         "76",
         "2020-01-21",
         "407000.0",
         "5.0",
         "AV BEAUCOUR",
         "763",
         "75008.0",
         "Paris 8e Arrondissement",
         null,
         "32.0",
         "1.0",
         "2.301966",
         "48.877134"
        ],
        [
         "77",
         "2020-01-22",
         "387000.0",
         "18.0",
         "RUE AU MAIRE",
         "5927",
         "75003.0",
         "Paris 3e Arrondissement",
         null,
         "33.0",
         "2.0",
         "2.356334",
         "48.864762"
        ],
        [
         "79",
         "2020-01-06",
         "105000.0",
         "41.0",
         "RUE BEAUBOURG",
         "759",
         "75003.0",
         "Paris 3e Arrondissement",
         null,
         "9.0",
         "1.0",
         "2.353726",
         "48.862341"
        ],
        [
         "80",
         "2020-01-15",
         "490000.0",
         "15.0",
         "RUE DE LA GRANDE TRUANDERIE",
         "4278",
         "75001.0",
         "Paris 1er Arrondissement",
         null,
         "41.0",
         "2.0",
         "2.348873",
         "48.862639"
        ],
        [
         "81",
         "2020-01-10",
         "1535000.0",
         "11.0",
         "RUE DU COLISEE",
         "2185",
         "75008.0",
         "Paris 8e Arrondissement",
         null,
         "110.0",
         "5.0",
         "2.307727",
         "48.870862"
        ],
        [
         "82",
         "2020-01-22",
         "108400.0",
         "149.0",
         "RUE DU TEMPLE",
         "9191",
         "75003.0",
         "Paris 3e Arrondissement",
         "7.65",
         "13.0",
         "1.0",
         "2.358696",
         "48.864041"
        ],
        [
         "83",
         "2020-01-02",
         "1900000.0",
         "11.0",
         "RUE ARSENE HOUSSAYE",
         "473",
         "75008.0",
         "Paris 8e Arrondissement",
         null,
         "210.0",
         "7.0",
         "2.299088",
         "48.874682"
        ],
        [
         "84",
         "2020-01-23",
         "338000.0",
         "47.0",
         "RUE NOTRE DAME DE NAZARETH",
         "6834",
         "75003.0",
         "Paris 3e Arrondissement",
         null,
         "24.0",
         "1.0",
         "2.357042",
         "48.867472"
        ],
        [
         "85",
         "2020-01-17",
         "70000.0",
         "178.0",
         "RUE DU TEMPLE",
         "9191",
         "75003.0",
         "Paris 3e Arrondissement",
         "11.8",
         "10.0",
         "1.0",
         "2.362849",
         "48.866648"
        ],
        [
         "86",
         "2020-01-08",
         "338000.0",
         "152.0",
         "BD HAUSSMANN",
         "4485",
         "75008.0",
         "Paris 8e Arrondissement",
         null,
         "32.0",
         "1.0",
         "2.311643",
         "48.87549"
        ],
        [
         "87",
         "2020-01-08",
         "1.0",
         "66.0",
         "RUE DE TURENNE",
         "9506",
         "75003.0",
         "Paris 3e Arrondissement",
         null,
         "12.0",
         "1.0",
         "2.36527",
         "48.859587"
        ]
       ],
       "shape": {
        "columns": 12,
        "rows": 178640
       }
      },
      "text/html": [
       "<div>\n",
       "<style scoped>\n",
       "    .dataframe tbody tr th:only-of-type {\n",
       "        vertical-align: middle;\n",
       "    }\n",
       "\n",
       "    .dataframe tbody tr th {\n",
       "        vertical-align: top;\n",
       "    }\n",
       "\n",
       "    .dataframe thead th {\n",
       "        text-align: right;\n",
       "    }\n",
       "</style>\n",
       "<table border=\"1\" class=\"dataframe\">\n",
       "  <thead>\n",
       "    <tr style=\"text-align: right;\">\n",
       "      <th></th>\n",
       "      <th>date_mutation</th>\n",
       "      <th>valeur_fonciere</th>\n",
       "      <th>adresse_numero</th>\n",
       "      <th>adresse_nom_voie</th>\n",
       "      <th>adresse_code_voie</th>\n",
       "      <th>code_postal</th>\n",
       "      <th>nom_commune</th>\n",
       "      <th>lot1_surface_carrez</th>\n",
       "      <th>surface_reelle_bati</th>\n",
       "      <th>nombre_pieces_principales</th>\n",
       "      <th>longitude</th>\n",
       "      <th>latitude</th>\n",
       "    </tr>\n",
       "  </thead>\n",
       "  <tbody>\n",
       "    <tr>\n",
       "      <th>0</th>\n",
       "      <td>2020-01-02</td>\n",
       "      <td>268800.0</td>\n",
       "      <td>14.0</td>\n",
       "      <td>RUE DE L ARCADE</td>\n",
       "      <td>411</td>\n",
       "      <td>75008.0</td>\n",
       "      <td>Paris 8e Arrondissement</td>\n",
       "      <td>NaN</td>\n",
       "      <td>24.0</td>\n",
       "      <td>1.0</td>\n",
       "      <td>2.323937</td>\n",
       "      <td>48.871607</td>\n",
       "    </tr>\n",
       "    <tr>\n",
       "      <th>2</th>\n",
       "      <td>2020-01-06</td>\n",
       "      <td>878378.0</td>\n",
       "      <td>9.0</td>\n",
       "      <td>BD DE LA MADELEINE</td>\n",
       "      <td>5888</td>\n",
       "      <td>75001.0</td>\n",
       "      <td>Paris 1er Arrondissement</td>\n",
       "      <td>66.64</td>\n",
       "      <td>66.0</td>\n",
       "      <td>2.0</td>\n",
       "      <td>2.326882</td>\n",
       "      <td>48.869331</td>\n",
       "    </tr>\n",
       "    <tr>\n",
       "      <th>3</th>\n",
       "      <td>2020-01-10</td>\n",
       "      <td>680000.0</td>\n",
       "      <td>10.0</td>\n",
       "      <td>RUE DU BOURG L ABBE</td>\n",
       "      <td>1200</td>\n",
       "      <td>75003.0</td>\n",
       "      <td>Paris 3e Arrondissement</td>\n",
       "      <td>50.74</td>\n",
       "      <td>51.0</td>\n",
       "      <td>2.0</td>\n",
       "      <td>2.351965</td>\n",
       "      <td>48.864157</td>\n",
       "    </tr>\n",
       "    <tr>\n",
       "      <th>4</th>\n",
       "      <td>2020-01-03</td>\n",
       "      <td>852000.0</td>\n",
       "      <td>24.0</td>\n",
       "      <td>RUE DE SAINTONGE</td>\n",
       "      <td>8716</td>\n",
       "      <td>75003.0</td>\n",
       "      <td>Paris 3e Arrondissement</td>\n",
       "      <td>66.00</td>\n",
       "      <td>12.0</td>\n",
       "      <td>1.0</td>\n",
       "      <td>2.363196</td>\n",
       "      <td>48.862017</td>\n",
       "    </tr>\n",
       "    <tr>\n",
       "      <th>5</th>\n",
       "      <td>2020-01-03</td>\n",
       "      <td>852000.0</td>\n",
       "      <td>24.0</td>\n",
       "      <td>RUE DE SAINTONGE</td>\n",
       "      <td>8716</td>\n",
       "      <td>75003.0</td>\n",
       "      <td>Paris 3e Arrondissement</td>\n",
       "      <td>66.00</td>\n",
       "      <td>19.0</td>\n",
       "      <td>1.0</td>\n",
       "      <td>2.363196</td>\n",
       "      <td>48.862017</td>\n",
       "    </tr>\n",
       "    <tr>\n",
       "      <th>...</th>\n",
       "      <td>...</td>\n",
       "      <td>...</td>\n",
       "      <td>...</td>\n",
       "      <td>...</td>\n",
       "      <td>...</td>\n",
       "      <td>...</td>\n",
       "      <td>...</td>\n",
       "      <td>...</td>\n",
       "      <td>...</td>\n",
       "      <td>...</td>\n",
       "      <td>...</td>\n",
       "      <td>...</td>\n",
       "    </tr>\n",
       "    <tr>\n",
       "      <th>389583</th>\n",
       "      <td>2022-05-23</td>\n",
       "      <td>577000.0</td>\n",
       "      <td>16.0</td>\n",
       "      <td>RUE DE LA GLACIERE</td>\n",
       "      <td>4201</td>\n",
       "      <td>75013.0</td>\n",
       "      <td>Paris 13e Arrondissement</td>\n",
       "      <td>NaN</td>\n",
       "      <td>53.0</td>\n",
       "      <td>2.0</td>\n",
       "      <td>2.344394</td>\n",
       "      <td>48.836582</td>\n",
       "    </tr>\n",
       "    <tr>\n",
       "      <th>389586</th>\n",
       "      <td>2022-05-17</td>\n",
       "      <td>485000.0</td>\n",
       "      <td>4.0</td>\n",
       "      <td>PAS MONTGALLET</td>\n",
       "      <td>6494</td>\n",
       "      <td>75012.0</td>\n",
       "      <td>Paris 12e Arrondissement</td>\n",
       "      <td>NaN</td>\n",
       "      <td>43.0</td>\n",
       "      <td>3.0</td>\n",
       "      <td>2.388119</td>\n",
       "      <td>48.843940</td>\n",
       "    </tr>\n",
       "    <tr>\n",
       "      <th>389587</th>\n",
       "      <td>2022-05-25</td>\n",
       "      <td>1170000.0</td>\n",
       "      <td>12.0</td>\n",
       "      <td>RUE DE NICE</td>\n",
       "      <td>6747</td>\n",
       "      <td>75011.0</td>\n",
       "      <td>Paris 11e Arrondissement</td>\n",
       "      <td>NaN</td>\n",
       "      <td>125.0</td>\n",
       "      <td>4.0</td>\n",
       "      <td>2.390734</td>\n",
       "      <td>48.855257</td>\n",
       "    </tr>\n",
       "    <tr>\n",
       "      <th>389590</th>\n",
       "      <td>2022-05-11</td>\n",
       "      <td>2306600.0</td>\n",
       "      <td>113.0</td>\n",
       "      <td>BD SAINT MICHEL</td>\n",
       "      <td>8705</td>\n",
       "      <td>75005.0</td>\n",
       "      <td>Paris 5e Arrondissement</td>\n",
       "      <td>157.37</td>\n",
       "      <td>180.0</td>\n",
       "      <td>5.0</td>\n",
       "      <td>2.339024</td>\n",
       "      <td>48.843287</td>\n",
       "    </tr>\n",
       "    <tr>\n",
       "      <th>389591</th>\n",
       "      <td>2022-05-23</td>\n",
       "      <td>1111900.0</td>\n",
       "      <td>116.0</td>\n",
       "      <td>QUAI LOUIS BLERIOT</td>\n",
       "      <td>5766</td>\n",
       "      <td>75016.0</td>\n",
       "      <td>Paris 16e Arrondissement</td>\n",
       "      <td>96.18</td>\n",
       "      <td>96.0</td>\n",
       "      <td>3.0</td>\n",
       "      <td>2.270776</td>\n",
       "      <td>48.844019</td>\n",
       "    </tr>\n",
       "  </tbody>\n",
       "</table>\n",
       "<p>178640 rows × 12 columns</p>\n",
       "</div>"
      ],
      "text/plain": [
       "       date_mutation  valeur_fonciere  adresse_numero     adresse_nom_voie  \\\n",
       "0         2020-01-02         268800.0            14.0      RUE DE L ARCADE   \n",
       "2         2020-01-06         878378.0             9.0   BD DE LA MADELEINE   \n",
       "3         2020-01-10         680000.0            10.0  RUE DU BOURG L ABBE   \n",
       "4         2020-01-03         852000.0            24.0     RUE DE SAINTONGE   \n",
       "5         2020-01-03         852000.0            24.0     RUE DE SAINTONGE   \n",
       "...              ...              ...             ...                  ...   \n",
       "389583    2022-05-23         577000.0            16.0   RUE DE LA GLACIERE   \n",
       "389586    2022-05-17         485000.0             4.0       PAS MONTGALLET   \n",
       "389587    2022-05-25        1170000.0            12.0          RUE DE NICE   \n",
       "389590    2022-05-11        2306600.0           113.0      BD SAINT MICHEL   \n",
       "389591    2022-05-23        1111900.0           116.0   QUAI LOUIS BLERIOT   \n",
       "\n",
       "        adresse_code_voie  code_postal               nom_commune  \\\n",
       "0                     411      75008.0   Paris 8e Arrondissement   \n",
       "2                    5888      75001.0  Paris 1er Arrondissement   \n",
       "3                    1200      75003.0   Paris 3e Arrondissement   \n",
       "4                    8716      75003.0   Paris 3e Arrondissement   \n",
       "5                    8716      75003.0   Paris 3e Arrondissement   \n",
       "...                   ...          ...                       ...   \n",
       "389583               4201      75013.0  Paris 13e Arrondissement   \n",
       "389586               6494      75012.0  Paris 12e Arrondissement   \n",
       "389587               6747      75011.0  Paris 11e Arrondissement   \n",
       "389590               8705      75005.0   Paris 5e Arrondissement   \n",
       "389591               5766      75016.0  Paris 16e Arrondissement   \n",
       "\n",
       "        lot1_surface_carrez  surface_reelle_bati  nombre_pieces_principales  \\\n",
       "0                       NaN                 24.0                        1.0   \n",
       "2                     66.64                 66.0                        2.0   \n",
       "3                     50.74                 51.0                        2.0   \n",
       "4                     66.00                 12.0                        1.0   \n",
       "5                     66.00                 19.0                        1.0   \n",
       "...                     ...                  ...                        ...   \n",
       "389583                  NaN                 53.0                        2.0   \n",
       "389586                  NaN                 43.0                        3.0   \n",
       "389587                  NaN                125.0                        4.0   \n",
       "389590               157.37                180.0                        5.0   \n",
       "389591                96.18                 96.0                        3.0   \n",
       "\n",
       "        longitude   latitude  \n",
       "0        2.323937  48.871607  \n",
       "2        2.326882  48.869331  \n",
       "3        2.351965  48.864157  \n",
       "4        2.363196  48.862017  \n",
       "5        2.363196  48.862017  \n",
       "...           ...        ...  \n",
       "389583   2.344394  48.836582  \n",
       "389586   2.388119  48.843940  \n",
       "389587   2.390734  48.855257  \n",
       "389590   2.339024  48.843287  \n",
       "389591   2.270776  48.844019  \n",
       "\n",
       "[178640 rows x 12 columns]"
      ]
     },
     "execution_count": 17,
     "metadata": {},
     "output_type": "execute_result"
    }
   ],
   "source": [
    "df"
   ]
  },
  {
   "cell_type": "markdown",
   "id": "ab439f46",
   "metadata": {},
   "source": [
    "## Partie 2 : Tri horizontal du dataset\n",
    "\n",
    "#### On supprime tout les doublons pour éviter de fausser nos métriques"
   ]
  },
  {
   "cell_type": "code",
   "execution_count": 18,
   "id": "8c37de8f",
   "metadata": {},
   "outputs": [
    {
     "data": {
      "text/plain": [
       "(113482, 12)"
      ]
     },
     "execution_count": 18,
     "metadata": {},
     "output_type": "execute_result"
    }
   ],
   "source": [
    "# On supprime les doublons\n",
    "df.drop_duplicates(inplace=True)\n",
    "\n",
    "# On voit combien de doublons sont supprimés \n",
    "df.shape"
   ]
  },
  {
   "cell_type": "markdown",
   "id": "626f6b30",
   "metadata": {},
   "source": [
    "#### On va maintenant s'interresser au numéros de rue pour voir si il n'y a pas de valeures aberrantes"
   ]
  },
  {
   "cell_type": "code",
   "execution_count": 19,
   "id": "838fcf26",
   "metadata": {},
   "outputs": [
    {
     "data": {
      "image/png": "[encoded data removed]",
      "text/plain": [
       "<Figure size 1400x600 with 1 Axes>"
      ]
     },
     "metadata": {},
     "output_type": "display_data"
    },
    {
     "data": {
      "text/plain": [
       "np.float64(9001.0)"
      ]
     },
     "execution_count": 19,
     "metadata": {},
     "output_type": "execute_result"
    }
   ],
   "source": [
    "# Comptage des occurrences\n",
    "valeurs = df['adresse_numero'].value_counts().sort_index()\n",
    "\n",
    "# Affichage\n",
    "plt.figure(figsize=(14, 6))\n",
    "plt.bar(valeurs.index, valeurs.values)\n",
    "plt.xlabel(\"Numéro de rue (0–1000)\")\n",
    "plt.ylabel(\"Nombre d'occurrences\")\n",
    "plt.title(\"Distribution des numéros de rue (0 à 1000)\")\n",
    "plt.tight_layout()\n",
    "plt.show()\n",
    "\n",
    "# Valeur max\n",
    "df['adresse_numero'].max()"
   ]
  },
  {
   "cell_type": "markdown",
   "id": "4fdbcdef",
   "metadata": {},
   "source": [
    "#### On a une valeur max à 9000 qui est evidement faussée. On lit sur intnet qu'à Paris les numéros vont de 1 à 407 (rue de Vaugirard), toutes données supérieures sera donc considérée comme aberrante et supprimée."
   ]
  },
  {
   "cell_type": "code",
   "execution_count": 20,
   "id": "2382e967",
   "metadata": {},
   "outputs": [
    {
     "data": {
      "image/png": "[encoded data removed]",
      "text/plain": [
       "<Figure size 1400x600 with 1 Axes>"
      ]
     },
     "metadata": {},
     "output_type": "display_data"
    }
   ],
   "source": [
    "# filtrage des numéros\n",
    "df = df[df['adresse_numero'] <= 407]\n",
    "\n",
    "# Comptage des occurrences\n",
    "valeurs = df['adresse_numero'].value_counts().sort_index()\n",
    "\n",
    "# Affichage\n",
    "plt.figure(figsize=(14, 6))\n",
    "plt.bar(valeurs.index, valeurs.values)\n",
    "plt.xlabel(\"Numéro de rue (0–1000)\")\n",
    "plt.ylabel(\"Nombre d'occurrences\")\n",
    "plt.title(\"Distribution des numéros de rue (0 à 1000)\")\n",
    "plt.tight_layout()\n",
    "plt.show()\n",
    "\n"
   ]
  },
  {
   "cell_type": "markdown",
   "id": "9aed1143",
   "metadata": {},
   "source": [
    "#### On s'intéresse maintenant à la surface des appartements attribut (lot1_surface_carrez)"
   ]
  },
  {
   "cell_type": "code",
   "execution_count": 21,
   "id": "86edd100",
   "metadata": {},
   "outputs": [
    {
     "name": "stdout",
     "output_type": "stream",
     "text": [
      "53648\n"
     ]
    }
   ],
   "source": [
    "print(df[\"lot1_surface_carrez\"].isnull().sum())"
   ]
  },
  {
   "cell_type": "markdown",
   "id": "952c54b7",
   "metadata": {},
   "source": [
    "#### On a environ 70 000 lignes ou la surface n'est pas indiquée, on les supprimes car essayer de les compléter par diverses techniques fausserait trop les prédictions étant donné que la moitié des données ne seraient pas réélles"
   ]
  },
  {
   "cell_type": "code",
   "execution_count": 22,
   "id": "f6d035d4",
   "metadata": {},
   "outputs": [
    {
     "data": {
      "text/plain": [
       "(59820, 12)"
      ]
     },
     "execution_count": 22,
     "metadata": {},
     "output_type": "execute_result"
    }
   ],
   "source": [
    "# suppresion des données de surface manquantes\n",
    "df = df.dropna(subset=['lot1_surface_carrez'])\n",
    "\n",
    "df.shape"
   ]
  },
  {
   "cell_type": "markdown",
   "id": "c45ff332",
   "metadata": {},
   "source": [
    "#### Interressons nous maintenant aux données extrêmes de surfaces"
   ]
  },
  {
   "cell_type": "code",
   "execution_count": 23,
   "id": "6e44625a",
   "metadata": {},
   "outputs": [
    {
     "data": {
      "image/png": "[encoded data removed]",
      "text/plain": [
       "<Figure size 1200x600 with 1 Axes>"
      ]
     },
     "metadata": {},
     "output_type": "display_data"
    }
   ],
   "source": [
    "# Histogramme complet avec valeurs extrêmes\n",
    "plt.figure(figsize=(12, 6))\n",
    "plt.hist(df['lot1_surface_carrez'], bins=100, edgecolor='black')\n",
    "\n",
    "# Échelle logarithmique pour bien voir les valeurs extrêmes\n",
    "plt.yscale('log')\n",
    "\n",
    "# Titres et axes\n",
    "plt.xlabel(\"Surface Carrez du lot 1 (en m²)\")\n",
    "plt.ylabel(\"Nombre de biens (échelle log)\")\n",
    "plt.title(\"Distribution des surfaces (lot1_surface_carrez) avec valeurs extrêmes\")\n",
    "plt.grid(True)\n",
    "plt.tight_layout()\n",
    "plt.show()"
   ]
  },
  {
   "cell_type": "code",
   "execution_count": 24,
   "id": "713b67f4",
   "metadata": {},
   "outputs": [
    {
     "data": {
      "image/png": "[encoded data removed]",
      "text/plain": [
       "<Figure size 1000x600 with 1 Axes>"
      ]
     },
     "metadata": {},
     "output_type": "display_data"
    }
   ],
   "source": [
    "# Filtrage optionnel (pour éviter les valeurs aberrantes > 5000 m² par exemple)\n",
    "df_filtered = df[df['lot1_surface_carrez'] <= 500]\n",
    "\n",
    "# Affichage de l'histogramme\n",
    "plt.figure(figsize=(10, 6))\n",
    "plt.hist(df_filtered['lot1_surface_carrez'], bins=50, edgecolor='black')\n",
    "plt.xlabel(\"Surface Carrez du lot 1 (en m²)\")\n",
    "plt.ylabel(\"Nombre de biens\")\n",
    "plt.title(\"Distribution des surfaces (lot1_surface_carrez)\")\n",
    "plt.grid(True)\n",
    "plt.tight_layout()\n",
    "plt.show()"
   ]
  },
  {
   "cell_type": "markdown",
   "id": "9f1aa7a8",
   "metadata": {},
   "source": [
    "#### On va donc garder les biens entre 9 et 300 m2, les autres étant soit des valeures abberantes, soit ininterressantes. On pourrait aussi garder les 98% des données du centres ou un autre pourcentage."
   ]
  },
  {
   "cell_type": "code",
   "execution_count": 25,
   "id": "5d89a904",
   "metadata": {},
   "outputs": [
    {
     "data": {
      "text/plain": [
       "(58950, 12)"
      ]
     },
     "execution_count": 25,
     "metadata": {},
     "output_type": "execute_result"
    }
   ],
   "source": [
    "#filtrage des données de surface entre 9 et 300 m2\n",
    "df = df[(df['lot1_surface_carrez'] >= 9) & (df['lot1_surface_carrez'] <= 300)]\n",
    "\n",
    "df.shape"
   ]
  },
  {
   "cell_type": "code",
   "execution_count": 26,
   "id": "ed5ad680",
   "metadata": {},
   "outputs": [
    {
     "data": {
      "application/vnd.microsoft.datawrangler.viewer.v0+json": {
       "columns": [
        {
         "name": "index",
         "rawType": "object",
         "type": "string"
        },
        {
         "name": "lot1_surface_carrez",
         "rawType": "float64",
         "type": "float"
        }
       ],
       "ref": "6a6f7ad7-41b4-4949-a8e6-72b50084ad59",
       "rows": [
        [
         "count",
         "58950.0"
        ],
        [
         "mean",
         "51.4754096692112"
        ],
        [
         "std",
         "37.438917692896965"
        ],
        [
         "min",
         "9.0"
        ],
        [
         "25%",
         "26.29"
        ],
        [
         "50%",
         "40.77"
        ],
        [
         "75%",
         "65.55"
        ],
        [
         "max",
         "299.77"
        ]
       ],
       "shape": {
        "columns": 1,
        "rows": 8
       }
      },
      "text/plain": [
       "count    58950.000000\n",
       "mean        51.475410\n",
       "std         37.438918\n",
       "min          9.000000\n",
       "25%         26.290000\n",
       "50%         40.770000\n",
       "75%         65.550000\n",
       "max        299.770000\n",
       "Name: lot1_surface_carrez, dtype: float64"
      ]
     },
     "execution_count": 26,
     "metadata": {},
     "output_type": "execute_result"
    }
   ],
   "source": [
    "df[\"lot1_surface_carrez\"].describe()"
   ]
  },
  {
   "cell_type": "markdown",
   "id": "957fccd5",
   "metadata": {},
   "source": [
    "#### Appliquons le même tri pour les valeures de prix"
   ]
  },
  {
   "cell_type": "code",
   "execution_count": 27,
   "id": "ec5fb85f",
   "metadata": {},
   "outputs": [
    {
     "data": {
      "image/png": "[encoded data removed]",
      "text/plain": [
       "<Figure size 1200x600 with 1 Axes>"
      ]
     },
     "metadata": {},
     "output_type": "display_data"
    }
   ],
   "source": [
    "# Histogramme\n",
    "plt.figure(figsize=(12, 6))\n",
    "plt.hist(df['valeur_fonciere'], bins=100, edgecolor='black')\n",
    "\n",
    "# Échelle log pour détecter les extrêmes tout en gardant les tendances visibles\n",
    "plt.yscale('log')\n",
    "\n",
    "plt.xlabel(\"Valeur foncière (€)\")\n",
    "plt.ylabel(\"Nombre de transactions (échelle log)\")\n",
    "plt.title(\"Distribution des prix fonciers (valeur_fonciere) entre 1k€ et 10M€\")\n",
    "plt.grid(True)\n",
    "plt.tight_layout()\n",
    "plt.show()"
   ]
  },
  {
   "cell_type": "markdown",
   "id": "3334e69e",
   "metadata": {},
   "source": [
    "#### On vois qu'il y a des données dont le prix excède 200 millions d'euros ce qui ne nous intéresse pas, concentrons nous donc sur les données en dessous de 30 millions qui semblent plus réalistes"
   ]
  },
  {
   "cell_type": "code",
   "execution_count": 28,
   "id": "2c3e374f",
   "metadata": {},
   "outputs": [
    {
     "data": {
      "image/png": "[encoded data removed]",
      "text/plain": [
       "<Figure size 1200x600 with 1 Axes>"
      ]
     },
     "metadata": {},
     "output_type": "display_data"
    }
   ],
   "source": [
    "# Filtrage : garder les transactions avec un prix plus realiste\n",
    "df_filtered = df[\n",
    "    (df['valeur_fonciere'] >= 50000) & \n",
    "    (df['valeur_fonciere'] <= 30_000_000)\n",
    "]\n",
    "\n",
    "# Histogramme\n",
    "plt.figure(figsize=(12, 6))\n",
    "plt.hist(df_filtered['valeur_fonciere'], bins=100, edgecolor='black')\n",
    "\n",
    "# Échelle log pour détecter les extrêmes tout en gardant les tendances visibles\n",
    "plt.yscale('log')\n",
    "\n",
    "plt.xlabel(\"Valeur foncière (€)\")\n",
    "plt.ylabel(\"Nombre de transactions (échelle log)\")\n",
    "plt.title(\"Distribution des prix fonciers (valeur_fonciere) entre 1k€ et 10M€\")\n",
    "plt.grid(True)\n",
    "plt.tight_layout()\n",
    "plt.show()"
   ]
  },
  {
   "cell_type": "markdown",
   "id": "df318cd2",
   "metadata": {},
   "source": [
    "#### Les données semblent réparties entre 50k euros et 20 millions, supprimons celles qui ne sont pas dans cette plage"
   ]
  },
  {
   "cell_type": "code",
   "execution_count": 29,
   "id": "c2cb68bc",
   "metadata": {},
   "outputs": [
    {
     "data": {
      "text/plain": [
       "(58813, 12)"
      ]
     },
     "execution_count": 29,
     "metadata": {},
     "output_type": "execute_result"
    }
   ],
   "source": [
    "# filtrage des données \n",
    "df = df[(df['valeur_fonciere'] >= 50_000) & (df['valeur_fonciere'] <= 20_000_000)]\n",
    "\n",
    "df.shape"
   ]
  },
  {
   "cell_type": "code",
   "execution_count": 30,
   "id": "6943e724",
   "metadata": {},
   "outputs": [
    {
     "data": {
      "application/vnd.microsoft.datawrangler.viewer.v0+json": {
       "columns": [
        {
         "name": "index",
         "rawType": "object",
         "type": "string"
        },
        {
         "name": "prix_au_m2",
         "rawType": "float64",
         "type": "float"
        }
       ],
       "ref": "cfceea60-e46f-423b-9da1-65c845271b75",
       "rows": [
        [
         "count",
         "58813.0"
        ],
        [
         "mean",
         "12601.56592310879"
        ],
        [
         "std",
         "19436.353738631264"
        ],
        [
         "min",
         "537.3544171953414"
        ],
        [
         "25%",
         "9360.730593607306"
        ],
        [
         "50%",
         "10771.992818671453"
        ],
        [
         "75%",
         "12421.142369991476"
        ],
        [
         "max",
         "989010.9890109891"
        ]
       ],
       "shape": {
        "columns": 1,
        "rows": 8
       }
      },
      "text/plain": [
       "count     58813.000000\n",
       "mean      12601.565923\n",
       "std       19436.353739\n",
       "min         537.354417\n",
       "25%        9360.730594\n",
       "50%       10771.992819\n",
       "75%       12421.142370\n",
       "max      989010.989011\n",
       "Name: prix_au_m2, dtype: float64"
      ]
     },
     "execution_count": 30,
     "metadata": {},
     "output_type": "execute_result"
    }
   ],
   "source": [
    "df[\"prix_au_m2\"] = df[\"valeur_fonciere\"] / df[\"lot1_surface_carrez\"]\n",
    "\n",
    "df[\"prix_au_m2\"].describe()"
   ]
  },
  {
   "cell_type": "code",
   "execution_count": 31,
   "id": "16eb0da1",
   "metadata": {},
   "outputs": [
    {
     "data": {
      "text/plain": [
       "(58039, 13)"
      ]
     },
     "execution_count": 31,
     "metadata": {},
     "output_type": "execute_result"
    }
   ],
   "source": [
    "# filtrage des données \n",
    "df = df[(df['prix_au_m2'] >= 3_000) & (df['prix_au_m2'] <= 50_000)]\n",
    "\n",
    "df.shape"
   ]
  },
  {
   "cell_type": "markdown",
   "id": "bcc171a3",
   "metadata": {},
   "source": [
    "#### Regardons maintenant la donnée nombre de pièce"
   ]
  },
  {
   "cell_type": "code",
   "execution_count": 32,
   "id": "3adb5376",
   "metadata": {},
   "outputs": [
    {
     "data": {
      "image/png": "[encoded data removed]",
      "text/plain": [
       "<Figure size 1200x600 with 1 Axes>"
      ]
     },
     "metadata": {},
     "output_type": "display_data"
    }
   ],
   "source": [
    "# Histogramme\n",
    "plt.figure(figsize=(12, 6))\n",
    "plt.hist(df['nombre_pieces_principales'], bins=100, edgecolor='black')\n",
    "\n",
    "plt.grid(True)\n",
    "plt.tight_layout()\n",
    "plt.show()"
   ]
  },
  {
   "cell_type": "code",
   "execution_count": 33,
   "id": "87b68e25",
   "metadata": {},
   "outputs": [
    {
     "data": {
      "text/plain": [
       "array([ 2.,  1.,  8.,  5.,  6.,  3.,  4.,  7.,  0., 12., 10., 21.,  9.,\n",
       "       17.])"
      ]
     },
     "execution_count": 33,
     "metadata": {},
     "output_type": "execute_result"
    }
   ],
   "source": [
    "# regardons toutes les valeures différentes\n",
    "df['nombre_pieces_principales'].unique()"
   ]
  },
  {
   "cell_type": "code",
   "execution_count": 34,
   "id": "dfa9bd04",
   "metadata": {},
   "outputs": [
    {
     "data": {
      "application/vnd.microsoft.datawrangler.viewer.v0+json": {
       "columns": [
        {
         "name": "index",
         "rawType": "int64",
         "type": "integer"
        },
        {
         "name": "date_mutation",
         "rawType": "string",
         "type": "string"
        },
        {
         "name": "valeur_fonciere",
         "rawType": "float64",
         "type": "float"
        },
        {
         "name": "adresse_numero",
         "rawType": "float64",
         "type": "float"
        },
        {
         "name": "adresse_nom_voie",
         "rawType": "string",
         "type": "string"
        },
        {
         "name": "adresse_code_voie",
         "rawType": "Int64",
         "type": "integer"
        },
        {
         "name": "code_postal",
         "rawType": "float64",
         "type": "float"
        },
        {
         "name": "nom_commune",
         "rawType": "string",
         "type": "string"
        },
        {
         "name": "lot1_surface_carrez",
         "rawType": "float64",
         "type": "float"
        },
        {
         "name": "surface_reelle_bati",
         "rawType": "float64",
         "type": "float"
        },
        {
         "name": "nombre_pieces_principales",
         "rawType": "float64",
         "type": "float"
        },
        {
         "name": "longitude",
         "rawType": "float64",
         "type": "float"
        },
        {
         "name": "latitude",
         "rawType": "float64",
         "type": "float"
        },
        {
         "name": "prix_au_m2",
         "rawType": "float64",
         "type": "float"
        }
       ],
       "ref": "475c283b-9c0c-49b8-b212-83007cce5713",
       "rows": [
        [
         "9",
         "2020-01-03",
         "2350000.0",
         "83.0",
         "RUE DE MONCEAU",
         "6419",
         "75008.0",
         "Paris 8e Arrondissement",
         "204.32",
         "212.0",
         "8.0",
         "2.315064",
         "48.880175",
         "11501.566170712607"
        ],
        [
         "307",
         "2020-01-28",
         "2607500.0",
         "6.0",
         "RUE ST PHILIPPE DU ROULE",
         "8728",
         "75008.0",
         "Paris 8e Arrondissement",
         "201.48",
         "200.0",
         "7.0",
         "2.308209",
         "48.873089",
         "12941.731189199922"
        ],
        [
         "439",
         "2020-02-07",
         "4342410.0",
         "32.0",
         "AV PIERRE 1ER DE SERBIE",
         "7471",
         "75008.0",
         "Paris 8e Arrondissement",
         "268.87",
         "269.0",
         "8.0",
         "2.300059",
         "48.86755",
         "16150.593223490907"
        ],
        [
         "880",
         "2020-02-24",
         "2015350.0",
         "15.0",
         "AV DE MESSINE",
         "6296",
         "75008.0",
         "Paris 8e Arrondissement",
         "183.06",
         "173.0",
         "8.0",
         "2.312147",
         "48.876537",
         "11009.231945810117"
        ],
        [
         "1119",
         "2020-02-26",
         "1930000.0",
         "48.0",
         "RUE DE LA BIENFAISANCE",
         "960",
         "75008.0",
         "Paris 8e Arrondissement",
         "227.8",
         "215.0",
         "7.0",
         "2.314472",
         "48.876844",
         "8472.344161545214"
        ],
        [
         "1260",
         "2020-04-06",
         "273200.0",
         "226.0",
         "RUE SAINT MARTIN",
         "8694",
         "75003.0",
         "Paris 3e Arrondissement",
         "20.95",
         "23.0",
         "0.0",
         "2.353269",
         "48.864046",
         "13040.57279236277"
        ],
        [
         "1275",
         "2020-04-03",
         "2775000.0",
         "10.0",
         "AV DE L OPERA",
         "6904",
         "75001.0",
         "Paris 1er Arrondissement",
         "222.85",
         "236.0",
         "7.0",
         "2.335235",
         "48.864814",
         "12452.322189813776"
        ],
        [
         "1279",
         "2020-04-07",
         "2475000.0",
         "17.0",
         "RUE DU GENERAL FOY",
         "4041",
         "75008.0",
         "Paris 8e Arrondissement",
         "216.54",
         "240.0",
         "7.0",
         "2.317641",
         "48.878179",
         "11429.75893599335"
        ],
        [
         "1684",
         "2020-06-11",
         "2100000.0",
         "48.0",
         "RUE DE LA BIENFAISANCE",
         "960",
         "75008.0",
         "Paris 8e Arrondissement",
         "226.4",
         "205.0",
         "7.0",
         "2.314472",
         "48.876844",
         "9275.618374558304"
        ],
        [
         "1864",
         "2020-06-25",
         "1608000.0",
         "12.0",
         "RUE DE MOSCOU",
         "6573",
         "75008.0",
         "Paris 8e Arrondissement",
         "176.27",
         "165.0",
         "7.0",
         "2.32627",
         "48.880224",
         "9122.369092868894"
        ],
        [
         "2427",
         "2020-01-13",
         "705000.0",
         "4.0",
         "RUE FARADAY",
         "3506",
         "75017.0",
         "Paris 17e Arrondissement",
         "63.86",
         "63.0",
         "12.0",
         "2.292762",
         "48.881598",
         "11039.77450673348"
        ],
        [
         "2557",
         "2020-01-06",
         "1613000.0",
         "17.0",
         "RUE DE CHEROY",
         "1984",
         "75017.0",
         "Paris 17e Arrondissement",
         "131.25",
         "135.0",
         "7.0",
         "2.318268",
         "48.882477",
         "12289.52380952381"
        ],
        [
         "2672",
         "2020-01-23",
         "3210800.0",
         "138.0",
         "RUE DE COURCELLES",
         "2387",
         "75017.0",
         "Paris 17e Arrondissement",
         "205.08",
         "210.0",
         "7.0",
         "2.300645",
         "48.882002",
         "15656.32923737078"
        ],
        [
         "2768",
         "2020-01-13",
         "1600000.0",
         "108.0",
         "RUE CARDINET",
         "1550",
         "75017.0",
         "Paris 17e Arrondissement",
         "126.07",
         "164.0",
         "7.0",
         "2.311883",
         "48.885489",
         "12691.361941778378"
        ],
        [
         "2911",
         "2020-02-11",
         "150000.0",
         "26.0",
         "RUE DES APENNINS",
         "396",
         "75017.0",
         "Paris 17e Arrondissement",
         "16.38",
         "20.0",
         "0.0",
         "2.32241",
         "48.890825",
         "9157.509157509157"
        ],
        [
         "2963",
         "2020-02-10",
         "1140600.0",
         "65.0",
         "RUE DULONG",
         "2980",
         "75017.0",
         "Paris 17e Arrondissement",
         "94.85",
         "96.0",
         "7.0",
         "2.314969",
         "48.886016",
         "12025.30311017396"
        ],
        [
         "3000",
         "2020-01-30",
         "2150000.0",
         "138.0",
         "RUE DE COURCELLES",
         "2387",
         "75017.0",
         "Paris 17e Arrondissement",
         "211.38",
         "207.0",
         "7.0",
         "2.300645",
         "48.882002",
         "10171.255558709434"
        ],
        [
         "3184",
         "2020-03-06",
         "2439190.0",
         "83.0",
         "RUE PIERRE DEMOURS",
         "7426",
         "75017.0",
         "Paris 17e Arrondissement",
         "199.1",
         "222.0",
         "7.0",
         "2.299383",
         "48.883968",
         "12251.079859367153"
        ],
        [
         "3323",
         "2020-03-02",
         "1399000.0",
         "3.0",
         "RUE DE BIZERTE",
         "993",
         "75017.0",
         "Paris 17e Arrondissement",
         "176.61",
         "178.0",
         "7.0",
         "2.323414",
         "48.88493",
         "7921.408753751202"
        ],
        [
         "3430",
         "2020-02-26",
         "2750000.0",
         "131.0",
         "BD MALESHERBES",
         "5951",
         "75017.0",
         "Paris 17e Arrondissement",
         "216.01",
         "210.0",
         "7.0",
         "2.311303",
         "48.881463",
         "12730.892088329245"
        ],
        [
         "3525",
         "2020-03-24",
         "2920700.0",
         "42.0",
         "RUE CARDINET",
         "1550",
         "75017.0",
         "Paris 17e Arrondissement",
         "237.41",
         "250.0",
         "7.0",
         "2.305716",
         "48.882308",
         "12302.346152226108"
        ],
        [
         "3689",
         "2020-04-30",
         "4130000.0",
         "78.0",
         "BD DE COURCELLES",
         "2386",
         "75017.0",
         "Paris 17e Arrondissement",
         "202.41",
         "210.0",
         "7.0",
         "2.305905",
         "48.880113",
         "20404.130230719828"
        ],
        [
         "3724",
         "2020-03-11",
         "1790000.0",
         "7.0",
         "RUE DENIS POISSON",
         "2694",
         "75017.0",
         "Paris 17e Arrondissement",
         "172.03",
         "170.0",
         "7.0",
         "2.287282",
         "48.877252",
         "10405.16189036796"
        ],
        [
         "3775",
         "2020-02-12",
         "2355000.0",
         "9.0",
         "RUE GUSTAVE FLAUBERT",
         "4410",
         "75017.0",
         "Paris 17e Arrondissement",
         "219.23",
         "222.0",
         "7.0",
         "2.299133",
         "48.881226",
         "10742.142954887562"
        ],
        [
         "4300",
         "2020-06-19",
         "1633500.0",
         "4.0",
         "RUE DU MONT DORE",
         "6469",
         "75017.0",
         "Paris 17e Arrondissement",
         "146.79",
         "150.0",
         "7.0",
         "2.32333",
         "48.883083",
         "11128.142244022072"
        ],
        [
         "4565",
         "2020-05-20",
         "3000000.0",
         "11.0",
         "AV CARNOT",
         "1556",
         "75017.0",
         "Paris 17e Arrondissement",
         "282.61",
         "300.0",
         "7.0",
         "2.292691",
         "48.875751",
         "10615.3356215279"
        ],
        [
         "4675",
         "2020-07-09",
         "3050000.0",
         "95.0",
         "RUE JOUFFROY D'ABBANS",
         "5031",
         "75017.0",
         "Paris 17e Arrondissement",
         "228.8",
         "225.0",
         "8.0",
         "2.302358",
         "48.882041",
         "13330.41958041958"
        ],
        [
         "4747",
         "2020-07-06",
         "1930700.0",
         "124.0",
         "BD PEREIRE",
         "7258",
         "75017.0",
         "Paris 17e Arrondissement",
         "130.39",
         "139.0",
         "7.0",
         "2.295969",
         "48.884731",
         "14807.117110207839"
        ],
        [
         "5198",
         "2020-09-08",
         "2175000.0",
         "35.0",
         "BD GOUVION ST-CYR",
         "4252",
         "75017.0",
         "Paris 17e Arrondissement",
         "205.69",
         "195.0",
         "7.0",
         "2.287927",
         "48.882973",
         "10574.165005590938"
        ],
        [
         "5307",
         "2020-09-08",
         "3400000.0",
         "9.0",
         "RUE GEORGES BERGER",
         "4119",
         "75017.0",
         "Paris 17e Arrondissement",
         "258.53",
         "263.0",
         "7.0",
         "2.310199",
         "48.881511",
         "13151.278381619155"
        ],
        [
         "5728",
         "2020-10-01",
         "385000.0",
         "16.0",
         "RUE AMPERE",
         "297",
         "75017.0",
         "Paris 17e Arrondissement",
         "35.24",
         "255.0",
         "7.0",
         "2.305376",
         "48.885637",
         "10925.085130533484"
        ],
        [
         "5744",
         "2020-10-13",
         "394300.0",
         "19.0",
         "RUE LAMANDE",
         "5285",
         "75017.0",
         "Paris 17e Arrondissement",
         "36.02",
         "148.0",
         "7.0",
         "2.319097",
         "48.886544",
         "10946.69627984453"
        ],
        [
         "6338",
         "2020-11-30",
         "2690000.0",
         "81.0",
         "AV DE VILLIERS",
         "9841",
         "75017.0",
         "Paris 17e Arrondissement",
         "269.45",
         "256.0",
         "7.0",
         "2.303256",
         "48.883692",
         "9983.299313416219"
        ],
        [
         "6493",
         "2020-11-27",
         "1470000.0",
         "82.0",
         "AV DE WAGRAM",
         "9933",
         "75017.0",
         "Paris 17e Arrondissement",
         "94.8",
         "230.0",
         "8.0",
         "2.301498",
         "48.882226",
         "15506.329113924052"
        ],
        [
         "6590",
         "2020-12-15",
         "1540000.0",
         "194.0",
         "BD MALESHERBES",
         "5951",
         "75017.0",
         "Paris 17e Arrondissement",
         "166.2",
         "166.0",
         "7.0",
         "2.304657",
         "48.889104",
         "9265.944645006017"
        ],
        [
         "8765",
         "2020-06-10",
         "892500.0",
         "43.0",
         "RUE VAUVENARGUES",
         "9628",
         "75018.0",
         "Paris 18e Arrondissement",
         "87.19",
         "173.0",
         "8.0",
         "2.33154",
         "48.894891",
         "10236.265626792063"
        ],
        [
         "8981",
         "2020-06-25",
         "59280.0",
         "15.0",
         "RUE DURANTIN",
         "3029",
         "75018.0",
         "Paris 18e Arrondissement",
         "14.29",
         "17.0",
         "0.0",
         "2.336678",
         "48.885756",
         "4148.3554933519945"
        ],
        [
         "11066",
         "2020-11-17",
         "686100.0",
         "3.0",
         "RUE CARPEAUX",
         "1567",
         "75018.0",
         "Paris 18e Arrondissement",
         "55.45",
         "57.0",
         "0.0",
         "2.329446",
         "48.890367",
         "12373.309287646527"
        ],
        [
         "11078",
         "2020-11-04",
         "290000.0",
         "90.0",
         "RUE DE LA CHAPELLE",
         "1769",
         "75018.0",
         "Paris 18e Arrondissement",
         "67.67",
         "24.0",
         "0.0",
         "2.359854",
         "48.896904",
         "4285.50317718339"
        ],
        [
         "11607",
         "2020-12-21",
         "1671020.0",
         "33.0",
         "RUE MARX DORMOY",
         "6149",
         "75018.0",
         "Paris 18e Arrondissement",
         "242.41",
         "250.0",
         "7.0",
         "2.359277",
         "48.886915",
         "6893.362485045996"
        ],
        [
         "12800",
         "2020-02-04",
         "194000.0",
         "5.0",
         "VLA PAUL VERLAINE",
         "7189",
         "75019.0",
         "Paris 19e Arrondissement",
         "19.18",
         "22.0",
         "0.0",
         "2.38941",
         "48.881395",
         "10114.702815432742"
        ],
        [
         "14502",
         "2020-06-18",
         "295000.0",
         "77.0",
         "RUE DE BAGNOLET",
         "626",
         "75020.0",
         "Paris 20e Arrondissement",
         "33.89",
         "130.0",
         "7.0",
         "2.400136",
         "48.858239",
         "8704.632634995574"
        ],
        [
         "14729",
         "2020-06-03",
         "210000.0",
         "16.0",
         "RUE DU CAPITAINE FERBER",
         "1500",
         "75020.0",
         "Paris 20e Arrondissement",
         "23.3",
         "24.0",
         "0.0",
         "2.405696",
         "48.865409",
         "9012.875536480686"
        ],
        [
         "15550",
         "2020-08-12",
         "1026617.0",
         "14.0",
         "RUE DE THIONVILLE",
         "9284",
         "75019.0",
         "Paris 19e Arrondissement",
         "117.13",
         "115.0",
         "7.0",
         "2.382923",
         "48.888432",
         "8764.765645009818"
        ],
        [
         "18369",
         "2020-01-06",
         "3400000.0",
         "19.0",
         "BD HENRI IV",
         "4583",
         "75004.0",
         "Paris 4e Arrondissement",
         "281.91",
         "280.0",
         "8.0",
         "2.363672",
         "48.851919",
         "12060.586712071226"
        ],
        [
         "18498",
         "2020-01-17",
         "2482300.0",
         "4.0",
         "QUAI DES CELESTINS",
         "1636",
         "75004.0",
         "Paris 4e Arrondissement",
         "69.5",
         "235.0",
         "7.0",
         "2.362045",
         "48.851969",
         "35716.546762589925"
        ],
        [
         "19008",
         "2020-05-29",
         "242000.0",
         "10.0",
         "RUE DE SEVIGNE",
         "8953",
         "75004.0",
         "Paris 4e Arrondissement",
         "15.35",
         "11.0",
         "10.0",
         "2.362383",
         "48.855556",
         "15765.472312703583"
        ],
        [
         "19886",
         "2020-11-20",
         "514080.0",
         "24.0",
         "RUE ST LOUIS EN L ILE",
         "8678",
         "75004.0",
         "Paris 4e Arrondissement",
         "33.8",
         "20.0",
         "0.0",
         "2.357856",
         "48.851576",
         "15209.467455621303"
        ],
        [
         "19889",
         "2020-11-19",
         "1054148.9",
         "28.0",
         "RUE DU BOURG TIBOURG",
         "1209",
         "75004.0",
         "Paris 4e Arrondissement",
         "55.81",
         "175.0",
         "7.0",
         "2.356741",
         "48.857569",
         "18888.17237054291"
        ],
        [
         "20721",
         "2020-10-07",
         "290000.0",
         "20.0",
         "RUE DE LA VEGA",
         "9639",
         "75012.0",
         "Paris 12e Arrondissement",
         "28.14",
         "20.0",
         "0.0",
         "2.405661",
         "48.837774",
         "10305.614783226723"
        ]
       ],
       "shape": {
        "columns": 13,
        "rows": 496
       }
      },
      "text/html": [
       "<div>\n",
       "<style scoped>\n",
       "    .dataframe tbody tr th:only-of-type {\n",
       "        vertical-align: middle;\n",
       "    }\n",
       "\n",
       "    .dataframe tbody tr th {\n",
       "        vertical-align: top;\n",
       "    }\n",
       "\n",
       "    .dataframe thead th {\n",
       "        text-align: right;\n",
       "    }\n",
       "</style>\n",
       "<table border=\"1\" class=\"dataframe\">\n",
       "  <thead>\n",
       "    <tr style=\"text-align: right;\">\n",
       "      <th></th>\n",
       "      <th>date_mutation</th>\n",
       "      <th>valeur_fonciere</th>\n",
       "      <th>adresse_numero</th>\n",
       "      <th>adresse_nom_voie</th>\n",
       "      <th>adresse_code_voie</th>\n",
       "      <th>code_postal</th>\n",
       "      <th>nom_commune</th>\n",
       "      <th>lot1_surface_carrez</th>\n",
       "      <th>surface_reelle_bati</th>\n",
       "      <th>nombre_pieces_principales</th>\n",
       "      <th>longitude</th>\n",
       "      <th>latitude</th>\n",
       "      <th>prix_au_m2</th>\n",
       "    </tr>\n",
       "  </thead>\n",
       "  <tbody>\n",
       "    <tr>\n",
       "      <th>9</th>\n",
       "      <td>2020-01-03</td>\n",
       "      <td>2350000.0</td>\n",
       "      <td>83.0</td>\n",
       "      <td>RUE DE MONCEAU</td>\n",
       "      <td>6419</td>\n",
       "      <td>75008.0</td>\n",
       "      <td>Paris 8e Arrondissement</td>\n",
       "      <td>204.32</td>\n",
       "      <td>212.0</td>\n",
       "      <td>8.0</td>\n",
       "      <td>2.315064</td>\n",
       "      <td>48.880175</td>\n",
       "      <td>11501.566171</td>\n",
       "    </tr>\n",
       "    <tr>\n",
       "      <th>307</th>\n",
       "      <td>2020-01-28</td>\n",
       "      <td>2607500.0</td>\n",
       "      <td>6.0</td>\n",
       "      <td>RUE ST PHILIPPE DU ROULE</td>\n",
       "      <td>8728</td>\n",
       "      <td>75008.0</td>\n",
       "      <td>Paris 8e Arrondissement</td>\n",
       "      <td>201.48</td>\n",
       "      <td>200.0</td>\n",
       "      <td>7.0</td>\n",
       "      <td>2.308209</td>\n",
       "      <td>48.873089</td>\n",
       "      <td>12941.731189</td>\n",
       "    </tr>\n",
       "    <tr>\n",
       "      <th>439</th>\n",
       "      <td>2020-02-07</td>\n",
       "      <td>4342410.0</td>\n",
       "      <td>32.0</td>\n",
       "      <td>AV PIERRE 1ER DE SERBIE</td>\n",
       "      <td>7471</td>\n",
       "      <td>75008.0</td>\n",
       "      <td>Paris 8e Arrondissement</td>\n",
       "      <td>268.87</td>\n",
       "      <td>269.0</td>\n",
       "      <td>8.0</td>\n",
       "      <td>2.300059</td>\n",
       "      <td>48.867550</td>\n",
       "      <td>16150.593223</td>\n",
       "    </tr>\n",
       "    <tr>\n",
       "      <th>880</th>\n",
       "      <td>2020-02-24</td>\n",
       "      <td>2015350.0</td>\n",
       "      <td>15.0</td>\n",
       "      <td>AV DE MESSINE</td>\n",
       "      <td>6296</td>\n",
       "      <td>75008.0</td>\n",
       "      <td>Paris 8e Arrondissement</td>\n",
       "      <td>183.06</td>\n",
       "      <td>173.0</td>\n",
       "      <td>8.0</td>\n",
       "      <td>2.312147</td>\n",
       "      <td>48.876537</td>\n",
       "      <td>11009.231946</td>\n",
       "    </tr>\n",
       "    <tr>\n",
       "      <th>1119</th>\n",
       "      <td>2020-02-26</td>\n",
       "      <td>1930000.0</td>\n",
       "      <td>48.0</td>\n",
       "      <td>RUE DE LA BIENFAISANCE</td>\n",
       "      <td>960</td>\n",
       "      <td>75008.0</td>\n",
       "      <td>Paris 8e Arrondissement</td>\n",
       "      <td>227.80</td>\n",
       "      <td>215.0</td>\n",
       "      <td>7.0</td>\n",
       "      <td>2.314472</td>\n",
       "      <td>48.876844</td>\n",
       "      <td>8472.344162</td>\n",
       "    </tr>\n",
       "    <tr>\n",
       "      <th>...</th>\n",
       "      <td>...</td>\n",
       "      <td>...</td>\n",
       "      <td>...</td>\n",
       "      <td>...</td>\n",
       "      <td>...</td>\n",
       "      <td>...</td>\n",
       "      <td>...</td>\n",
       "      <td>...</td>\n",
       "      <td>...</td>\n",
       "      <td>...</td>\n",
       "      <td>...</td>\n",
       "      <td>...</td>\n",
       "      <td>...</td>\n",
       "    </tr>\n",
       "    <tr>\n",
       "      <th>316838</th>\n",
       "      <td>2022-04-07</td>\n",
       "      <td>5554792.0</td>\n",
       "      <td>11.0</td>\n",
       "      <td>BD DELESSERT</td>\n",
       "      <td>2674</td>\n",
       "      <td>75016.0</td>\n",
       "      <td>Paris 16e Arrondissement</td>\n",
       "      <td>252.02</td>\n",
       "      <td>238.0</td>\n",
       "      <td>7.0</td>\n",
       "      <td>2.286680</td>\n",
       "      <td>48.858657</td>\n",
       "      <td>22041.076105</td>\n",
       "    </tr>\n",
       "    <tr>\n",
       "      <th>317812</th>\n",
       "      <td>2022-05-05</td>\n",
       "      <td>3160000.0</td>\n",
       "      <td>50.0</td>\n",
       "      <td>BD EMILE AUGIER</td>\n",
       "      <td>3207</td>\n",
       "      <td>75016.0</td>\n",
       "      <td>Paris 16e Arrondissement</td>\n",
       "      <td>233.51</td>\n",
       "      <td>169.0</td>\n",
       "      <td>7.0</td>\n",
       "      <td>2.273114</td>\n",
       "      <td>48.862526</td>\n",
       "      <td>13532.611023</td>\n",
       "    </tr>\n",
       "    <tr>\n",
       "      <th>336272</th>\n",
       "      <td>2022-08-31</td>\n",
       "      <td>2325000.0</td>\n",
       "      <td>75.0</td>\n",
       "      <td>BD RASPAIL</td>\n",
       "      <td>8045</td>\n",
       "      <td>75006.0</td>\n",
       "      <td>Paris 6e Arrondissement</td>\n",
       "      <td>205.25</td>\n",
       "      <td>198.0</td>\n",
       "      <td>7.0</td>\n",
       "      <td>2.328128</td>\n",
       "      <td>48.848952</td>\n",
       "      <td>11327.649208</td>\n",
       "    </tr>\n",
       "    <tr>\n",
       "      <th>336487</th>\n",
       "      <td>2022-09-02</td>\n",
       "      <td>2810000.0</td>\n",
       "      <td>6.0</td>\n",
       "      <td>AV CONSTANT COQUELIN</td>\n",
       "      <td>2285</td>\n",
       "      <td>75007.0</td>\n",
       "      <td>Paris 7e Arrondissement</td>\n",
       "      <td>205.13</td>\n",
       "      <td>205.0</td>\n",
       "      <td>7.0</td>\n",
       "      <td>2.316983</td>\n",
       "      <td>48.847977</td>\n",
       "      <td>13698.630137</td>\n",
       "    </tr>\n",
       "    <tr>\n",
       "      <th>336944</th>\n",
       "      <td>2022-09-01</td>\n",
       "      <td>7211538.0</td>\n",
       "      <td>134.0</td>\n",
       "      <td>RUE DE GRENELLE</td>\n",
       "      <td>4314</td>\n",
       "      <td>75007.0</td>\n",
       "      <td>Paris 7e Arrondissement</td>\n",
       "      <td>242.00</td>\n",
       "      <td>242.0</td>\n",
       "      <td>7.0</td>\n",
       "      <td>2.317883</td>\n",
       "      <td>48.857693</td>\n",
       "      <td>29799.743802</td>\n",
       "    </tr>\n",
       "  </tbody>\n",
       "</table>\n",
       "<p>496 rows × 13 columns</p>\n",
       "</div>"
      ],
      "text/plain": [
       "       date_mutation  valeur_fonciere  adresse_numero  \\\n",
       "9         2020-01-03        2350000.0            83.0   \n",
       "307       2020-01-28        2607500.0             6.0   \n",
       "439       2020-02-07        4342410.0            32.0   \n",
       "880       2020-02-24        2015350.0            15.0   \n",
       "1119      2020-02-26        1930000.0            48.0   \n",
       "...              ...              ...             ...   \n",
       "316838    2022-04-07        5554792.0            11.0   \n",
       "317812    2022-05-05        3160000.0            50.0   \n",
       "336272    2022-08-31        2325000.0            75.0   \n",
       "336487    2022-09-02        2810000.0             6.0   \n",
       "336944    2022-09-01        7211538.0           134.0   \n",
       "\n",
       "                adresse_nom_voie  adresse_code_voie  code_postal  \\\n",
       "9                 RUE DE MONCEAU               6419      75008.0   \n",
       "307     RUE ST PHILIPPE DU ROULE               8728      75008.0   \n",
       "439      AV PIERRE 1ER DE SERBIE               7471      75008.0   \n",
       "880                AV DE MESSINE               6296      75008.0   \n",
       "1119      RUE DE LA BIENFAISANCE                960      75008.0   \n",
       "...                          ...                ...          ...   \n",
       "316838              BD DELESSERT               2674      75016.0   \n",
       "317812           BD EMILE AUGIER               3207      75016.0   \n",
       "336272                BD RASPAIL               8045      75006.0   \n",
       "336487      AV CONSTANT COQUELIN               2285      75007.0   \n",
       "336944           RUE DE GRENELLE               4314      75007.0   \n",
       "\n",
       "                     nom_commune  lot1_surface_carrez  surface_reelle_bati  \\\n",
       "9        Paris 8e Arrondissement               204.32                212.0   \n",
       "307      Paris 8e Arrondissement               201.48                200.0   \n",
       "439      Paris 8e Arrondissement               268.87                269.0   \n",
       "880      Paris 8e Arrondissement               183.06                173.0   \n",
       "1119     Paris 8e Arrondissement               227.80                215.0   \n",
       "...                          ...                  ...                  ...   \n",
       "316838  Paris 16e Arrondissement               252.02                238.0   \n",
       "317812  Paris 16e Arrondissement               233.51                169.0   \n",
       "336272   Paris 6e Arrondissement               205.25                198.0   \n",
       "336487   Paris 7e Arrondissement               205.13                205.0   \n",
       "336944   Paris 7e Arrondissement               242.00                242.0   \n",
       "\n",
       "        nombre_pieces_principales  longitude   latitude    prix_au_m2  \n",
       "9                             8.0   2.315064  48.880175  11501.566171  \n",
       "307                           7.0   2.308209  48.873089  12941.731189  \n",
       "439                           8.0   2.300059  48.867550  16150.593223  \n",
       "880                           8.0   2.312147  48.876537  11009.231946  \n",
       "1119                          7.0   2.314472  48.876844   8472.344162  \n",
       "...                           ...        ...        ...           ...  \n",
       "316838                        7.0   2.286680  48.858657  22041.076105  \n",
       "317812                        7.0   2.273114  48.862526  13532.611023  \n",
       "336272                        7.0   2.328128  48.848952  11327.649208  \n",
       "336487                        7.0   2.316983  48.847977  13698.630137  \n",
       "336944                        7.0   2.317883  48.857693  29799.743802  \n",
       "\n",
       "[496 rows x 13 columns]"
      ]
     },
     "execution_count": 34,
     "metadata": {},
     "output_type": "execute_result"
    }
   ],
   "source": [
    "valeurs_anormales = [0, 7, 8, 9, 10, 11, 12, 13, 34]\n",
    "df_filtre = df[df['nombre_pieces_principales'].isin(valeurs_anormales)]\n",
    "\n",
    "df_filtre"
   ]
  },
  {
   "cell_type": "markdown",
   "id": "46f911da",
   "metadata": {},
   "source": [
    "#### On décide de garder ces données en remplaçant le chiffre par une estimation du nombre de pièces pour ces données."
   ]
  },
  {
   "cell_type": "code",
   "execution_count": 35,
   "id": "61755f48",
   "metadata": {},
   "outputs": [],
   "source": [
    "# si le nombre de pièce est dans valeures anormales, alors on regarde si il est possible (par exemple 11 pièces pour 280m2 est réaliste),\n",
    "# et on remplace par une estimation si impossible\n",
    "for index, row in df.iterrows():\n",
    "    if row['nombre_pieces_principales'] in valeurs_anormales:\n",
    "        if row['nombre_pieces_principales'] == 0 :\n",
    "            df.at[index, 'nombre_pieces_principales'] = round(row['lot1_surface_carrez'] / 12)\n",
    "        else : \n",
    "            if (row['lot1_surface_carrez']/row['nombre_pieces_principales']) < 7 or (row['lot1_surface_carrez']/row['nombre_pieces_principales']) > 25 : \n",
    "                if pd.notna(row['lot1_surface_carrez']) and round(row['lot1_surface_carrez'] / 12) != 0:\n",
    "                    df.at[index, 'nombre_pieces_principales'] = round(row['lot1_surface_carrez'] / 12)\n",
    "                else:\n",
    "                    df.at[index, 'nombre_pieces_principales'] = 0\n"
   ]
  },
  {
   "cell_type": "markdown",
   "id": "5e08e623",
   "metadata": {},
   "source": [
    "#### On supprime maintenant toutes les lignes où au moins une valeur est nulle"
   ]
  },
  {
   "cell_type": "code",
   "execution_count": 36,
   "id": "39cce5b1",
   "metadata": {},
   "outputs": [],
   "source": [
    "df= df.dropna()"
   ]
  },
  {
   "cell_type": "markdown",
   "id": "f23ee2c4",
   "metadata": {},
   "source": [
    "#### On supprime le code_postal qui est parfaitement corrélé avec l'arrondissement, on créée la colonne pric_au_m2 qui est simplement le prix au mètre carré"
   ]
  },
  {
   "cell_type": "code",
   "execution_count": 37,
   "id": "7da000a2",
   "metadata": {},
   "outputs": [],
   "source": [
    "#df.drop(columns='code_postal', inplace = True)\n",
    "\n",
    "df[\"prix_au_m2\"] = df[\"valeur_fonciere\"] / df[\"lot1_surface_carrez\"]\n",
    "\n",
    "df.drop(columns='valeur_fonciere', inplace = True)"
   ]
  },
  {
   "cell_type": "markdown",
   "id": "9048b5f9",
   "metadata": {},
   "source": [
    "#### On transforme enfin la date en datetime, on ne conserve que l'année"
   ]
  },
  {
   "cell_type": "code",
   "execution_count": 38,
   "id": "a88e6247",
   "metadata": {},
   "outputs": [],
   "source": [
    "# Conversion en datetime si ce n'est pas déjà fait\n",
    "df['date_mutation'] = pd.to_datetime(df['date_mutation'])\n",
    "\n",
    "# Extraire seulement l'année (en tant qu'entier)\n",
    "df['année'] = df['date_mutation'].dt.year"
   ]
  },
  {
   "cell_type": "code",
   "execution_count": 39,
   "id": "8e138017",
   "metadata": {},
   "outputs": [],
   "source": [
    "# Convertir en entier puis extraire les deux derniers chiffres\n",
    "df['arrondissement'] = df['code_postal'].astype(int) % 100\n",
    "\n",
    "df.drop(columns=\"code_postal\", inplace=True)\n",
    "df.drop(columns='nom_commune', inplace=True)"
   ]
  },
  {
   "cell_type": "code",
   "execution_count": 40,
   "id": "fc1bcf3b",
   "metadata": {},
   "outputs": [],
   "source": [
    "# On exporte au format csv pour l'utiliser pour l'entrainement\n",
    "df.to_csv(\"data/data_cleaned.csv\", index=False)"
   ]
  }
 ],
 "metadata": {
  "kernelspec": {
   "display_name": "project-env",
   "language": "python",
   "name": "python3"
  },
  "language_info": {
   "codemirror_mode": {
    "name": "ipython",
    "version": 3
   },
   "file_extension": ".py",
   "mimetype": "text/x-python",
   "name": "python",
   "nbconvert_exporter": "python",
   "pygments_lexer": "ipython3",
   "version": "3.11.0"
  }
 },
 "nbformat": 4,
 "nbformat_minor": 5
}
